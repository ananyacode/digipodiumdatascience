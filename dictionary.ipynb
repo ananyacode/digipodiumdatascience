{
 "cells": [
  {
   "cell_type": "code",
   "execution_count": 1,
   "metadata": {},
   "outputs": [
    {
     "name": "stdout",
     "output_type": "stream",
     "text": [
      "{'first name': 'rakesh', 'last number': 'kumar', 'age': '24', 'address': {'house no': '234', 'street': 'Aashiana', 'city': 'lucknow', 'state': 'uttar pradesh'}}\n"
     ]
    }
   ],
   "source": [
    "raju = {\n",
    "    'first name' : 'rakesh',\n",
    "    'last number' : 'kumar',\n",
    "    'age' : '24',\n",
    "    'address' : {\n",
    "        'house no': '234',\n",
    "        'street': 'Aashiana',\n",
    "        'city': 'lucknow',\n",
    "        'state': 'uttar pradesh'   \n",
    " }\n",
    "}\n",
    "print(raju)"
   ]
  },
  {
   "cell_type": "code",
   "execution_count": 2,
   "metadata": {},
   "outputs": [
    {
     "name": "stdout",
     "output_type": "stream",
     "text": [
      "rakesh\n",
      "24\n",
      "{'house no': '234', 'street': 'Aashiana', 'city': 'lucknow', 'state': 'uttar pradesh'}\n",
      "lucknow\n"
     ]
    }
   ],
   "source": [
    "print(raju['first name'])\n",
    "print(raju['age'])\n",
    "print(raju['address'])\n",
    "print(raju['address']['city'])"
   ]
  },
  {
   "cell_type": "code",
   "execution_count": 3,
   "metadata": {},
   "outputs": [
    {
     "name": "stdout",
     "output_type": "stream",
     "text": [
      "rakesh\n",
      "None\n",
      "not found\n"
     ]
    }
   ],
   "source": [
    "print(raju.get('first name', 'not found'))     # default value optional\n",
    "print(raju.get('middle name')) \n",
    "print(raju.get('middle name', 'not found'))    # default value optional"
   ]
  },
  {
   "cell_type": "code",
   "execution_count": 4,
   "metadata": {},
   "outputs": [
    {
     "name": "stdout",
     "output_type": "stream",
     "text": [
      "{'first name': 'rakesh', 'last number': 'kumar', 'age': 25, 'address': {'house no': '234', 'street': 'Aashiana', 'city': 'lucknow', 'state': 'uttar pradesh'}}\n"
     ]
    }
   ],
   "source": [
    "raju['age'] = 25\n",
    "print(raju)"
   ]
  },
  {
   "cell_type": "code",
   "execution_count": 5,
   "metadata": {},
   "outputs": [
    {
     "name": "stdout",
     "output_type": "stream",
     "text": [
      "{'first name': 'rakesh', 'last number': 'kumar', 'age': 25, 'address': {'house no': '234', 'street': 'Aashiana', 'city': 'lucknow', 'state': 'uttar pradesh', 'country': 'India'}, 'middle name': 'Akash', 'phone': '28738790'}\n"
     ]
    }
   ],
   "source": [
    "# addind an entry\n",
    "raju['middle name'] = 'Akash'\n",
    "raju['address']['country'] = 'India'\n",
    "raju['phone'] = '28738790'\n",
    "\n",
    "print(raju)"
   ]
  },
  {
   "cell_type": "code",
   "execution_count": 6,
   "metadata": {},
   "outputs": [
    {
     "data": {
      "text/plain": [
       "'Akash'"
      ]
     },
     "execution_count": 6,
     "metadata": {},
     "output_type": "execute_result"
    }
   ],
   "source": [
    "raju.pop('middle name')"
   ]
  },
  {
   "cell_type": "code",
   "execution_count": 7,
   "metadata": {},
   "outputs": [
    {
     "name": "stdout",
     "output_type": "stream",
     "text": [
      "dict_keys(['first name', 'last number', 'age', 'address', 'phone'])\n",
      "dict_values(['rakesh', 'kumar', 25, {'house no': '234', 'street': 'Aashiana', 'city': 'lucknow', 'state': 'uttar pradesh', 'country': 'India'}, '28738790'])\n",
      "dict_items([('first name', 'rakesh'), ('last number', 'kumar'), ('age', 25), ('address', {'house no': '234', 'street': 'Aashiana', 'city': 'lucknow', 'state': 'uttar pradesh', 'country': 'India'}), ('phone', '28738790')])\n"
     ]
    }
   ],
   "source": [
    "# list all keys\n",
    "print(raju.keys())\n",
    "# list all values\n",
    "print(raju.values())\n",
    "# list all key-value pair\n",
    "print(raju.items())"
   ]
  },
  {
   "cell_type": "code",
   "execution_count": 8,
   "metadata": {},
   "outputs": [
    {
     "name": "stdout",
     "output_type": "stream",
     "text": [
      "rakesh\n",
      "kumar\n",
      "25\n",
      "{'house no': '234', 'street': 'Aashiana', 'city': 'lucknow', 'state': 'uttar pradesh', 'country': 'India'}\n",
      "28738790\n"
     ]
    }
   ],
   "source": [
    "for key in raju:\n",
    "    print(raju[key])"
   ]
  },
  {
   "cell_type": "code",
   "execution_count": 9,
   "metadata": {},
   "outputs": [
    {
     "name": "stdout",
     "output_type": "stream",
     "text": [
      "first name rakesh\n",
      "last number kumar\n",
      "age 25\n",
      "address {'house no': '234', 'street': 'Aashiana', 'city': 'lucknow', 'state': 'uttar pradesh', 'country': 'India'}\n",
      "phone 28738790\n"
     ]
    }
   ],
   "source": [
    "for k, v in raju.items():\n",
    "    print(k, v)"
   ]
  },
  {
   "cell_type": "code",
   "execution_count": 10,
   "metadata": {},
   "outputs": [
    {
     "data": {
      "text/plain": [
       "'India'"
      ]
     },
     "execution_count": 10,
     "metadata": {},
     "output_type": "execute_result"
    }
   ],
   "source": [
    "raju['address'].pop('country')"
   ]
  },
  {
   "cell_type": "code",
   "execution_count": 11,
   "metadata": {},
   "outputs": [],
   "source": [
    "# create a dictionary of 5 employees of account dept in ACME company\n",
    "acme = {\n",
    "    'accounts':{    }\n",
    "}\n",
    "for i in range(5):\n",
    "    name = input('enter name:')\n",
    "    desig = input('enter designation:')\n",
    "    sal = int(input('enter salary:'))\n",
    "    acme['accounts'][f'emp{i}'] = {\n",
    "        'name' : name,\n",
    "        'designation' : desig,\n",
    "        'salary' : sal\n",
    "    }"
   ]
  },
  {
   "cell_type": "code",
   "execution_count": 12,
   "metadata": {},
   "outputs": [],
   "source": [
    "from pprint import pp"
   ]
  },
  {
   "cell_type": "code",
   "execution_count": 13,
   "metadata": {},
   "outputs": [
    {
     "name": "stdout",
     "output_type": "stream",
     "text": [
      "{'accounts': {'emp0': {'name': 'ananya',\n",
      "                       'designation': 'manager',\n",
      "                       'salary': 20000},\n",
      "              'emp1': {'name': 'vidushi',\n",
      "                       'designation': 'founder',\n",
      "                       'salary': 30000},\n",
      "              'emp2': {'name': 'namita',\n",
      "                       'designation': 'data analyst',\n",
      "                       'salary': 23455},\n",
      "              'emp3': {'name': 'anshika',\n",
      "                       'designation': 'team leader',\n",
      "                       'salary': 20000},\n",
      "              'emp4': {'name': 'taylor',\n",
      "                       'designation': 'web developer',\n",
      "                       'salary': 23000}}}\n"
     ]
    }
   ],
   "source": [
    "pp(acme)"
   ]
  },
  {
   "cell_type": "code",
   "execution_count": 14,
   "metadata": {},
   "outputs": [
    {
     "name": "stdout",
     "output_type": "stream",
     "text": [
      "116455\n"
     ]
    }
   ],
   "source": [
    "answer = 0\n",
    "for emp in acme['accounts']:\n",
    "  answer += acme['accounts'][emp]['salary']\n",
    "print(answer)"
   ]
  },
  {
   "cell_type": "code",
   "execution_count": 15,
   "metadata": {},
   "outputs": [
    {
     "name": "stdout",
     "output_type": "stream",
     "text": [
      "found  not contact\n",
      "add contact\n",
      "contact added\n",
      "found  not contact\n",
      "add contact\n",
      "contact added\n",
      "found  not contact\n",
      "add contact\n",
      "contact added\n",
      "found  not contact\n",
      "add contact\n",
      "contact added\n",
      "found  not contact\n",
      "add contact\n",
      "contact added\n",
      "found  not contact\n",
      "add contact\n",
      "contact added\n",
      "found  not contact\n",
      "add contact\n",
      "contact added\n",
      "found contact\n",
      "name police\n",
      "number 112\n"
     ]
    }
   ],
   "source": [
    "# create a contact dictionary and let user check if a contact exist\n",
    "# if yes, print the contact details\n",
    "# if no, ask user to add the contact\n",
    "contacts = {'police':112}\n",
    "while True:\n",
    "    contact_name = input('enter contact name:')\n",
    "    if contact_name in contacts:\n",
    "        print('found contact')\n",
    "        print('name',contact_name)\n",
    "        print('number', contacts[contact_name])\n",
    "    elif contact_name == 'exit':\n",
    "        break\n",
    "    else:\n",
    "        print('found  not contact')\n",
    "        print('add contact')\n",
    "        contact_number = input('enter a contact number:')\n",
    "        contacts[contact_name] = contact_number\n",
    "        print ('contact added')"
   ]
  }
 ],
 "metadata": {
  "kernelspec": {
   "display_name": "base",
   "language": "python",
   "name": "python3"
  },
  "language_info": {
   "codemirror_mode": {
    "name": "ipython",
    "version": 3
   },
   "file_extension": ".py",
   "mimetype": "text/x-python",
   "name": "python",
   "nbconvert_exporter": "python",
   "pygments_lexer": "ipython3",
   "version": "3.11.4"
  },
  "orig_nbformat": 4
 },
 "nbformat": 4,
 "nbformat_minor": 2
}
