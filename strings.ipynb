{
 "cells": [
  {
   "attachments": {},
   "cell_type": "markdown",
   "metadata": {},
   "source": [
    "- String creations\n",
    "- indexing and sliding\n",
    "- methods\n",
    " - format \n",
    " - validation\n",
    " - utility"
   ]
  },
  {
   "cell_type": "code",
   "execution_count": 1,
   "metadata": {},
   "outputs": [],
   "source": [
    "a= 'apple'\n",
    "name= 'alcazar'\n",
    "address = r'C:\\Users\\HP\\Documents' # row string\n"
   ]
  },
  {
   "cell_type": "code",
   "execution_count": 2,
   "metadata": {},
   "outputs": [
    {
     "data": {
      "text/plain": [
       "'apple'"
      ]
     },
     "execution_count": 2,
     "metadata": {},
     "output_type": "execute_result"
    }
   ],
   "source": [
    "a"
   ]
  },
  {
   "cell_type": "code",
   "execution_count": 3,
   "metadata": {},
   "outputs": [
    {
     "data": {
      "text/plain": [
       "'a'"
      ]
     },
     "execution_count": 3,
     "metadata": {},
     "output_type": "execute_result"
    }
   ],
   "source": [
    "a[0]  # string is immutable does not support"
   ]
  },
  {
   "cell_type": "code",
   "execution_count": 5,
   "metadata": {},
   "outputs": [
    {
     "name": "stdout",
     "output_type": "stream",
     "text": [
      "0 a\n",
      "1 p\n",
      "2 p\n",
      "3 l\n",
      "4 e\n"
     ]
    }
   ],
   "source": [
    "# indexing\n",
    "for i, c in enumerate(a):\n",
    "    print(i, c)"
   ]
  },
  {
   "cell_type": "code",
   "execution_count": 6,
   "metadata": {},
   "outputs": [
    {
     "name": "stdout",
     "output_type": "stream",
     "text": [
      "e l p p a\n"
     ]
    }
   ],
   "source": [
    "print(a[-1], a[-2], a[-3], a[-4], a[-5]) "
   ]
  },
  {
   "cell_type": "code",
   "execution_count": 7,
   "metadata": {},
   "outputs": [
    {
     "name": "stdout",
     "output_type": "stream",
     "text": [
      "william shakespeare\n"
     ]
    }
   ],
   "source": [
    "name = 'william shakespeare'\n",
    "print(name)"
   ]
  },
  {
   "cell_type": "code",
   "execution_count": 8,
   "metadata": {},
   "outputs": [
    {
     "data": {
      "text/plain": [
       "'shake'"
      ]
     },
     "execution_count": 8,
     "metadata": {},
     "output_type": "execute_result"
    }
   ],
   "source": [
    "# slicing\n",
    "name[8:13]"
   ]
  },
  {
   "cell_type": "code",
   "execution_count": 11,
   "metadata": {},
   "outputs": [
    {
     "data": {
      "text/plain": [
       "'peare'"
      ]
     },
     "execution_count": 11,
     "metadata": {},
     "output_type": "execute_result"
    }
   ],
   "source": [
    "name[-5:] # if ending is not given we go till the end"
   ]
  },
  {
   "cell_type": "code",
   "execution_count": 13,
   "metadata": {},
   "outputs": [
    {
     "data": {
      "text/plain": [
       "'will'"
      ]
     },
     "execution_count": 13,
     "metadata": {},
     "output_type": "execute_result"
    }
   ],
   "source": [
    "name[:4] # starting is 0, so we don't put anything"
   ]
  },
  {
   "cell_type": "code",
   "execution_count": 16,
   "metadata": {},
   "outputs": [
    {
     "name": "stdout",
     "output_type": "stream",
     "text": [
      "william\n",
      "shakespeare\n"
     ]
    }
   ],
   "source": [
    "print(name[:7])\n",
    "print(name[8:])"
   ]
  },
  {
   "cell_type": "code",
   "execution_count": 17,
   "metadata": {},
   "outputs": [
    {
     "data": {
      "text/plain": [
       "'wlimsaepae'"
      ]
     },
     "execution_count": 17,
     "metadata": {},
     "output_type": "execute_result"
    }
   ],
   "source": [
    "name[::2] # FOR GAPS OR SKIPS"
   ]
  },
  {
   "cell_type": "code",
   "execution_count": 18,
   "metadata": {},
   "outputs": [
    {
     "data": {
      "text/plain": [
       "'eapeasmilw'"
      ]
     },
     "execution_count": 18,
     "metadata": {},
     "output_type": "execute_result"
    }
   ],
   "source": [
    "name[::-2] "
   ]
  },
  {
   "attachments": {},
   "cell_type": "markdown",
   "metadata": {},
   "source": [
    "syntax\n",
    " var[start : stop : step]"
   ]
  },
  {
   "cell_type": "code",
   "execution_count": 23,
   "metadata": {},
   "outputs": [],
   "source": [
    "msg = 'you should netflix and chill'"
   ]
  },
  {
   "cell_type": "code",
   "execution_count": 24,
   "metadata": {},
   "outputs": [
    {
     "name": "stdout",
     "output_type": "stream",
     "text": [
      "YOU SHOULD NETFLIX AND CHILL\n",
      "you should netflix and chill\n",
      "You Should Netflix And Chill\n",
      "You should netflix and chill\n",
      "YOU SHOULD NETFLIX AND CHILL\n"
     ]
    }
   ],
   "source": [
    "print(msg.upper())\n",
    "print(msg.lower())\n",
    "print(msg.title())\n",
    "print(msg.capitalize())\n",
    "print(msg.swapcase())"
   ]
  },
  {
   "cell_type": "code",
   "execution_count": 26,
   "metadata": {},
   "outputs": [
    {
     "name": "stdout",
     "output_type": "stream",
     "text": [
      "False\n",
      "True\n",
      "YOU SHOULD NETFLIX AND CHILL\n",
      "True\n",
      "True\n",
      "True\n",
      "False\n"
     ]
    }
   ],
   "source": [
    "print(msg.isupper())\n",
    "print(msg.islower())\n",
    "print(msg.upper())\n",
    "print('hello'.isalpha())\n",
    "print('123'.isnumeric())\n",
    "print('Mr. Raja'.startswith('Mr'))\n",
    "print('Raja'.startswith('Mr'))"
   ]
  },
  {
   "cell_type": "code",
   "execution_count": 27,
   "metadata": {},
   "outputs": [
    {
     "name": "stdout",
     "output_type": "stream",
     "text": [
      "you have given a python file \n",
      "from turtle import*\n",
      "import turtle\n",
      "def draw_square():\n",
      "    t = turtle.Turtle()\n",
      "    t.fd(100)\n",
      "    t.rt(90)\n",
      "    t.fd(100)\n",
      "    t.rt(90)\n",
      "    t.fd(100)\n",
      "    t.rt(90)\n",
      "    t.fd(100)\n",
      "    t.rt(90)\n",
      "def draw_rectangle():\n",
      "    t1 = turtle.Turtle()\n",
      "    t1.fd(150)\n",
      "    t1.rt(90)\n",
      "    t1.fd(150)\n",
      "    t1.rt(90)\n",
      "    t1.fd(150)\n",
      "    t1.rt(90)\n",
      "    t1.fd(150)\n",
      "    t1.rt(90)\n",
      "def draw_hexagon():\n",
      "    t3=turtle.Turtle()\n",
      "    t3.fd(150)\n",
      "    t3.rt(60)\n",
      "    t3.fd(150)\n",
      "    t3.rt(60)\n",
      "    t3.fd(150)\n",
      "    t3.rt(60)\n",
      "    t3.fd(150)\n",
      "    t3.rt(60)\n",
      "    t3.fd(150)\n",
      "    t3.rt(60)\n",
      "    t3.fd(150)\n",
      "    t3.rt(60)\n",
      "def draw_triangle():\n",
      "    t4=turtle.Turtle()\n",
      "    fd(150)\n",
      "    lt(120)\n",
      "    fd(150)\n",
      "    lt(120)\n",
      "    fd(150)\n",
      "    lt(120)\n",
      "def draw_pentagon():\n",
      "    t5=turtle.Turtle()\n",
      "    t5.fd(100)\n",
      "    t5.rt(72)\n",
      "    t5.fd(100)\n",
      "    t5.rt(72)\n",
      "    t5.fd(100)\n",
      "    t5.rt(72)\n",
      "    t5.fd(100)\n",
      "    t5.rt(72)\n",
      "    t5.fd(100)\n",
      "    t5.rt(72)\n",
      "def draw_heptagon():\n",
      "    t6=turtle.Turtle()\n",
      "    t6.fd(100)\n",
      "    t6.rt(51.42)\n",
      "    t6.fd(100)\n",
      "    t6.rt(51.42)\n",
      "    t6.fd(100)\n",
      "    t6.rt(51.42)\n",
      "    t6.fd(100)\n",
      "    t6.rt(51.42)\n",
      "    t6.fd(100)\n",
      "    t6.rt(51.42)\n",
      "    t6.fd(100)\n",
      "    t6.rt(51.42)\n",
      "    t6.fd(100)\n",
      "    t6.rt(51.42)\n",
      "def draw_octagon():\n",
      "    t7=turtle.Turtle()\n",
      "    t7.fd(100)\n",
      "    t7.rt(45)\n",
      "    t7.fd(100)\n",
      "    t7.rt(45)\n",
      "    t7.fd(100)\n",
      "    t7.rt(45)\n",
      "    t7.fd(100)\n",
      "    t7.rt(45)\n",
      "    t7.fd(100)\n",
      "    t7.rt(45)\n",
      "    t7.fd(100)\n",
      "    t7.rt(45)\n",
      "    t7.fd(100)\n",
      "    t7.rt(45)\n",
      "    t7.fd(100)\n",
      "    t7.rt(45)\n",
      "\n",
      "def draw_nanogon():\n",
      "    t8=turtle.Turtle()\n",
      "    t8.fd(100)\n",
      "    t8.rt(40)\n",
      "    t8.fd(100)\n",
      "    t8.rt(40)\n",
      "    t8.fd(100)\n",
      "    t8.rt(40)\n",
      "    t8.fd(100)\n",
      "    t8.rt(40)\n",
      "    t8.fd(100)\n",
      "    t8.rt(40)\n",
      "    t8.fd(100)\n",
      "    t8.rt(40)\n",
      "    t8.fd(100)\n",
      "    t8.rt(40)\n",
      "    t8.fd(100)\n",
      "    t8.rt(40)\n",
      "def draw_decagon():\n",
      "    t9=turtle.Turtle()\n",
      "    t9.fd(100)\n",
      "    t9.rt(36)\n",
      "    t9.fd(100)\n",
      "    t9.rt(36)\n",
      "    t9.fd(100)\n",
      "    t9.rt(36)\n",
      "    t9.fd(100)\n",
      "    t9.rt(36)\n",
      "    t9.fd(100)\n",
      "    t9.rt(36)\n",
      "    t9.fd(100)\n",
      "    t9.rt(36)\n",
      "    t9.fd(100)\n",
      "    t9.rt(36)\n",
      "    t9.fd(100)\n",
      "    t9.rt(36)\n",
      "    t9.fd(100)\n",
      "    t9.rt(36)\n",
      "    t9.fd(100)\n",
      "    t9.rt(36)\n",
      "def draw_circle():\n",
      "    t_circle=turtle.Turtle()\n",
      "    t_circle.circle(50)\n",
      "def draw_c1():\n",
      "    c1=turtle.Turtle()\n",
      "    c1.dot(50)\n",
      "def draw_star():\n",
      "    s=turtle.Turtle()\n",
      "    s.fd(100)\n",
      "    s.rt(75)\n",
      "    for i in range(4):\n",
      "        s.fd(100)\n",
      "        s.rt(144)\n",
      "draw_star()\n",
      "\n",
      "\n",
      "\n",
      "\n",
      "hideturtle() # hide the turtle\n",
      "\n",
      "mainloop() # hold the window open\n",
      "\n",
      "\n"
     ]
    }
   ],
   "source": [
    "file = input('enter a file path')\n",
    "if file.endswith('.py'):\n",
    "    print('you have given a python file ')\n",
    "    content = open(file).read() \n",
    "    print(content)\n",
    "else:\n",
    "    print('you have given me something else')\n",
    "    print('shame on you 🤬')"
   ]
  },
  {
   "attachments": {},
   "cell_type": "markdown",
   "metadata": {},
   "source": [
    "Utility Functions \n",
    "- find()\n",
    "- replace()\n",
    "- split()\n",
    "- splitlines()\n",
    "- count()\n",
    "- strip()\n",
    "- join()\n"
   ]
  },
  {
   "cell_type": "code",
   "execution_count": 28,
   "metadata": {},
   "outputs": [
    {
     "data": {
      "text/plain": [
       "8"
      ]
     },
     "execution_count": 28,
     "metadata": {},
     "output_type": "execute_result"
    }
   ],
   "source": [
    "quote = 'Journey Before Destination'\n",
    "quote.find('Before')"
   ]
  },
  {
   "cell_type": "code",
   "execution_count": 29,
   "metadata": {},
   "outputs": [
    {
     "data": {
      "text/plain": [
       "1"
      ]
     },
     "execution_count": 29,
     "metadata": {},
     "output_type": "execute_result"
    }
   ],
   "source": [
    "quote.find('our')"
   ]
  },
  {
   "cell_type": "code",
   "execution_count": 30,
   "metadata": {},
   "outputs": [
    {
     "data": {
      "text/plain": [
       "-1"
      ]
     },
     "execution_count": 30,
     "metadata": {},
     "output_type": "execute_result"
    }
   ],
   "source": [
    "quote.find('x', 10) # if -1 output string not found"
   ]
  },
  {
   "cell_type": "code",
   "execution_count": 31,
   "metadata": {},
   "outputs": [
    {
     "data": {
      "text/plain": [
       "'Journay Bafora Dastination'"
      ]
     },
     "execution_count": 31,
     "metadata": {},
     "output_type": "execute_result"
    }
   ],
   "source": [
    "quote.replace('e','a')"
   ]
  },
  {
   "cell_type": "code",
   "execution_count": 32,
   "metadata": {},
   "outputs": [
    {
     "data": {
      "text/plain": [
       "'Travelling to Destination'"
      ]
     },
     "execution_count": 32,
     "metadata": {},
     "output_type": "execute_result"
    }
   ],
   "source": [
    "quote.replace('Journey', 'Travelling').replace('Before','to')"
   ]
  },
  {
   "cell_type": "code",
   "execution_count": 33,
   "metadata": {},
   "outputs": [
    {
     "data": {
      "text/plain": [
       "'299999'"
      ]
     },
     "execution_count": 33,
     "metadata": {},
     "output_type": "execute_result"
    }
   ],
   "source": [
    "amt = '$299,999 dollars'\n",
    "amt.replace('$','').replace(',','').replace('dollars','').replace(' ','')"
   ]
  },
  {
   "cell_type": "code",
   "execution_count": 34,
   "metadata": {},
   "outputs": [
    {
     "name": "stdout",
     "output_type": "stream",
     "text": [
      "299999\n"
     ]
    }
   ],
   "source": [
    "ch = ['$',',','dollars',' ']\n",
    "for c in ch:\n",
    "    amt = amt.replace(c,'')\n",
    "print(amt)"
   ]
  },
  {
   "cell_type": "code",
   "execution_count": 36,
   "metadata": {},
   "outputs": [
    {
     "name": "stdout",
     "output_type": "stream",
     "text": [
      "['you', 'should', 'netflix', 'and', 'chill']\n"
     ]
    }
   ],
   "source": [
    "print(msg.split()) # spaces are used as delimiter"
   ]
  },
  {
   "cell_type": "code",
   "execution_count": 37,
   "metadata": {},
   "outputs": [
    {
     "data": {
      "text/plain": [
       "['we are here', ' we are there', ' and everywhere']"
      ]
     },
     "execution_count": 37,
     "metadata": {},
     "output_type": "execute_result"
    }
   ],
   "source": [
    "msg2 = 'we are here, we are there, and everywhere'\n",
    "msg2.split(',')"
   ]
  },
  {
   "cell_type": "code",
   "execution_count": 38,
   "metadata": {},
   "outputs": [],
   "source": [
    "poem = '''Baa, baa, white sheep\n",
    "Have you any wool?\n",
    "Yes sir, yes sir\n",
    "Three bags full\n",
    "One for the master\n",
    "One for the dame\n",
    "And one for the little girl\n",
    "Who lives down the lane'''"
   ]
  },
  {
   "cell_type": "code",
   "execution_count": 40,
   "metadata": {},
   "outputs": [
    {
     "data": {
      "text/plain": [
       "['Baa,',\n",
       " 'baa,',\n",
       " 'white',\n",
       " 'sheep',\n",
       " 'Have',\n",
       " 'you',\n",
       " 'any',\n",
       " 'wool?',\n",
       " 'Yes',\n",
       " 'sir,',\n",
       " 'yes',\n",
       " 'sir',\n",
       " 'Three',\n",
       " 'bags',\n",
       " 'full',\n",
       " 'One',\n",
       " 'for',\n",
       " 'the',\n",
       " 'master',\n",
       " 'One',\n",
       " 'for',\n",
       " 'the',\n",
       " 'dame',\n",
       " 'And',\n",
       " 'one',\n",
       " 'for',\n",
       " 'the',\n",
       " 'little',\n",
       " 'girl',\n",
       " 'Who',\n",
       " 'lives',\n",
       " 'down',\n",
       " 'the',\n",
       " 'lane']"
      ]
     },
     "execution_count": 40,
     "metadata": {},
     "output_type": "execute_result"
    }
   ],
   "source": [
    "poem.split()"
   ]
  },
  {
   "cell_type": "code",
   "execution_count": 41,
   "metadata": {},
   "outputs": [
    {
     "data": {
      "text/plain": [
       "['Baa, baa, white sheep',\n",
       " 'Have you any wool?',\n",
       " 'Yes sir, yes sir',\n",
       " 'Three bags full',\n",
       " 'One for the master',\n",
       " 'One for the dame',\n",
       " 'And one for the little girl',\n",
       " 'Who lives down the lane']"
      ]
     },
     "execution_count": 41,
     "metadata": {},
     "output_type": "execute_result"
    }
   ],
   "source": [
    "poem.splitlines()"
   ]
  },
  {
   "cell_type": "code",
   "execution_count": null,
   "metadata": {},
   "outputs": [],
   "source": []
  }
 ],
 "metadata": {
  "kernelspec": {
   "display_name": "base",
   "language": "python",
   "name": "python3"
  },
  "language_info": {
   "codemirror_mode": {
    "name": "ipython",
    "version": 3
   },
   "file_extension": ".py",
   "mimetype": "text/x-python",
   "name": "python",
   "nbconvert_exporter": "python",
   "pygments_lexer": "ipython3",
   "version": "3.10.10"
  },
  "orig_nbformat": 4
 },
 "nbformat": 4,
 "nbformat_minor": 2
}
