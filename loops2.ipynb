{
 "cells": [
  {
   "attachments": {},
   "cell_type": "markdown",
   "metadata": {},
   "source": [
    "# Write a program to print numbers from 1 to 10 using a for loop."
   ]
  },
  {
   "cell_type": "code",
   "execution_count": 4,
   "metadata": {},
   "outputs": [
    {
     "name": "stdout",
     "output_type": "stream",
     "text": [
      "1\n",
      "2\n",
      "3\n",
      "4\n",
      "5\n",
      "6\n",
      "7\n",
      "8\n",
      "9\n",
      "10\n"
     ]
    }
   ],
   "source": [
    "\n",
    "for i in range (1,11):\n",
    "    print(i)"
   ]
  },
  {
   "attachments": {},
   "cell_type": "markdown",
   "metadata": {},
   "source": [
    "# Write a program to print the multiplication table of a given number using a while loop."
   ]
  },
  {
   "cell_type": "code",
   "execution_count": 12,
   "metadata": {},
   "outputs": [
    {
     "name": "stdout",
     "output_type": "stream",
     "text": [
      "33 x 1 = 33\n",
      "33 x 2 = 66\n",
      "33 x 3 = 99\n",
      "33 x 4 = 132\n",
      "33 x 5 = 165\n",
      "33 x 6 = 198\n",
      "33 x 7 = 231\n",
      "33 x 8 = 264\n",
      "33 x 9 = 297\n",
      "33 x 10 = 330\n"
     ]
    }
   ],
   "source": [
    "n=int(input('enter a number'))\n",
    "i=1\n",
    "while i<=10:\n",
    "    m=n*i\n",
    "    print(f'{n} x {i} = {m}')\n",
    "    i=i+1"
   ]
  },
  {
   "attachments": {},
   "cell_type": "markdown",
   "metadata": {},
   "source": [
    "# Write a program to find the sum of all even numbers between 1 and 100 using a for loop."
   ]
  },
  {
   "cell_type": "code",
   "execution_count": 14,
   "metadata": {},
   "outputs": [
    {
     "name": "stdout",
     "output_type": "stream",
     "text": [
      "2550\n"
     ]
    }
   ],
   "source": [
    "s=0\n",
    "for i in range(1,101):\n",
    "    if i % 2 == 0:\n",
    "        s=s+i\n",
    "print(s)"
   ]
  },
  {
   "attachments": {},
   "cell_type": "markdown",
   "metadata": {},
   "source": [
    "# Write a program to check if a given number is prime or not using a while loop."
   ]
  },
  {
   "cell_type": "code",
   "execution_count": 17,
   "metadata": {},
   "outputs": [
    {
     "name": "stdout",
     "output_type": "stream",
     "text": [
      "given number is not prime\n"
     ]
    }
   ],
   "source": [
    "n=int(input(\"enter a number\"))\n",
    "i=1 \n",
    "c=0\n",
    "while(i<=10):\n",
    "    if i % n == 0:\n",
    "        c=c+1\n",
    "    i=i+1\n",
    "if c==2:\n",
    "    print(f'given number is prime')\n",
    "else:\n",
    "    print(f'given number is not prime')"
   ]
  },
  {
   "attachments": {},
   "cell_type": "markdown",
   "metadata": {},
   "source": [
    "# Write a program to calculate the factorial of a number using a for loop."
   ]
  },
  {
   "cell_type": "code",
   "execution_count": 20,
   "metadata": {},
   "outputs": [
    {
     "name": "stdout",
     "output_type": "stream",
     "text": [
      "factorial of 5 is 120\n"
     ]
    }
   ],
   "source": [
    "n=int(input(\"enter a number\"))\n",
    "f=1\n",
    "for i in range(1,n+1):\n",
    "    f=f*i\n",
    "print(f'factorial of {n} is {f}')"
   ]
  },
  {
   "attachments": {},
   "cell_type": "markdown",
   "metadata": {},
   "source": [
    "# Write a program to print the Fibonacci series up to a given limit using a while loop."
   ]
  },
  {
   "cell_type": "code",
   "execution_count": 21,
   "metadata": {},
   "outputs": [
    {
     "name": "stdout",
     "output_type": "stream",
     "text": [
      "fibonacci series up to 15 limit\n",
      "0 \n",
      "1 \n",
      "1 \n",
      "2 \n",
      "3 \n",
      "5 \n",
      "8 \n",
      "13 \n"
     ]
    }
   ],
   "source": [
    "limit = int(input(\"enter limit\"))\n",
    "a, b = 0, 1\n",
    "print(f'fibonacci series up to {limit} limit')\n",
    "while a<=limit:\n",
    "    print(a, '')\n",
    "    a, b= b, a+b\n",
    "    "
   ]
  },
  {
   "attachments": {},
   "cell_type": "markdown",
   "metadata": {},
   "source": [
    "# Write a program to find the largest element in an array using a for loop."
   ]
  },
  {
   "cell_type": "code",
   "execution_count": 25,
   "metadata": {},
   "outputs": [
    {
     "name": "stdout",
     "output_type": "stream",
     "text": [
      "largest number in the array 98\n"
     ]
    }
   ],
   "source": [
    "a = [ 13, 43, 56, 32, 23, 98, 21, 52, 11, 76]\n",
    "max = a[0]\n",
    "for i in a:\n",
    "    if i > max:\n",
    "        max = i\n",
    "print(f'largest number in the array {max}')"
   ]
  },
  {
   "attachments": {},
   "cell_type": "markdown",
   "metadata": {},
   "source": [
    "# Write a program to reverse a given string using a while loop."
   ]
  },
  {
   "cell_type": "code",
   "execution_count": 6,
   "metadata": {},
   "outputs": [
    {
     "name": "stdout",
     "output_type": "stream",
     "text": [
      "reverse string aynana\n"
     ]
    }
   ],
   "source": [
    "string = input('enter a string')\n",
    "i=len(string)-1\n",
    "rev = ''\n",
    "while i>=0:\n",
    "    rev=rev+string[i]\n",
    "    i=i-1\n",
    "print(f\"reverse string {rev}\")\n"
   ]
  },
  {
   "attachments": {},
   "cell_type": "markdown",
   "metadata": {},
   "source": [
    "# Write a program to print the ASCII values of all uppercase letters using a for loop."
   ]
  },
  {
   "cell_type": "code",
   "execution_count": 11,
   "metadata": {},
   "outputs": [
    {
     "name": "stdout",
     "output_type": "stream",
     "text": [
      "Character: A, ASCII Value: 65\n",
      "Character: B, ASCII Value: 66\n",
      "Character: C, ASCII Value: 67\n",
      "Character: D, ASCII Value: 68\n",
      "Character: E, ASCII Value: 69\n",
      "Character: F, ASCII Value: 70\n",
      "Character: G, ASCII Value: 71\n",
      "Character: H, ASCII Value: 72\n",
      "Character: I, ASCII Value: 73\n",
      "Character: J, ASCII Value: 74\n",
      "Character: K, ASCII Value: 75\n",
      "Character: L, ASCII Value: 76\n",
      "Character: M, ASCII Value: 77\n",
      "Character: N, ASCII Value: 78\n",
      "Character: O, ASCII Value: 79\n",
      "Character: P, ASCII Value: 80\n",
      "Character: Q, ASCII Value: 81\n",
      "Character: R, ASCII Value: 82\n",
      "Character: S, ASCII Value: 83\n",
      "Character: T, ASCII Value: 84\n",
      "Character: U, ASCII Value: 85\n",
      "Character: V, ASCII Value: 86\n",
      "Character: W, ASCII Value: 87\n",
      "Character: X, ASCII Value: 88\n",
      "Character: Y, ASCII Value: 89\n",
      "Character: Z, ASCII Value: 90\n"
     ]
    }
   ],
   "source": [
    "for letter in 'ABCDEFGHIJKLMNOPQRSTUVWXYZ':\n",
    "    ascii = ord(letter)\n",
    "    print(f'Character: {letter}, ASCII Value: {ascii}')\n"
   ]
  },
  {
   "attachments": {},
   "cell_type": "markdown",
   "metadata": {},
   "source": [
    "# Write a program to check if a given string is a palindrome using a while loop."
   ]
  },
  {
   "cell_type": "code",
   "execution_count": 10,
   "metadata": {},
   "outputs": [
    {
     "name": "stdout",
     "output_type": "stream",
     "text": [
      "given string is a palindrome string\n"
     ]
    }
   ],
   "source": [
    "string = input('enter a string')\n",
    "i=len(string)-1\n",
    "rev = ''\n",
    "while i>=0:\n",
    "    rev=rev+string[i]\n",
    "    i=i-1\n",
    "if string == rev:\n",
    "    print(\"given string is a palindrome string\")\n",
    "else:\n",
    "    print(\"given string is not a palindrome\")"
   ]
  },
  {
   "attachments": {},
   "cell_type": "markdown",
   "metadata": {},
   "source": [
    "# Write a program to calculate the average of a list of numbers using a for loop."
   ]
  },
  {
   "cell_type": "code",
   "execution_count": 9,
   "metadata": {},
   "outputs": [
    {
     "name": "stdout",
     "output_type": "stream",
     "text": [
      "average = 5.444444444444445\n"
     ]
    }
   ],
   "source": [
    "num = [ 2, 4, 6, 1, 3, 5, 9, 8, 11 ]\n",
    "l = len(num)\n",
    "s = 0 \n",
    "for i in num:\n",
    "    s=s+i\n",
    "avg= s/l\n",
    "print(f'average = {avg}')"
   ]
  },
  {
   "attachments": {},
   "cell_type": "markdown",
   "metadata": {},
   "source": [
    "# Write a program to find the smallest element in an array using a while loop."
   ]
  },
  {
   "cell_type": "code",
   "execution_count": 3,
   "metadata": {},
   "outputs": [
    {
     "name": "stdout",
     "output_type": "stream",
     "text": [
      "smallest number of array 1\n"
     ]
    }
   ],
   "source": [
    "a = [ 12, 3, 4, 11, 13, 65, 1, 16]\n",
    "min=a[0]\n",
    "for i in a:\n",
    "    if i <=min:\n",
    "        min = i\n",
    "print(f'smallest number of array {min}')"
   ]
  },
  {
   "attachments": {},
   "cell_type": "markdown",
   "metadata": {},
   "source": [
    "# Write a program to calculate the sum of digits of a number using a for loop."
   ]
  },
  {
   "cell_type": "code",
   "execution_count": 2,
   "metadata": {},
   "outputs": [
    {
     "name": "stdout",
     "output_type": "stream",
     "text": [
      "sum of digits of 122 is 5\n"
     ]
    }
   ],
   "source": [
    "n = int(input(\"enter a number\"))\n",
    "n_str = str(n)\n",
    "s = 0\n",
    "for i in n_str:\n",
    "    d = int(i)\n",
    "    s=s+d\n",
    "print(f'sum of digits of {n} is {s}')"
   ]
  },
  {
   "attachments": {},
   "cell_type": "markdown",
   "metadata": {},
   "source": [
    "# Write a program to check if a given year is a leap year using a while loop."
   ]
  },
  {
   "cell_type": "code",
   "execution_count": 1,
   "metadata": {},
   "outputs": [
    {
     "name": "stdout",
     "output_type": "stream",
     "text": [
      "2002 is not a leap year\n"
     ]
    }
   ],
   "source": [
    "y = int(input(\"enter a number\"))\n",
    "while y >= 0:\n",
    "    if y % 4 == 0 and (y % 100 != 0 or y % 400 == 0):\n",
    "        print(f'{y} is a leap year')\n",
    "    else:\n",
    "        print(f'{y} is not a leap year')\n",
    "    break\n"
   ]
  },
  {
   "attachments": {},
   "cell_type": "markdown",
   "metadata": {},
   "source": [
    "# Write a program to print the multiplication table of numbers from 1 to 5 using a for loop."
   ]
  },
  {
   "cell_type": "code",
   "execution_count": 15,
   "metadata": {},
   "outputs": [
    {
     "name": "stdout",
     "output_type": "stream",
     "text": [
      "1 x 1 = 1\n",
      "1 x 2 = 2\n",
      "1 x 3 = 3\n",
      "1 x 4 = 4\n",
      "1 x 5 = 5\n",
      "1 x 6 = 6\n",
      "1 x 7 = 7\n",
      "1 x 8 = 8\n",
      "1 x 9 = 9\n",
      "1 x 10 = 10\n",
      "2 x 1 = 2\n",
      "2 x 2 = 4\n",
      "2 x 3 = 6\n",
      "2 x 4 = 8\n",
      "2 x 5 = 10\n",
      "2 x 6 = 12\n",
      "2 x 7 = 14\n",
      "2 x 8 = 16\n",
      "2 x 9 = 18\n",
      "2 x 10 = 20\n",
      "3 x 1 = 3\n",
      "3 x 2 = 6\n",
      "3 x 3 = 9\n",
      "3 x 4 = 12\n",
      "3 x 5 = 15\n",
      "3 x 6 = 18\n",
      "3 x 7 = 21\n",
      "3 x 8 = 24\n",
      "3 x 9 = 27\n",
      "3 x 10 = 30\n",
      "4 x 1 = 4\n",
      "4 x 2 = 8\n",
      "4 x 3 = 12\n",
      "4 x 4 = 16\n",
      "4 x 5 = 20\n",
      "4 x 6 = 24\n",
      "4 x 7 = 28\n",
      "4 x 8 = 32\n",
      "4 x 9 = 36\n",
      "4 x 10 = 40\n",
      "5 x 1 = 5\n",
      "5 x 2 = 10\n",
      "5 x 3 = 15\n",
      "5 x 4 = 20\n",
      "5 x 5 = 25\n",
      "5 x 6 = 30\n",
      "5 x 7 = 35\n",
      "5 x 8 = 40\n",
      "5 x 9 = 45\n",
      "5 x 10 = 50\n"
     ]
    }
   ],
   "source": [
    "for n in range(1, 6):\n",
    "    for i in range(1, 11):\n",
    "        m= n*i\n",
    "        print(f'{n} x {i} = {m}')\n",
    "    "
   ]
  },
  {
   "attachments": {},
   "cell_type": "markdown",
   "metadata": {},
   "source": [
    "# Write a program to find the factorial of a number using a while loop."
   ]
  },
  {
   "cell_type": "code",
   "execution_count": 11,
   "metadata": {},
   "outputs": [
    {
     "name": "stdout",
     "output_type": "stream",
     "text": [
      "factorial of n is 120\n"
     ]
    }
   ],
   "source": [
    "n = int(input('enter a number'))\n",
    "f, i = 1, 1\n",
    "while(i<=n):\n",
    "    f=f*i\n",
    "    i=i+1\n",
    "print(f'factorial of n is {f}')"
   ]
  },
  {
   "attachments": {},
   "cell_type": "markdown",
   "metadata": {},
   "source": [
    "# Write a program to count the number of vowels in a given string using a for loop."
   ]
  },
  {
   "cell_type": "code",
   "execution_count": 10,
   "metadata": {},
   "outputs": [
    {
     "name": "stdout",
     "output_type": "stream",
     "text": [
      "number of vowels 3\n"
     ]
    }
   ],
   "source": [
    "str = input('enter a strng')\n",
    "v = 'aeiouAeiou'\n",
    "c = 0\n",
    "for ch in str:\n",
    "    if ch in v:\n",
    "        c = c+1\n",
    "print(f'number of vowels {c}')"
   ]
  },
  {
   "attachments": {},
   "cell_type": "markdown",
   "metadata": {},
   "source": [
    "# Write a program to check if a given number is a perfect square using a while loop."
   ]
  },
  {
   "cell_type": "code",
   "execution_count": 8,
   "metadata": {},
   "outputs": [
    {
     "name": "stdout",
     "output_type": "stream",
     "text": [
      "4 is a perfect square\n"
     ]
    }
   ],
   "source": [
    "n = int(input(\"enter a number\"))\n",
    "if n < 0:\n",
    "    print('{n} not a prefect square')\n",
    "else:\n",
    "    i=1\n",
    "    while i*i <= n:\n",
    "        if i*i == n:\n",
    "            print(f'{n} is a perfect square')\n",
    "            break\n",
    "        i=i+1\n",
    "    else:\n",
    "        print(f'{n} not a perfect square')\n"
   ]
  },
  {
   "attachments": {},
   "cell_type": "markdown",
   "metadata": {},
   "source": [
    "# Write a program to find the largest and smallest elements in an array using a for loop"
   ]
  },
  {
   "cell_type": "code",
   "execution_count": 7,
   "metadata": {},
   "outputs": [
    {
     "name": "stdout",
     "output_type": "stream",
     "text": [
      "largest number of array 98\n",
      "smallest no of the array 4\n"
     ]
    }
   ],
   "source": [
    "a = [4, 5, 41, 7, 43, 98, 34, 24, 8, 54]\n",
    "max = a[0]\n",
    "min = a[0]\n",
    "for i in a :\n",
    "    if i >= max:\n",
    "        max = i\n",
    "    if i <= min:\n",
    "        min = i\n",
    "print(f'largest number of array {max}')\n",
    "print(f'smallest no of the array {min}')\n",
    "\n"
   ]
  },
  {
   "attachments": {},
   "cell_type": "markdown",
   "metadata": {},
   "source": [
    "# Write a program to reverse the order of words in a sentence using a while loop."
   ]
  },
  {
   "cell_type": "code",
   "execution_count": 4,
   "metadata": {},
   "outputs": [
    {
     "name": "stdout",
     "output_type": "stream",
     "text": [
      "ananya is name my\n"
     ]
    }
   ],
   "source": [
    "sentence = input(\"enter a string\")\n",
    "words = sentence.split()\n",
    "i = len(words)-1\n",
    "rev = ''\n",
    "while i>=0:\n",
    "    rev = rev + words[i] + ' '\n",
    "    i=i-1\n",
    "rev = rev.strip()\n",
    "print(rev)\n"
   ]
  }
 ],
 "metadata": {
  "kernelspec": {
   "display_name": "base",
   "language": "python",
   "name": "python3"
  },
  "language_info": {
   "codemirror_mode": {
    "name": "ipython",
    "version": 3
   },
   "file_extension": ".py",
   "mimetype": "text/x-python",
   "name": "python",
   "nbconvert_exporter": "python",
   "pygments_lexer": "ipython3",
   "version": "3.10.10"
  },
  "orig_nbformat": 4
 },
 "nbformat": 4,
 "nbformat_minor": 2
}
