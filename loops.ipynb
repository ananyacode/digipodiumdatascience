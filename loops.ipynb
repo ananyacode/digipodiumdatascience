{
 "cells": [
  {
   "attachments": {},
   "cell_type": "markdown",
   "metadata": {},
   "source": [
    "# python\n",
    "for - step based (when we know no of steps or times OR traversing)\n",
    "while - condition based (no of repeation is unknown OR a condition is known) \n",
    "## for temp in iterable; --> x='fresh'\n",
    "     statement 1\n",
    "     .\n",
    "     .\n",
    "     statement n\n",
    "## iterables\n",
    "     1 - string\n",
    "     2 - list\n",
    "     3 - tuple\n",
    "     4 - set\n",
    "     5 - dic\n",
    "     6 - generaters -> range()\n"
   ]
  },
  {
   "cell_type": "code",
   "execution_count": 1,
   "metadata": {},
   "outputs": [
    {
     "data": {
      "text/plain": [
       "['1', '0', '2', '3', '0', '1', '2']"
      ]
     },
     "execution_count": 1,
     "metadata": {},
     "output_type": "execute_result"
    }
   ],
   "source": [
    "x=1023012\n",
    "list(str(x))"
   ]
  },
  {
   "cell_type": "code",
   "execution_count": 4,
   "metadata": {},
   "outputs": [
    {
     "name": "stdout",
     "output_type": "stream",
     "text": [
      "10\n"
     ]
    }
   ],
   "source": [
    "kdrama = ['business propasal', 'crash landing on you', 'tale of nine taled' , 'true beauty', 'sound of magic', 'hapiness', 'snowdrop', 'nevertheless', 'myname', 'boysoverflower' ] \n",
    "print(len(kdrama))\n"
   ]
  },
  {
   "cell_type": "code",
   "execution_count": 5,
   "metadata": {},
   "outputs": [
    {
     "name": "stdout",
     "output_type": "stream",
     "text": [
      "business propasal                        17 chars\n",
      "crash landing on you                     20 chars\n",
      "tale of nine taled                       18 chars\n",
      "true beauty                              11 chars\n",
      "sound of magic                           14 chars\n",
      "hapiness                                 8 chars\n",
      "snowdrop                                 8 chars\n",
      "nevertheless                             12 chars\n",
      "myname                                   6 chars\n",
      "boysoverflower                           14 chars\n"
     ]
    }
   ],
   "source": [
    "for title in kdrama:\n",
    "    print(f'{title:40} {len(title)} chars')\n",
    "    "
   ]
  },
  {
   "cell_type": "code",
   "execution_count": 6,
   "metadata": {},
   "outputs": [
    {
     "name": "stdout",
     "output_type": "stream",
     "text": [
      "business propasal                        17 chars\n",
      "crash landing on you                     20 chars\n",
      "tale of nine taled                       18 chars\n",
      "true beauty                              11 chars\n",
      "sound of magic                           14 chars\n",
      "hapiness                                 8 chars\n",
      "myname                                   6 chars\n"
     ]
    }
   ],
   "source": [
    "for title in kdrama:\n",
    "    if 'a'in title:\n",
    "        print(f'{title:40} {len(title)} chars')\n",
    "        \n",
    "\n",
    "    \n",
    "    "
   ]
  },
  {
   "cell_type": "code",
   "execution_count": 7,
   "metadata": {},
   "outputs": [
    {
     "name": "stdout",
     "output_type": "stream",
     "text": [
      "crash landing on you                     20 chars\n",
      "tale of nine taled                       18 chars\n",
      "sound of magic                           14 chars\n",
      "snowdrop                                 8 chars\n"
     ]
    }
   ],
   "source": [
    "for title in kdrama:\n",
    "    if 'd'in title:\n",
    "        print(f'{title:40} {len(title)} chars')\n",
    "        "
   ]
  },
  {
   "cell_type": "code",
   "execution_count": 16,
   "metadata": {},
   "outputs": [
    {
     "name": "stdout",
     "output_type": "stream",
     "text": [
      "10\n"
     ]
    }
   ],
   "source": [
    "# nested loops\n",
    "books = [\n",
    "    ['Outlander', 'Diana Gabaldon', 10],\n",
    "    ['Pride and Prejudice', 'Jane Austen', 10],\n",
    "    ['The Notebook', 'Nicholas Sparks', 10],\n",
    "    ['Beach Read', 'Emily Henry', 10],\n",
    "    ['Vision in White', 'Nora Roberts', 10],\n",
    "    ['Me Before You', 'Jojo Mayes', 10],\n",
    "    ['Red White Royal Blue', 'Casey McQuiston', 10],\n",
    "    ['Twilight', 'Stephenie Meyer', 10],\n",
    "    ['The Proposal', 'Jasmine Guillory', 10],\n",
    "    ['The Hating Game', 'Sally Thorne', 10]\n",
    "]\n",
    "print(len(books))\n"
   ]
  },
  {
   "cell_type": "code",
   "execution_count": 17,
   "metadata": {},
   "outputs": [
    {
     "name": "stdout",
     "output_type": "stream",
     "text": [
      "Outlander\n",
      "Diana Gabaldon\n",
      "10\n",
      "\n",
      "Pride and Prejudice\n",
      "Jane Austen\n",
      "10\n",
      "\n",
      "The Notebook\n",
      "Nicholas Sparks\n",
      "10\n",
      "\n",
      "Beach Read\n",
      "Emily Henry\n",
      "10\n",
      "\n",
      "Vision in White\n",
      "Nora Roberts\n",
      "10\n",
      "\n",
      "Me Before You\n",
      "Jojo Mayes\n",
      "10\n",
      "\n",
      "Red White Royal Blue\n",
      "Casey McQuiston\n",
      "10\n",
      "\n",
      "Twilight\n",
      "Stephenie Meyer\n",
      "10\n",
      "\n",
      "The Proposal\n",
      "Jasmine Guillory\n",
      "10\n",
      "\n",
      "The Hating Game\n",
      "Sally Thorne\n",
      "10\n",
      "\n"
     ]
    }
   ],
   "source": [
    "for book in books:\n",
    "    for field in book:\n",
    "        print(field)\n",
    "    print()\n"
   ]
  },
  {
   "cell_type": "code",
   "execution_count": 18,
   "metadata": {},
   "outputs": [
    {
     "name": "stdout",
     "output_type": "stream",
     "text": [
      "['Outlander', 'Diana Gabaldon', 10]\n",
      "title: Outlander\n",
      "author: Diana Gabaldon\n",
      "rating: 10\n",
      "\n",
      "['Pride and Prejudice', 'Jane Austen', 10]\n",
      "title: Pride and Prejudice\n",
      "author: Jane Austen\n",
      "rating: 10\n",
      "\n",
      "['The Notebook', 'Nicholas Sparks', 10]\n",
      "title: The Notebook\n",
      "author: Nicholas Sparks\n",
      "rating: 10\n",
      "\n",
      "['Beach Read', 'Emily Henry', 10]\n",
      "title: Beach Read\n",
      "author: Emily Henry\n",
      "rating: 10\n",
      "\n",
      "['Vision in White', 'Nora Roberts', 10]\n",
      "title: Vision in White\n",
      "author: Nora Roberts\n",
      "rating: 10\n",
      "\n",
      "['Me Before You', 'Jojo Mayes', 10]\n",
      "title: Me Before You\n",
      "author: Jojo Mayes\n",
      "rating: 10\n",
      "\n",
      "['Red White Royal Blue', 'Casey McQuiston', 10]\n",
      "title: Red White Royal Blue\n",
      "author: Casey McQuiston\n",
      "rating: 10\n",
      "\n",
      "['Twilight', 'Stephenie Meyer', 10]\n",
      "title: Twilight\n",
      "author: Stephenie Meyer\n",
      "rating: 10\n",
      "\n",
      "['The Proposal', 'Jasmine Guillory', 10]\n",
      "title: The Proposal\n",
      "author: Jasmine Guillory\n",
      "rating: 10\n",
      "\n",
      "['The Hating Game', 'Sally Thorne', 10]\n",
      "title: The Hating Game\n",
      "author: Sally Thorne\n",
      "rating: 10\n",
      "\n"
     ]
    }
   ],
   "source": [
    "for book in books:\n",
    "    print(book)\n",
    "    print(f'title: {book[0]}')\n",
    "    print(f'author: {book[1]}')\n",
    "    print(f'rating: {book[2]}')\n",
    "    print()\n",
    "    \n"
   ]
  },
  {
   "cell_type": "code",
   "execution_count": 1,
   "metadata": {},
   "outputs": [
    {
     "name": "stdout",
     "output_type": "stream",
     "text": [
      "234\n",
      "432\n",
      "231\n",
      "675\n",
      "213\n",
      "876\n",
      "414\n"
     ]
    }
   ],
   "source": [
    "prices =[234, 432, 231, 675, 213, 876, 414, None, 988, 100]\n",
    "\n",
    "for price in prices:\n",
    "    if price is None:\n",
    "        break\n",
    "    print(price)\n"
   ]
  },
  {
   "cell_type": "code",
   "execution_count": 6,
   "metadata": {},
   "outputs": [
    {
     "name": "stdout",
     "output_type": "stream",
     "text": [
      "250\n",
      "949\n",
      "199\n",
      "299\n",
      "100\n",
      "299\n",
      "100\n"
     ]
    }
   ],
   "source": [
    "data = [250, 949, 199, 299, 100, None, 299, None, 100]\n",
    "for price in data:\n",
    "    if price is None:\n",
    "        continue\n",
    "    print(price)"
   ]
  },
  {
   "cell_type": "code",
   "execution_count": 7,
   "metadata": {},
   "outputs": [
    {
     "name": "stdout",
     "output_type": "stream",
     "text": [
      "0 harry\n",
      "1 selena\n",
      "2 taylor\n",
      "3 kelly\n"
     ]
    }
   ],
   "source": [
    "names = ['harry', 'selena', 'taylor', 'kelly']\n",
    "\n",
    "for i, name in enumerate(names):\n",
    "    print(i, name)"
   ]
  },
  {
   "cell_type": "code",
   "execution_count": 10,
   "metadata": {},
   "outputs": [
    {
     "name": "stdout",
     "output_type": "stream",
     "text": [
      "bread🍞       234     2   468\n",
      "milk🥛        432     1   432\n",
      "butter🧈      231     2   462\n",
      "cheese🧀      675     1   675\n"
     ]
    }
   ],
   "source": [
    "grocery = ['bread🍞 ', 'milk🥛', 'butter🧈', 'cheese🧀']\n",
    "price = [20, 60, 100, 260]\n",
    "qty = [2, 1, 2, 1]\n",
    "for g, p, q in zip(grocery, prices, qty):\n",
    "    print(f'{g:10} {p:5} {q:5} {p*q:5}')"
   ]
  },
  {
   "cell_type": "code",
   "execution_count": 12,
   "metadata": {},
   "outputs": [
    {
     "name": "stdout",
     "output_type": "stream",
     "text": [
      "2\n",
      "5\n",
      "10\n",
      "25\n"
     ]
    }
   ],
   "source": [
    "n = 50\n",
    "for i in range(2,n):\n",
    "    if n%i==0:\n",
    "        print(i)"
   ]
  },
  {
   "cell_type": "code",
   "execution_count": 13,
   "metadata": {},
   "outputs": [
    {
     "name": "stdout",
     "output_type": "stream",
     "text": [
      "12 is not prime number\n"
     ]
    }
   ],
   "source": [
    "n = int(input('enter a number'))\n",
    "for i in range(2,n):\n",
    "    if n%i==0:\n",
    "        print(f'{n} is not prime number')\n",
    "        break\n",
    "else:\n",
    "    print(f'{n} is prime')"
   ]
  },
  {
   "cell_type": "code",
   "execution_count": 16,
   "metadata": {},
   "outputs": [
    {
     "name": "stdout",
     "output_type": "stream",
     "text": [
      "2 is a prime number\n"
     ]
    }
   ],
   "source": [
    "n = int(input(\"enter a number\"))\n",
    "i=1\n",
    "c=0\n",
    "while i<=n:\n",
    "    if n % i== 0:\n",
    "        c=c+1\n",
    "    i=i+1\n",
    "if c==2:\n",
    "    print(f'{n} is a prime number')\n",
    "else:\n",
    "    print(f'{n} is not a prime number')\n"
   ]
  },
  {
   "cell_type": "code",
   "execution_count": 19,
   "metadata": {},
   "outputs": [
    {
     "name": "stdout",
     "output_type": "stream",
     "text": [
      "654321\n"
     ]
    }
   ],
   "source": [
    "n = 123456\n",
    "rev = 0\n",
    "while n > 0:\n",
    "    j = n % 10 # remainder\n",
    "    rev = rev * 10 + j\n",
    "    n = n // 10\n",
    "print(rev) # quotient\n"
   ]
  },
  {
   "cell_type": "code",
   "execution_count": 21,
   "metadata": {},
   "outputs": [
    {
     "name": "stdout",
     "output_type": "stream",
     "text": [
      "invalid credentials\n",
      "invalid credentials\n",
      "invalid credentials\n",
      "logged in\n"
     ]
    }
   ],
   "source": [
    "username ='ananya'\n",
    "password = 'ananya1234'\n",
    "while True:\n",
    "    u = input('username: ')\n",
    "    p = input('password: ')\n",
    "    if u == username and p == password:\n",
    "        print('logged in')\n",
    "        break\n",
    "    else:\n",
    "        print('invalid credentials')\n",
    "        continue"
   ]
  },
  {
   "cell_type": "code",
   "execution_count": null,
   "metadata": {},
   "outputs": [],
   "source": []
  }
 ],
 "metadata": {
  "kernelspec": {
   "display_name": "base",
   "language": "python",
   "name": "python3"
  },
  "language_info": {
   "codemirror_mode": {
    "name": "ipython",
    "version": 3
   },
   "file_extension": ".py",
   "mimetype": "text/x-python",
   "name": "python",
   "nbconvert_exporter": "python",
   "pygments_lexer": "ipython3",
   "version": "3.10.10"
  },
  "orig_nbformat": 4
 },
 "nbformat": 4,
 "nbformat_minor": 2
}
