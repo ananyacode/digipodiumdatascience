{
 "cells": [
  {
   "cell_type": "code",
   "execution_count": 1,
   "metadata": {},
   "outputs": [],
   "source": [
    "import numpy as np"
   ]
  },
  {
   "cell_type": "code",
   "execution_count": 2,
   "metadata": {},
   "outputs": [
    {
     "name": "stdout",
     "output_type": "stream",
     "text": [
      "\u001b[0;31mSignature:\u001b[0m \u001b[0mnp\u001b[0m\u001b[0;34m.\u001b[0m\u001b[0meye\u001b[0m\u001b[0;34m(\u001b[0m\u001b[0mN\u001b[0m\u001b[0;34m,\u001b[0m \u001b[0mM\u001b[0m\u001b[0;34m=\u001b[0m\u001b[0;32mNone\u001b[0m\u001b[0;34m,\u001b[0m \u001b[0mk\u001b[0m\u001b[0;34m=\u001b[0m\u001b[0;36m0\u001b[0m\u001b[0;34m,\u001b[0m \u001b[0mdtype\u001b[0m\u001b[0;34m=\u001b[0m\u001b[0;34m<\u001b[0m\u001b[0;32mclass\u001b[0m \u001b[0;34m'float'\u001b[0m\u001b[0;34m>\u001b[0m\u001b[0;34m,\u001b[0m \u001b[0morder\u001b[0m\u001b[0;34m=\u001b[0m\u001b[0;34m'C'\u001b[0m\u001b[0;34m,\u001b[0m \u001b[0;34m*\u001b[0m\u001b[0;34m,\u001b[0m \u001b[0mlike\u001b[0m\u001b[0;34m=\u001b[0m\u001b[0;32mNone\u001b[0m\u001b[0;34m)\u001b[0m\u001b[0;34m\u001b[0m\u001b[0;34m\u001b[0m\u001b[0m\n",
      "\u001b[0;31mDocstring:\u001b[0m\n",
      "Return a 2-D array with ones on the diagonal and zeros elsewhere.\n",
      "\n",
      "Parameters\n",
      "----------\n",
      "N : int\n",
      "  Number of rows in the output.\n",
      "M : int, optional\n",
      "  Number of columns in the output. If None, defaults to `N`.\n",
      "k : int, optional\n",
      "  Index of the diagonal: 0 (the default) refers to the main diagonal,\n",
      "  a positive value refers to an upper diagonal, and a negative value\n",
      "  to a lower diagonal.\n",
      "dtype : data-type, optional\n",
      "  Data-type of the returned array.\n",
      "order : {'C', 'F'}, optional\n",
      "    Whether the output should be stored in row-major (C-style) or\n",
      "    column-major (Fortran-style) order in memory.\n",
      "\n",
      "    .. versionadded:: 1.14.0\n",
      "like : array_like, optional\n",
      "    Reference object to allow the creation of arrays which are not\n",
      "    NumPy arrays. If an array-like passed in as ``like`` supports\n",
      "    the ``__array_function__`` protocol, the result will be defined\n",
      "    by it. In this case, it ensures the creation of an array object\n",
      "    compatible with that passed in via this argument.\n",
      "\n",
      "    .. versionadded:: 1.20.0\n",
      "\n",
      "Returns\n",
      "-------\n",
      "I : ndarray of shape (N,M)\n",
      "  An array where all elements are equal to zero, except for the `k`-th\n",
      "  diagonal, whose values are equal to one.\n",
      "\n",
      "See Also\n",
      "--------\n",
      "identity : (almost) equivalent function\n",
      "diag : diagonal 2-D array from a 1-D array specified by the user.\n",
      "\n",
      "Examples\n",
      "--------\n",
      ">>> np.eye(2, dtype=int)\n",
      "array([[1, 0],\n",
      "       [0, 1]])\n",
      ">>> np.eye(3, k=1)\n",
      "array([[0.,  1.,  0.],\n",
      "       [0.,  0.,  1.],\n",
      "       [0.,  0.,  0.]])\n",
      "\u001b[0;31mFile:\u001b[0m      ~/miniconda3/lib/python3.11/site-packages/numpy/lib/twodim_base.py\n",
      "\u001b[0;31mType:\u001b[0m      function"
     ]
    }
   ],
   "source": [
    "np.eye?"
   ]
  },
  {
   "cell_type": "code",
   "execution_count": 6,
   "metadata": {},
   "outputs": [
    {
     "name": "stdout",
     "output_type": "stream",
     "text": [
      "[2 3 5 1]\n",
      "[[1 2 3]\n",
      " [4 5 6]]\n",
      "[[[1 3]\n",
      "  [4 5]]\n",
      "\n",
      " [[6 7]\n",
      "  [2 1]]]\n"
     ]
    }
   ],
   "source": [
    "x = np.array([2,3,5,1]) # 1D ARRAY\n",
    "x2d = np.array([[1,2,3],[4,5,6]]) # 2D ARRAY\n",
    "x3d = np.array([[[1,3],[4,5]],[[6,7],[2,1]]])\n",
    "print(x)\n",
    "print(x2d)\n",
    "print(x3d)"
   ]
  },
  {
   "cell_type": "code",
   "execution_count": 8,
   "metadata": {},
   "outputs": [
    {
     "name": "stdout",
     "output_type": "stream",
     "text": [
      "\u001b[0;31mDocstring:\u001b[0m\n",
      "arange([start,] stop[, step,], dtype=None, *, like=None)\n",
      "\n",
      "Return evenly spaced values within a given interval.\n",
      "\n",
      "``arange`` can be called with a varying number of positional arguments:\n",
      "\n",
      "* ``arange(stop)``: Values are generated within the half-open interval\n",
      "  ``[0, stop)`` (in other words, the interval including `start` but\n",
      "  excluding `stop`).\n",
      "* ``arange(start, stop)``: Values are generated within the half-open\n",
      "  interval ``[start, stop)``.\n",
      "* ``arange(start, stop, step)`` Values are generated within the half-open\n",
      "  interval ``[start, stop)``, with spacing between values given by\n",
      "  ``step``.\n",
      "\n",
      "For integer arguments the function is roughly equivalent to the Python\n",
      "built-in :py:class:`range`, but returns an ndarray rather than a ``range``\n",
      "instance.\n",
      "\n",
      "When using a non-integer step, such as 0.1, it is often better to use\n",
      "`numpy.linspace`.\n",
      "\n",
      "See the Warning sections below for more information.\n",
      "\n",
      "Parameters\n",
      "----------\n",
      "start : integer or real, optional\n",
      "    Start of interval.  The interval includes this value.  The default\n",
      "    start value is 0.\n",
      "stop : integer or real\n",
      "    End of interval.  The interval does not include this value, except\n",
      "    in some cases where `step` is not an integer and floating point\n",
      "    round-off affects the length of `out`.\n",
      "step : integer or real, optional\n",
      "    Spacing between values.  For any output `out`, this is the distance\n",
      "    between two adjacent values, ``out[i+1] - out[i]``.  The default\n",
      "    step size is 1.  If `step` is specified as a position argument,\n",
      "    `start` must also be given.\n",
      "dtype : dtype, optional\n",
      "    The type of the output array.  If `dtype` is not given, infer the data\n",
      "    type from the other input arguments.\n",
      "like : array_like, optional\n",
      "    Reference object to allow the creation of arrays which are not\n",
      "    NumPy arrays. If an array-like passed in as ``like`` supports\n",
      "    the ``__array_function__`` protocol, the result will be defined\n",
      "    by it. In this case, it ensures the creation of an array object\n",
      "    compatible with that passed in via this argument.\n",
      "\n",
      "    .. versionadded:: 1.20.0\n",
      "\n",
      "Returns\n",
      "-------\n",
      "arange : ndarray\n",
      "    Array of evenly spaced values.\n",
      "\n",
      "    For floating point arguments, the length of the result is\n",
      "    ``ceil((stop - start)/step)``.  Because of floating point overflow,\n",
      "    this rule may result in the last element of `out` being greater\n",
      "    than `stop`.\n",
      "\n",
      "Warnings\n",
      "--------\n",
      "The length of the output might not be numerically stable.\n",
      "\n",
      "Another stability issue is due to the internal implementation of\n",
      "`numpy.arange`.\n",
      "The actual step value used to populate the array is\n",
      "``dtype(start + step) - dtype(start)`` and not `step`. Precision loss\n",
      "can occur here, due to casting or due to using floating points when\n",
      "`start` is much larger than `step`. This can lead to unexpected\n",
      "behaviour. For example::\n",
      "\n",
      "  >>> np.arange(0, 5, 0.5, dtype=int)\n",
      "  array([0, 0, 0, 0, 0, 0, 0, 0, 0, 0])\n",
      "  >>> np.arange(-3, 3, 0.5, dtype=int)\n",
      "  array([-3, -2, -1,  0,  1,  2,  3,  4,  5,  6,  7,  8])\n",
      "\n",
      "In such cases, the use of `numpy.linspace` should be preferred.\n",
      "\n",
      "The built-in :py:class:`range` generates :std:doc:`Python built-in integers\n",
      "that have arbitrary size <python:c-api/long>`, while `numpy.arange`\n",
      "produces `numpy.int32` or `numpy.int64` numbers. This may result in\n",
      "incorrect results for large integer values::\n",
      "\n",
      "  >>> power = 40\n",
      "  >>> modulo = 10000\n",
      "  >>> x1 = [(n ** power) % modulo for n in range(8)]\n",
      "  >>> x2 = [(n ** power) % modulo for n in np.arange(8)]\n",
      "  >>> print(x1)\n",
      "  [0, 1, 7776, 8801, 6176, 625, 6576, 4001]  # correct\n",
      "  >>> print(x2)\n",
      "  [0, 1, 7776, 7185, 0, 5969, 4816, 3361]  # incorrect\n",
      "\n",
      "See Also\n",
      "--------\n",
      "numpy.linspace : Evenly spaced numbers with careful handling of endpoints.\n",
      "numpy.ogrid: Arrays of evenly spaced numbers in N-dimensions.\n",
      "numpy.mgrid: Grid-shaped arrays of evenly spaced numbers in N-dimensions.\n",
      ":ref:`how-to-partition`\n",
      "\n",
      "Examples\n",
      "--------\n",
      ">>> np.arange(3)\n",
      "array([0, 1, 2])\n",
      ">>> np.arange(3.0)\n",
      "array([ 0.,  1.,  2.])\n",
      ">>> np.arange(3,7)\n",
      "array([3, 4, 5, 6])\n",
      ">>> np.arange(3,7,2)\n",
      "array([3, 5])\n",
      "\u001b[0;31mType:\u001b[0m      builtin_function_or_method"
     ]
    }
   ],
   "source": [
    "# sequential matrix, np.arange() and np.linspace()\n",
    "np.arange?"
   ]
  },
  {
   "cell_type": "code",
   "execution_count": 9,
   "metadata": {},
   "outputs": [
    {
     "name": "stdout",
     "output_type": "stream",
     "text": [
      "\u001b[0;31mSignature:\u001b[0m      \n",
      "\u001b[0mnp\u001b[0m\u001b[0;34m.\u001b[0m\u001b[0mlinspace\u001b[0m\u001b[0;34m(\u001b[0m\u001b[0;34m\u001b[0m\n",
      "\u001b[0;34m\u001b[0m    \u001b[0mstart\u001b[0m\u001b[0;34m,\u001b[0m\u001b[0;34m\u001b[0m\n",
      "\u001b[0;34m\u001b[0m    \u001b[0mstop\u001b[0m\u001b[0;34m,\u001b[0m\u001b[0;34m\u001b[0m\n",
      "\u001b[0;34m\u001b[0m    \u001b[0mnum\u001b[0m\u001b[0;34m=\u001b[0m\u001b[0;36m50\u001b[0m\u001b[0;34m,\u001b[0m\u001b[0;34m\u001b[0m\n",
      "\u001b[0;34m\u001b[0m    \u001b[0mendpoint\u001b[0m\u001b[0;34m=\u001b[0m\u001b[0;32mTrue\u001b[0m\u001b[0;34m,\u001b[0m\u001b[0;34m\u001b[0m\n",
      "\u001b[0;34m\u001b[0m    \u001b[0mretstep\u001b[0m\u001b[0;34m=\u001b[0m\u001b[0;32mFalse\u001b[0m\u001b[0;34m,\u001b[0m\u001b[0;34m\u001b[0m\n",
      "\u001b[0;34m\u001b[0m    \u001b[0mdtype\u001b[0m\u001b[0;34m=\u001b[0m\u001b[0;32mNone\u001b[0m\u001b[0;34m,\u001b[0m\u001b[0;34m\u001b[0m\n",
      "\u001b[0;34m\u001b[0m    \u001b[0maxis\u001b[0m\u001b[0;34m=\u001b[0m\u001b[0;36m0\u001b[0m\u001b[0;34m,\u001b[0m\u001b[0;34m\u001b[0m\n",
      "\u001b[0;34m\u001b[0m\u001b[0;34m)\u001b[0m\u001b[0;34m\u001b[0m\u001b[0;34m\u001b[0m\u001b[0m\n",
      "\u001b[0;31mCall signature:\u001b[0m  \u001b[0mnp\u001b[0m\u001b[0;34m.\u001b[0m\u001b[0mlinspace\u001b[0m\u001b[0;34m(\u001b[0m\u001b[0;34m*\u001b[0m\u001b[0margs\u001b[0m\u001b[0;34m,\u001b[0m \u001b[0;34m**\u001b[0m\u001b[0mkwargs\u001b[0m\u001b[0;34m)\u001b[0m\u001b[0;34m\u001b[0m\u001b[0;34m\u001b[0m\u001b[0m\n",
      "\u001b[0;31mType:\u001b[0m            _ArrayFunctionDispatcher\n",
      "\u001b[0;31mString form:\u001b[0m     <function linspace at 0x105dea480>\n",
      "\u001b[0;31mFile:\u001b[0m            ~/miniconda3/lib/python3.11/site-packages/numpy/core/function_base.py\n",
      "\u001b[0;31mDocstring:\u001b[0m      \n",
      "Return evenly spaced numbers over a specified interval.\n",
      "\n",
      "Returns `num` evenly spaced samples, calculated over the\n",
      "interval [`start`, `stop`].\n",
      "\n",
      "The endpoint of the interval can optionally be excluded.\n",
      "\n",
      ".. versionchanged:: 1.16.0\n",
      "    Non-scalar `start` and `stop` are now supported.\n",
      "\n",
      ".. versionchanged:: 1.20.0\n",
      "    Values are rounded towards ``-inf`` instead of ``0`` when an\n",
      "    integer ``dtype`` is specified. The old behavior can\n",
      "    still be obtained with ``np.linspace(start, stop, num).astype(int)``\n",
      "\n",
      "Parameters\n",
      "----------\n",
      "start : array_like\n",
      "    The starting value of the sequence.\n",
      "stop : array_like\n",
      "    The end value of the sequence, unless `endpoint` is set to False.\n",
      "    In that case, the sequence consists of all but the last of ``num + 1``\n",
      "    evenly spaced samples, so that `stop` is excluded.  Note that the step\n",
      "    size changes when `endpoint` is False.\n",
      "num : int, optional\n",
      "    Number of samples to generate. Default is 50. Must be non-negative.\n",
      "endpoint : bool, optional\n",
      "    If True, `stop` is the last sample. Otherwise, it is not included.\n",
      "    Default is True.\n",
      "retstep : bool, optional\n",
      "    If True, return (`samples`, `step`), where `step` is the spacing\n",
      "    between samples.\n",
      "dtype : dtype, optional\n",
      "    The type of the output array.  If `dtype` is not given, the data type\n",
      "    is inferred from `start` and `stop`. The inferred dtype will never be\n",
      "    an integer; `float` is chosen even if the arguments would produce an\n",
      "    array of integers.\n",
      "\n",
      "    .. versionadded:: 1.9.0\n",
      "\n",
      "axis : int, optional\n",
      "    The axis in the result to store the samples.  Relevant only if start\n",
      "    or stop are array-like.  By default (0), the samples will be along a\n",
      "    new axis inserted at the beginning. Use -1 to get an axis at the end.\n",
      "\n",
      "    .. versionadded:: 1.16.0\n",
      "\n",
      "Returns\n",
      "-------\n",
      "samples : ndarray\n",
      "    There are `num` equally spaced samples in the closed interval\n",
      "    ``[start, stop]`` or the half-open interval ``[start, stop)``\n",
      "    (depending on whether `endpoint` is True or False).\n",
      "step : float, optional\n",
      "    Only returned if `retstep` is True\n",
      "\n",
      "    Size of spacing between samples.\n",
      "\n",
      "\n",
      "See Also\n",
      "--------\n",
      "arange : Similar to `linspace`, but uses a step size (instead of the\n",
      "         number of samples).\n",
      "geomspace : Similar to `linspace`, but with numbers spaced evenly on a log\n",
      "            scale (a geometric progression).\n",
      "logspace : Similar to `geomspace`, but with the end points specified as\n",
      "           logarithms.\n",
      ":ref:`how-to-partition`\n",
      "\n",
      "Examples\n",
      "--------\n",
      ">>> np.linspace(2.0, 3.0, num=5)\n",
      "array([2.  , 2.25, 2.5 , 2.75, 3.  ])\n",
      ">>> np.linspace(2.0, 3.0, num=5, endpoint=False)\n",
      "array([2. ,  2.2,  2.4,  2.6,  2.8])\n",
      ">>> np.linspace(2.0, 3.0, num=5, retstep=True)\n",
      "(array([2.  ,  2.25,  2.5 ,  2.75,  3.  ]), 0.25)\n",
      "\n",
      "Graphical illustration:\n",
      "\n",
      ">>> import matplotlib.pyplot as plt\n",
      ">>> N = 8\n",
      ">>> y = np.zeros(N)\n",
      ">>> x1 = np.linspace(0, 10, N, endpoint=True)\n",
      ">>> x2 = np.linspace(0, 10, N, endpoint=False)\n",
      ">>> plt.plot(x1, y, 'o')\n",
      "[<matplotlib.lines.Line2D object at 0x...>]\n",
      ">>> plt.plot(x2, y + 0.5, 'o')\n",
      "[<matplotlib.lines.Line2D object at 0x...>]\n",
      ">>> plt.ylim([-0.5, 1])\n",
      "(-0.5, 1)\n",
      ">>> plt.show()\n",
      "\u001b[0;31mClass docstring:\u001b[0m\n",
      "Class to wrap functions with checks for __array_function__ overrides.\n",
      "\n",
      "All arguments are required, and can only be passed by position.\n",
      "\n",
      "Parameters\n",
      "----------\n",
      "dispatcher : function or None\n",
      "    The dispatcher function that returns a single sequence-like object\n",
      "    of all arguments relevant.  It must have the same signature (except\n",
      "    the default values) as the actual implementation.\n",
      "    If ``None``, this is a ``like=`` dispatcher and the\n",
      "    ``_ArrayFunctionDispatcher`` must be called with ``like`` as the\n",
      "    first (additional and positional) argument.\n",
      "implementation : function\n",
      "    Function that implements the operation on NumPy arrays without\n",
      "    overrides.  Arguments passed calling the ``_ArrayFunctionDispatcher``\n",
      "    will be forwarded to this (and the ``dispatcher``) as if using\n",
      "    ``*args, **kwargs``.\n",
      "\n",
      "Attributes\n",
      "----------\n",
      "_implementation : function\n",
      "    The original implementation passed in."
     ]
    }
   ],
   "source": [
    "np.linspace?"
   ]
  },
  {
   "cell_type": "code",
   "execution_count": 12,
   "metadata": {},
   "outputs": [
    {
     "data": {
      "text/plain": [
       "array([0. , 0.2, 0.4, 0.6, 0.8, 1. , 1.2, 1.4, 1.6, 1.8, 2. , 2.2, 2.4,\n",
       "       2.6, 2.8, 3. , 3.2, 3.4, 3.6, 3.8, 4. , 4.2, 4.4, 4.6, 4.8, 5. ,\n",
       "       5.2, 5.4, 5.6, 5.8, 6. , 6.2, 6.4, 6.6, 6.8, 7. , 7.2, 7.4, 7.6,\n",
       "       7.8, 8. , 8.2, 8.4, 8.6, 8.8, 9. , 9.2, 9.4, 9.6, 9.8])"
      ]
     },
     "execution_count": 12,
     "metadata": {},
     "output_type": "execute_result"
    }
   ],
   "source": [
    "np.arange(0,10,0.2)"
   ]
  },
  {
   "cell_type": "code",
   "execution_count": 13,
   "metadata": {},
   "outputs": [
    {
     "data": {
      "text/plain": [
       "50"
      ]
     },
     "execution_count": 13,
     "metadata": {},
     "output_type": "execute_result"
    }
   ],
   "source": [
    "np.arange(0,10,0.2).size"
   ]
  },
  {
   "cell_type": "code",
   "execution_count": 14,
   "metadata": {},
   "outputs": [
    {
     "data": {
      "text/plain": [
       "array([[0. , 0.2, 0.4, 0.6, 0.8, 1. , 1.2, 1.4, 1.6, 1.8],\n",
       "       [2. , 2.2, 2.4, 2.6, 2.8, 3. , 3.2, 3.4, 3.6, 3.8],\n",
       "       [4. , 4.2, 4.4, 4.6, 4.8, 5. , 5.2, 5.4, 5.6, 5.8],\n",
       "       [6. , 6.2, 6.4, 6.6, 6.8, 7. , 7.2, 7.4, 7.6, 7.8],\n",
       "       [8. , 8.2, 8.4, 8.6, 8.8, 9. , 9.2, 9.4, 9.6, 9.8]])"
      ]
     },
     "execution_count": 14,
     "metadata": {},
     "output_type": "execute_result"
    }
   ],
   "source": [
    "np.arange(0,10,0.2).reshape(5,10) # 2d"
   ]
  },
  {
   "cell_type": "code",
   "execution_count": 19,
   "metadata": {},
   "outputs": [
    {
     "data": {
      "text/plain": [
       "array([ 0.        ,  1.66666667,  3.33333333,  5.        ,  6.66666667,\n",
       "        8.33333333, 10.        , 11.66666667, 13.33333333, 15.        ])"
      ]
     },
     "execution_count": 19,
     "metadata": {},
     "output_type": "execute_result"
    }
   ],
   "source": [
    "np.linspace(0,15,10)"
   ]
  },
  {
   "cell_type": "code",
   "execution_count": 21,
   "metadata": {},
   "outputs": [
    {
     "data": {
      "text/plain": [
       "10"
      ]
     },
     "execution_count": 21,
     "metadata": {},
     "output_type": "execute_result"
    }
   ],
   "source": [
    "np.linspace(0,15,10).size"
   ]
  },
  {
   "cell_type": "code",
   "execution_count": 22,
   "metadata": {},
   "outputs": [
    {
     "data": {
      "text/plain": [
       "array([[ 0.        ,  1.66666667],\n",
       "       [ 3.33333333,  5.        ],\n",
       "       [ 6.66666667,  8.33333333],\n",
       "       [10.        , 11.66666667],\n",
       "       [13.33333333, 15.        ]])"
      ]
     },
     "execution_count": 22,
     "metadata": {},
     "output_type": "execute_result"
    }
   ],
   "source": [
    "np.linspace(0,15,10).reshape(5,2)"
   ]
  },
  {
   "cell_type": "code",
   "execution_count": 29,
   "metadata": {},
   "outputs": [
    {
     "name": "stdout",
     "output_type": "stream",
     "text": [
      "[[0.21976021 0.22479065 0.2456884  0.61560566]\n",
      " [0.65704741 0.5200933  0.99036426 0.18487702]\n",
      " [0.49338251 0.65071912 0.02086958 0.95828324]\n",
      " [0.7965385  0.38441736 0.00266533 0.78819587]]\n",
      "[[0.99280773 0.86343384 0.17347114]\n",
      " [0.15451044 0.42549544 0.73684424]\n",
      " [0.09088913 0.51868043 0.55467349]]\n",
      "[[ 5 -1 -2]\n",
      " [-4 -2 -5]\n",
      " [-1  7 -1]]\n",
      "[[0.93151885 0.62130518 0.26133354]\n",
      " [1.45873574 1.59985235 1.50051699]\n",
      " [0.91347612 1.93804586 0.74927743]]\n",
      "[ 5  7  4  3  9  1  6  2 10  8]\n"
     ]
    }
   ],
   "source": [
    "# randomized matrix with np.random\n",
    "# np.random.rand()\n",
    "print(np.random.rand(4,4))    # 0 to 1\n",
    "print(np.random.rand(3,3))    # normal distribution\n",
    "print(np.random.randint(-10,10,(3,3)))  # random int from -10 to 10\n",
    "print(np.random.uniform(0,2,(3,3)))   # random float from 0 to 10\n",
    "print(np.random.permutation([1,2,3,4,5,6,7,8,9,10]))  # random permutation"
   ]
  },
  {
   "cell_type": "markdown",
   "metadata": {},
   "source": [
    "operations"
   ]
  },
  {
   "cell_type": "code",
   "execution_count": 30,
   "metadata": {},
   "outputs": [
    {
     "name": "stdout",
     "output_type": "stream",
     "text": [
      "[[  3   6   1]\n",
      " [ -7 -10  -8]\n",
      " [  8   5   2]]\n",
      "[[ -2  -6   3]\n",
      " [  0  -6 -10]\n",
      " [ -8  -6   6]]\n"
     ]
    }
   ],
   "source": [
    "a = np.random.randint(-10,10,(3,3))\n",
    "b = np.random.randint(-10,10,(3,3))\n",
    "print(a)\n",
    "print(b)"
   ]
  },
  {
   "cell_type": "code",
   "execution_count": 31,
   "metadata": {},
   "outputs": [
    {
     "data": {
      "text/plain": [
       "array([[  30,   60,   10],\n",
       "       [ -70, -100,  -80],\n",
       "       [  80,   50,   20]])"
      ]
     },
     "execution_count": 31,
     "metadata": {},
     "output_type": "execute_result"
    }
   ],
   "source": [
    "a * 10 # + - * / ** % //"
   ]
  },
  {
   "cell_type": "code",
   "execution_count": 32,
   "metadata": {},
   "outputs": [
    {
     "name": "stdout",
     "output_type": "stream",
     "text": [
      "[[  1   0   4]\n",
      " [ -7 -16 -18]\n",
      " [  0  -1   8]]\n",
      "[[ 5 12 -2]\n",
      " [-7 -4  2]\n",
      " [16 11 -4]]\n",
      "[[-1.5        -1.          0.33333333]\n",
      " [       -inf  1.66666667  0.8       ]\n",
      " [-1.         -0.83333333  0.33333333]]\n",
      "[[ -6 -36   3]\n",
      " [  0  60  80]\n",
      " [-64 -30  12]]\n",
      "[[-14 -60 -45]\n",
      " [ 78 150  31]\n",
      " [-32 -90 -14]]\n"
     ]
    },
    {
     "name": "stderr",
     "output_type": "stream",
     "text": [
      "/var/folders/dy/k_2mc4t13bvg7g2rjf5bx3c00000gn/T/ipykernel_2247/846531082.py:4: RuntimeWarning: divide by zero encountered in divide\n",
      "  print(a/b)\n"
     ]
    }
   ],
   "source": [
    "# same size mart operations\n",
    "print(a+b)\n",
    "print(a-b)\n",
    "print(a/b)\n",
    "print(a*b)\n",
    "print(a@b)"
   ]
  },
  {
   "cell_type": "code",
   "execution_count": 33,
   "metadata": {},
   "outputs": [
    {
     "data": {
      "text/plain": [
       "array([[-14, -60, -45],\n",
       "       [ 78, 150,  31],\n",
       "       [-32, -90, -14]])"
      ]
     },
     "execution_count": 33,
     "metadata": {},
     "output_type": "execute_result"
    }
   ],
   "source": [
    "np.matmul(a,b) # np.dot(a,b) or a@b"
   ]
  }
 ],
 "metadata": {
  "kernelspec": {
   "display_name": "base",
   "language": "python",
   "name": "python3"
  },
  "language_info": {
   "codemirror_mode": {
    "name": "ipython",
    "version": 3
   },
   "file_extension": ".py",
   "mimetype": "text/x-python",
   "name": "python",
   "nbconvert_exporter": "python",
   "pygments_lexer": "ipython3",
   "version": "3.11.4"
  },
  "orig_nbformat": 4
 },
 "nbformat": 4,
 "nbformat_minor": 2
}
