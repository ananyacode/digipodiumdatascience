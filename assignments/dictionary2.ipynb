{
 "cells": [
  {
   "cell_type": "markdown",
   "metadata": {},
   "source": [
    "Write a program to count the frequency of each character in a given string using a dictionary.\n",
    "\n",
    "Sample data: \"hello\"\n",
    "Hint: Iterate through each character in the string and update the count in the dictionary."
   ]
  },
  {
   "cell_type": "code",
   "execution_count": 2,
   "metadata": {},
   "outputs": [
    {
     "name": "stdout",
     "output_type": "stream",
     "text": [
      "The character 'h' appears 1 times.\n",
      "The character 'e' appears 1 times.\n",
      "The character 'l' appears 2 times.\n",
      "The character 'o' appears 1 times.\n"
     ]
    }
   ],
   "source": [
    "msg = \"hello\"\n",
    "f = {}\n",
    "for char in msg:\n",
    "    if char in f:\n",
    "        f[char] += 1\n",
    "    else:\n",
    "        f[char] = 1\n",
    "for char, count in f.items():\n",
    "    print(f\"The character '{char}' appears {count} times.\")"
   ]
  },
  {
   "cell_type": "markdown",
   "metadata": {},
   "source": [
    "Write a program to merge two dictionaries into a single dictionary.\n",
    "\n",
    "Sample data:\n",
    "dict1 = {\"a\": 1, \"b\": 2}\n",
    "dict2 = {\"c\": 3, \"d\": 4}"
   ]
  },
  {
   "cell_type": "code",
   "execution_count": 5,
   "metadata": {},
   "outputs": [
    {
     "name": "stdout",
     "output_type": "stream",
     "text": [
      "{'a': 1, 'b': 2, 'c': 3, 'd': 4}\n"
     ]
    }
   ],
   "source": [
    "dict1 = {\"a\": 1, \"b\": 2}\n",
    "dict2 = {\"c\": 3, \"d\": 4}\n",
    "merge = dict1.copy()\n",
    "merge.update(dict2)\n",
    "print(merge)"
   ]
  },
  {
   "cell_type": "markdown",
   "metadata": {},
   "source": [
    "Write a program to find the keys with the maximum value in a dictionary.\n",
    "\n",
    "Sample data: {\"a\": 10, \"b\": 5, \"c\": 10}"
   ]
  }
 ],
 "metadata": {
  "kernelspec": {
   "display_name": "base",
   "language": "python",
   "name": "python3"
  },
  "language_info": {
   "codemirror_mode": {
    "name": "ipython",
    "version": 3
   },
   "file_extension": ".py",
   "mimetype": "text/x-python",
   "name": "python",
   "nbconvert_exporter": "python",
   "pygments_lexer": "ipython3",
   "version": "3.11.4"
  },
  "orig_nbformat": 4
 },
 "nbformat": 4,
 "nbformat_minor": 2
}
