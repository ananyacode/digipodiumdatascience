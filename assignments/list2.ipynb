{
 "cells": [
  {
   "cell_type": "code",
   "execution_count": 7,
   "metadata": {},
   "outputs": [
    {
     "name": "stdout",
     "output_type": "stream",
     "text": [
      "dlroW olleH\n"
     ]
    }
   ],
   "source": [
    "txt = \"Hello World\"[::-1]\n",
    "print(txt)"
   ]
  },
  {
   "cell_type": "code",
   "execution_count": 8,
   "metadata": {},
   "outputs": [
    {
     "name": "stdout",
     "output_type": "stream",
     "text": [
      "10\n"
     ]
    }
   ],
   "source": [
    "x=4\n",
    "y=6\n",
    "print(x+y)"
   ]
  },
  {
   "cell_type": "markdown",
   "metadata": {},
   "source": [
    "Write a program that creates a list of strings and then sorts the list alphabetically. Print the sorted list"
   ]
  },
  {
   "cell_type": "code",
   "execution_count": 5,
   "metadata": {},
   "outputs": [
    {
     "name": "stdout",
     "output_type": "stream",
     "text": [
      "['all of us our dead', 'boys over flowers', 'king the land', 'legend of the blue sea', 'see you in my 19th life']\n",
      "all of us our dead\n",
      "['all of us our dead', 'business proposal', 'king the land', 'legend of the blue sea', 'see you in my 19th life']\n"
     ]
    }
   ],
   "source": [
    "# The sort() method sorts the list in-place and modifies the original list.\n",
    "# If you want to create a new sorted list without modifying the original list, you can use the sorted() function\n",
    "kdramas = ['king the land','all of us our dead','legend of the blue sea','see you in my 19th life','boys over flowers']\n",
    "kdramas.sort()\n",
    "print(kdramas)\n",
    "print(kdramas[0]) # accessing any individual element\n",
    "kdramas[1]='business proposal' # modifiying list\n",
    "kdramas.sort()\n",
    "print(kdramas)"
   ]
  },
  {
   "cell_type": "markdown",
   "metadata": {},
   "source": [
    "Write a program that creates a list of integers and then finds the maximum value in the list. Print the maximum value."
   ]
  },
  {
   "cell_type": "code",
   "execution_count": 6,
   "metadata": {},
   "outputs": [
    {
     "name": "stdout",
     "output_type": "stream",
     "text": [
      "9\n"
     ]
    }
   ],
   "source": [
    "num=[2,3,4,1,6,8,9]\n",
    "print(max(num))"
   ]
  },
  {
   "cell_type": "markdown",
   "metadata": {},
   "source": [
    "Write a program that creates two lists of integers and then finds the common elements between those two lists. Print the common elements"
   ]
  },
  {
   "cell_type": "code",
   "execution_count": 7,
   "metadata": {},
   "outputs": [
    {
     "name": "stdout",
     "output_type": "stream",
     "text": [
      "[2, 3, 4, 5, 6]\n"
     ]
    }
   ],
   "source": [
    "# using sets\n",
    "a=[2,4,3,5,6,9,8]\n",
    "b=[1,3,7,5,6,4,2]\n",
    "\n",
    "c = list(set(a)& set(b))\n",
    "\n",
    "print(c)\n",
    "\n",
    "# note - we first convert both lists to sets using the set() function.\n",
    "# Then, we use the & (and) operator to perform set intersection, which gives us the common elements"
   ]
  },
  {
   "cell_type": "code",
   "execution_count": 8,
   "metadata": {},
   "outputs": [
    {
     "name": "stdout",
     "output_type": "stream",
     "text": [
      "[2, 4, 3, 5, 6]\n"
     ]
    }
   ],
   "source": [
    "d = [i for i in a if i in b ]\n",
    "print(d)"
   ]
  },
  {
   "cell_type": "markdown",
   "metadata": {},
   "source": [
    "Write a program that creates a list of strings and then removes all elements that contain a specific substring. Print the final list."
   ]
  },
  {
   "cell_type": "code",
   "execution_count": 10,
   "metadata": {},
   "outputs": [
    {
     "name": "stdout",
     "output_type": "stream",
     "text": [
      "['wrote', 'swam', 'drove', 'fought']\n"
     ]
    }
   ],
   "source": [
    "past =['writing','swimming','driving','wrote','swam','drove','fought']\n",
    "c=[i for i in past if 'ing' not in i]\n",
    "print(c)"
   ]
  },
  {
   "cell_type": "markdown",
   "metadata": {},
   "source": [
    "Given a list of numbers, create a new list that contains the squares of even numbers from the original list."
   ]
  },
  {
   "cell_type": "code",
   "execution_count": 6,
   "metadata": {},
   "outputs": [
    {
     "name": "stdout",
     "output_type": "stream",
     "text": [
      "[1, 4, 9, 16, 25]\n"
     ]
    }
   ],
   "source": [
    "a = [1,2,3,4,5]\n",
    "c = list(map(lambda x: x**2 ,a))\n",
    "print(c)\n",
    "\n",
    "# map() function in Python is used to apply a specified function to each item in an iterable "
   ]
  },
  {
   "cell_type": "markdown",
   "metadata": {},
   "source": [
    "Given a list of strings, create a new list that contains strings with more than 5 characters."
   ]
  },
  {
   "cell_type": "code",
   "execution_count": 9,
   "metadata": {},
   "outputs": [
    {
     "name": "stdout",
     "output_type": "stream",
     "text": [
      "['taylor', 'tomlinson', 'cardib']\n"
     ]
    }
   ],
   "source": [
    "names = ['taylor','harry','tomlinson','cardib','zayn','payne']\n",
    "a = [i for i in names if len(i)>5]\n",
    "print(a)\n"
   ]
  },
  {
   "cell_type": "markdown",
   "metadata": {},
   "source": [
    "Given a string, replace all occurrences of \"is\" with \"was\" and then convert it to uppercase."
   ]
  },
  {
   "cell_type": "code",
   "execution_count": 10,
   "metadata": {},
   "outputs": [
    {
     "data": {
      "text/plain": [
       "'she was playing'"
      ]
     },
     "execution_count": 10,
     "metadata": {},
     "output_type": "execute_result"
    }
   ],
   "source": [
    "str = 'she is playing'\n",
    "str.replace('is','was')"
   ]
  },
  {
   "cell_type": "markdown",
   "metadata": {},
   "source": [
    "Create a list of names and remove any names that contain the substring \"John\"."
   ]
  },
  {
   "cell_type": "code",
   "execution_count": 14,
   "metadata": {},
   "outputs": [
    {
     "name": "stdout",
     "output_type": "stream",
     "text": [
      "['Bob Smith']\n"
     ]
    }
   ],
   "source": [
    "names = [\"John Doe\", \"Alice Johnson\", \"Bob Smith\", \"John Smith\"]\n",
    "c=[i for i in names if 'John' not in i]\n",
    "print(c)"
   ]
  },
  {
   "cell_type": "markdown",
   "metadata": {},
   "source": [
    "Write a program that creates a nested list and then accesses a specific element in the list. Print the accessed element"
   ]
  },
  {
   "cell_type": "code",
   "execution_count": 15,
   "metadata": {},
   "outputs": [
    {
     "name": "stdout",
     "output_type": "stream",
     "text": [
      "Accessed element: 6\n"
     ]
    }
   ],
   "source": [
    "nested_list = [\n",
    "    [1, 2, 3],\n",
    "    [4, 5, 6],\n",
    "    [7, 8, 9]\n",
    "]\n",
    "\n",
    "# Access a specific element\n",
    "r = 1  # row\n",
    "c = 2  # column\n",
    "\n",
    "accessed_element = nested_list[r][c]\n",
    "\n",
    "print(\"Accessed element:\", accessed_element)\n"
   ]
  },
  {
   "cell_type": "markdown",
   "metadata": {},
   "source": [
    "Write a program that creates a list of integers and then removes all duplicates from the list. Print the final list."
   ]
  },
  {
   "cell_type": "code",
   "execution_count": null,
   "metadata": {},
   "outputs": [],
   "source": [
    "a = [1,2,3,4,5,6,2,3,2,1,3,3]"
   ]
  }
 ],
 "metadata": {
  "kernelspec": {
   "display_name": "base",
   "language": "python",
   "name": "python3"
  },
  "language_info": {
   "codemirror_mode": {
    "name": "ipython",
    "version": 3
   },
   "file_extension": ".py",
   "mimetype": "text/x-python",
   "name": "python",
   "nbconvert_exporter": "python",
   "pygments_lexer": "ipython3",
   "version": "3.11.4"
  },
  "orig_nbformat": 4
 },
 "nbformat": 4,
 "nbformat_minor": 2
}
