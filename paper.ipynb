{
 "cells": [
  {
   "cell_type": "code",
   "execution_count": 1,
   "metadata": {},
   "outputs": [
    {
     "data": {
      "text/plain": [
       "False"
      ]
     },
     "execution_count": 1,
     "metadata": {},
     "output_type": "execute_result"
    }
   ],
   "source": [
    "x = '5'\n",
    "y = 5\n",
    "y == x"
   ]
  },
  {
   "cell_type": "code",
   "execution_count": 4,
   "metadata": {},
   "outputs": [
    {
     "name": "stdout",
     "output_type": "stream",
     "text": [
      "we have 3 fruits\n"
     ]
    }
   ],
   "source": [
    "fruits = ['banana', 'apple', 'pear']\n",
    "if fruits:\n",
    "    print(f'we have {len(fruits)} fruits')"
   ]
  },
  {
   "cell_type": "code",
   "execution_count": 8,
   "metadata": {},
   "outputs": [
    {
     "name": "stdout",
     "output_type": "stream",
     "text": [
      "['banana', ' pear', ' apple']\n"
     ]
    }
   ],
   "source": [
    "fruitstring = 'banana, pear, apple'\n",
    "print(fruitstring.split(','))"
   ]
  },
  {
   "cell_type": "code",
   "execution_count": 10,
   "metadata": {},
   "outputs": [
    {
     "name": "stdout",
     "output_type": "stream",
     "text": [
      "['A', 'computer', 'would', 'deserve', 'to', 'be', 'called', 'intelligent', 'if', 'it', 'could', 'deceive', 'a', 'human', 'into', 'believing', 'that', 'it', 'was', 'human']\n"
     ]
    }
   ],
   "source": [
    "quotestring = '''A computer would deserve to be called intelligent if it could deceive a human into\n",
    "believing that it was human'''\n",
    "quotelist = quotestring.split()\n",
    "print(quotelist)"
   ]
  },
  {
   "cell_type": "code",
   "execution_count": 11,
   "metadata": {},
   "outputs": [
    {
     "name": "stdout",
     "output_type": "stream",
     "text": [
      "True\n"
     ]
    }
   ],
   "source": [
    "numberoftwoletterwords = 0 \n",
    "for word in quotelist:\n",
    "    if len(word) == 2: \n",
    "        numberoftwoletterwords += 1\n",
    "print(numberoftwoletterwords == 5)"
   ]
  },
  {
   "cell_type": "code",
   "execution_count": 15,
   "metadata": {},
   "outputs": [
    {
     "name": "stdout",
     "output_type": "stream",
     "text": [
      "banana,pear,apple\n"
     ]
    }
   ],
   "source": [
    "fruitlist = ['banana','pear', 'apple']\n",
    "delimiter = \",\"\n",
    "fruitstring = delimiter.join(fruitlist)\n",
    "print(fruitstring)"
   ]
  },
  {
   "cell_type": "code",
   "execution_count": 16,
   "metadata": {},
   "outputs": [
    {
     "name": "stdout",
     "output_type": "stream",
     "text": [
      "Security found at position 32\n"
     ]
    }
   ],
   "source": [
    "text = 'we spend our time searching for security and hate it when we get it'\n",
    "found = text.find('security')\n",
    "if found== -1:\n",
    "    print(\"No security found! :(\")\n",
    "else:\n",
    "    print(\"Security found at position \" + str(found))"
   ]
  },
  {
   "cell_type": "code",
   "execution_count": 18,
   "metadata": {},
   "outputs": [
    {
     "ename": "AttributeError",
     "evalue": "'str' object has no attribute '_______'",
     "output_type": "error",
     "traceback": [
      "\u001b[0;31m---------------------------------------------------------------------------\u001b[0m",
      "\u001b[0;31mAttributeError\u001b[0m                            Traceback (most recent call last)",
      "Cell \u001b[0;32mIn[18], line 3\u001b[0m\n\u001b[1;32m      1\u001b[0m text \u001b[39m=\u001b[39m \u001b[39m\"\u001b[39m\u001b[39mYou can not compare apples and pears\u001b[39m\u001b[39m\"\u001b[39m\n\u001b[1;32m      2\u001b[0m text \u001b[39m=\u001b[39m text\u001b[39m.\u001b[39mreplace(\u001b[39m\"\u001b[39m\u001b[39mpears\u001b[39m\u001b[39m\"\u001b[39m, \u001b[39m\"\u001b[39m\u001b[39mapples\u001b[39m\u001b[39m\"\u001b[39m)\n\u001b[0;32m----> 3\u001b[0m text \u001b[39m=\u001b[39m text\u001b[39m.\u001b[39;49m_______(\u001b[39m\"\u001b[39m\u001b[39mnot\u001b[39m\u001b[39m\"\u001b[39m, \u001b[39m\"\u001b[39m\u001b[39m\"\u001b[39m)\n\u001b[1;32m      4\u001b[0m \u001b[39mprint\u001b[39m(text)\n",
      "\u001b[0;31mAttributeError\u001b[0m: 'str' object has no attribute '_______'"
     ]
    }
   ],
   "source": [
    "text = \"You can not compare apples and pears\"\n",
    "text = text.replace(\"pears\", \"apples\")\n",
    "text = text._______(\"not\", \"\")\n",
    "print(text)"
   ]
  },
  {
   "cell_type": "code",
   "execution_count": 19,
   "metadata": {},
   "outputs": [
    {
     "name": "stdout",
     "output_type": "stream",
     "text": [
      "Research has shown that it is often still possible to understand text even if all vowels a re removed\n"
     ]
    }
   ],
   "source": [
    "text = \"Research has shown that it is often still possible to understand text even if all vowels a re removed\"\n",
    "for vowel in (\"a\",\"i\",\"e\",\"o\",\"u\"):\n",
    "    vowel= text.replace(vowel,'')\n",
    "print(text)"
   ]
  },
  {
   "cell_type": "code",
   "execution_count": 20,
   "metadata": {},
   "outputs": [
    {
     "name": "stdout",
     "output_type": "stream",
     "text": [
      "stripme!\n"
     ]
    }
   ],
   "source": [
    "s=' stripme! '\n",
    "print(s.strip())"
   ]
  },
  {
   "cell_type": "code",
   "execution_count": 21,
   "metadata": {},
   "outputs": [
    {
     "name": "stdout",
     "output_type": "stream",
     "text": [
      "folgert karsdorp and maarten van gompel\n",
      "FOLGERT KARSDORP AND MAARTEN VAN GOMPEL\n"
     ]
    }
   ],
   "source": [
    "teachers = \"Folgert Karsdorp and Maarten van Gompel\"\n",
    "print(teachers.lower())\n",
    "print(teachers.upper())"
   ]
  },
  {
   "cell_type": "code",
   "execution_count": 25,
   "metadata": {},
   "outputs": [
    {
     "name": "stdout",
     "output_type": "stream",
     "text": [
      "5\n"
     ]
    }
   ],
   "source": [
    "words = [\"BlA\", \"plop\", \"blA\", \"Bla\", \"PLoP\", \"bLa\", \"pLop\", \"BLA\"]\n",
    "count = 0\n",
    "for word in words:\n",
    "    if word.lower() == \"bla\":\n",
    "        count += 1\n",
    "print(count)"
   ]
  },
  {
   "cell_type": "code",
   "execution_count": 26,
   "metadata": {},
   "outputs": [
    {
     "name": "stdout",
     "output_type": "stream",
     "text": [
      "banana\n"
     ]
    }
   ],
   "source": [
    "fruittuple = ('banana','apple','pear')\n",
    "print(fruittuple[0])"
   ]
  },
  {
   "cell_type": "code",
   "execution_count": 27,
   "metadata": {},
   "outputs": [
    {
     "name": "stdout",
     "output_type": "stream",
     "text": [
      "4\n"
     ]
    }
   ],
   "source": [
    "fruitset = {'banana', 'apple', 'pear'}\n",
    "fruitset.add('orange') # will have no effect, banana already exists fruitset.add('orange')\n",
    "print(len(fruitset))"
   ]
  },
  {
   "cell_type": "code",
   "execution_count": 28,
   "metadata": {},
   "outputs": [
    {
     "name": "stdout",
     "output_type": "stream",
     "text": [
      "1\n",
      "5\n",
      "15\n"
     ]
    }
   ],
   "source": [
    "numbers = [1, 2, 3, 4, 5]\n",
    "print(min(numbers))\n",
    "print(max(numbers)) \n",
    "print(sum(numbers))"
   ]
  },
  {
   "cell_type": "code",
   "execution_count": 29,
   "metadata": {},
   "outputs": [
    {
     "name": "stdout",
     "output_type": "stream",
     "text": [
      "[2, 4, 6, 8, 10]\n"
     ]
    }
   ],
   "source": [
    "numbers = [1, 2, 3, 4, 5 ]\n",
    "doublenumbers = [number*2 for number in numbers] \n",
    "print(doublenumbers)"
   ]
  },
  {
   "cell_type": "code",
   "execution_count": 34,
   "metadata": {},
   "outputs": [
    {
     "name": "stdout",
     "output_type": "stream",
     "text": [
      "[3, 4, 5, 6, 7]\n"
     ]
    }
   ],
   "source": [
    "numbers = [1, 2, 3, 4, 5]\n",
    "numbers = [ number + 2 for number in numbers]\n",
    "print(numbers)"
   ]
  },
  {
   "cell_type": "code",
   "execution_count": 36,
   "metadata": {},
   "outputs": [
    {
     "ename": "NameError",
     "evalue": "name 'random' is not defined",
     "output_type": "error",
     "traceback": [
      "\u001b[0;31m---------------------------------------------------------------------------\u001b[0m",
      "\u001b[0;31mNameError\u001b[0m                                 Traceback (most recent call last)",
      "Cell \u001b[0;32mIn[36], line 4\u001b[0m\n\u001b[1;32m      2\u001b[0m number \u001b[39m=\u001b[39m \u001b[39m0\u001b[39m\n\u001b[1;32m      3\u001b[0m \u001b[39mwhile\u001b[39;00m number \u001b[39m!=\u001b[39m \u001b[39m42\u001b[39m:\n\u001b[0;32m----> 4\u001b[0m     number \u001b[39m=\u001b[39m random\u001b[39m.\u001b[39mrandint(\u001b[39m0\u001b[39m, \u001b[39m100\u001b[39m)\n\u001b[1;32m      5\u001b[0m \u001b[39mprint\u001b[39m(number)\n",
      "\u001b[0;31mNameError\u001b[0m: name 'random' is not defined"
     ]
    }
   ],
   "source": [
    "import math\n",
    "number = 0\n",
    "while number != 42:\n",
    "    number = random.randint(0, 100)\n",
    "print(number)"
   ]
  }
 ],
 "metadata": {
  "kernelspec": {
   "display_name": "base",
   "language": "python",
   "name": "python3"
  },
  "language_info": {
   "codemirror_mode": {
    "name": "ipython",
    "version": 3
   },
   "file_extension": ".py",
   "mimetype": "text/x-python",
   "name": "python",
   "nbconvert_exporter": "python",
   "pygments_lexer": "ipython3",
   "version": "3.11.4"
  },
  "orig_nbformat": 4
 },
 "nbformat": 4,
 "nbformat_minor": 2
}
