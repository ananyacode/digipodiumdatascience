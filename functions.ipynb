{
 "cells": [
  {
   "cell_type": "markdown",
   "metadata": {},
   "source": [
    "programming functions\n",
    " - predefined functions\n",
    "  - standard library functions\n",
    "     - the functions that are imported by default when executing python code\n",
    "  - library (modules) functions\n",
    "     - preinstalled\n",
    "        - os\n",
    "        - math\n",
    "        - random\n",
    "        - date time\n",
    "     - *3rd party*\n",
    "        - install with pip\n",
    "          - 'pip install <package-name>'\n",
    "          pip show <package-name>\n",
    "        - install with conda\n",
    "          - 'conda install <repo> <package-name>'\n",
    " - user defined functions\n",
    "   - functions with name\n",
    "    - functions with parameters\n",
    "      - required parameters\n",
    "      - default parameters\n",
    "      - named parameters\n",
    "    - functions without pararmeters and return value\n",
    "    - functions with return value\n",
    "    - functions with both parameters and return value\n",
    "    - generators\n",
    "   - functions without name\n",
    "    - *lambda functions* (anonymous functions)"
   ]
  },
  {
   "cell_type": "code",
   "execution_count": 2,
   "metadata": {},
   "outputs": [],
   "source": [
    "import math"
   ]
  },
  {
   "cell_type": "code",
   "execution_count": 4,
   "metadata": {},
   "outputs": [
    {
     "name": "stdout",
     "output_type": "stream",
     "text": [
      "\u001b[0;31mSignature:\u001b[0m \u001b[0mmath\u001b[0m\u001b[0;34m.\u001b[0m\u001b[0mfactorial\u001b[0m\u001b[0;34m(\u001b[0m\u001b[0mn\u001b[0m\u001b[0;34m,\u001b[0m \u001b[0;34m/\u001b[0m\u001b[0;34m)\u001b[0m\u001b[0;34m\u001b[0m\u001b[0;34m\u001b[0m\u001b[0m\n",
      "\u001b[0;31mDocstring:\u001b[0m\n",
      "Find n!.\n",
      "\n",
      "Raise a ValueError if x is negative or non-integral.\n",
      "\u001b[0;31mType:\u001b[0m      builtin_function_or_method"
     ]
    }
   ],
   "source": [
    "math.factorial?"
   ]
  },
  {
   "cell_type": "code",
   "execution_count": 6,
   "metadata": {},
   "outputs": [],
   "source": [
    "import os"
   ]
  },
  {
   "cell_type": "code",
   "execution_count": 7,
   "metadata": {},
   "outputs": [
    {
     "name": "stdout",
     "output_type": "stream",
     "text": [
      "\u001b[0;31mSignature:\u001b[0m \u001b[0mos\u001b[0m\u001b[0;34m.\u001b[0m\u001b[0mlistdir\u001b[0m\u001b[0;34m(\u001b[0m\u001b[0mpath\u001b[0m\u001b[0;34m=\u001b[0m\u001b[0;32mNone\u001b[0m\u001b[0;34m)\u001b[0m\u001b[0;34m\u001b[0m\u001b[0;34m\u001b[0m\u001b[0m\n",
      "\u001b[0;31mDocstring:\u001b[0m\n",
      "Return a list containing the names of the files in the directory.\n",
      "\n",
      "path can be specified as either str, bytes, or a path-like object.  If path is bytes,\n",
      "  the filenames returned will also be bytes; in all other circumstances\n",
      "  the filenames returned will be str.\n",
      "If path is None, uses the path='.'.\n",
      "On some platforms, path may also be specified as an open file descriptor;\\\n",
      "  the file descriptor must refer to a directory.\n",
      "  If this functionality is unavailable, using it raises NotImplementedError.\n",
      "\n",
      "The list is in arbitrary order.  It does not include the special\n",
      "entries '.' and '..' even if they are present in the directory.\n",
      "\u001b[0;31mType:\u001b[0m      builtin_function_or_method"
     ]
    }
   ],
   "source": [
    "os.listdir?"
   ]
  },
  {
   "cell_type": "code",
   "execution_count": 4,
   "metadata": {},
   "outputs": [],
   "source": [
    "def si (p,r,t):\n",
    "    ans = p*r*t/100\n",
    "    print(f'SIMPLE INTEREST IS {ans:.2f}')"
   ]
  },
  {
   "cell_type": "code",
   "execution_count": 5,
   "metadata": {},
   "outputs": [
    {
     "name": "stdout",
     "output_type": "stream",
     "text": [
      "SIMPLE INTEREST IS 100.00\n"
     ]
    }
   ],
   "source": [
    "si(1000,5,2)"
   ]
  },
  {
   "cell_type": "code",
   "execution_count": 6,
   "metadata": {},
   "outputs": [],
   "source": [
    "def isprime(n):\n",
    "    c = 0\n",
    "    for i in range(1,n+1):\n",
    "        if n % i == 0:\n",
    "            c = c +1\n",
    "    if c == 2:\n",
    "        print(f'{n} number is prime')\n",
    "    else:\n",
    "        print(f'{n} is not prime')"
   ]
  },
  {
   "cell_type": "code",
   "execution_count": 8,
   "metadata": {},
   "outputs": [
    {
     "name": "stdout",
     "output_type": "stream",
     "text": [
      "2 number is prime\n",
      "None\n",
      "10 is not prime\n",
      "None\n"
     ]
    }
   ],
   "source": [
    "print(isprime(2))\n",
    "print(isprime(10))"
   ]
  },
  {
   "cell_type": "code",
   "execution_count": null,
   "metadata": {},
   "outputs": [],
   "source": []
  }
 ],
 "metadata": {
  "kernelspec": {
   "display_name": "base",
   "language": "python",
   "name": "python3"
  },
  "language_info": {
   "codemirror_mode": {
    "name": "ipython",
    "version": 3
   },
   "file_extension": ".py",
   "mimetype": "text/x-python",
   "name": "python",
   "nbconvert_exporter": "python",
   "pygments_lexer": "ipython3",
   "version": "3.11.4"
  },
  "orig_nbformat": 4
 },
 "nbformat": 4,
 "nbformat_minor": 2
}
