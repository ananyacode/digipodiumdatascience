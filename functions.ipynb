{
 "cells": [
  {
   "cell_type": "markdown",
   "metadata": {},
   "source": [
    "programming functions\n",
    " - predefined functions\n",
    "  - standard library functions\n",
    "     - the functions that are imported by default when executing python code\n",
    "  - library (modules) functions\n",
    "     - preinstalled\n",
    "        - os\n",
    "        - math\n",
    "        - random\n",
    "        - date time\n",
    "     - *3rd party*\n",
    "        - install with pip\n",
    "          - 'pip install <package-name>'\n",
    "          pip show <package-name>\n",
    "        - install with conda\n",
    "          - 'conda install <repo> <package-name>'\n",
    " - user defined functions\n",
    "   - functions with name\n",
    "    - functions with parameters\n",
    "      - required parameters\n",
    "      - default parameters\n",
    "      - named parameters\n",
    "    - functions without pararmeters and return value\n",
    "    - functions with return value\n",
    "    - functions with both parameters and return value\n",
    "    - generators\n",
    "   - functions without name\n",
    "    - *lambda functions* (anonymous functions)"
   ]
  },
  {
   "cell_type": "code",
   "execution_count": 2,
   "metadata": {},
   "outputs": [],
   "source": [
    "import math"
   ]
  },
  {
   "cell_type": "code",
   "execution_count": 4,
   "metadata": {},
   "outputs": [
    {
     "name": "stdout",
     "output_type": "stream",
     "text": [
      "\u001b[0;31mSignature:\u001b[0m \u001b[0mmath\u001b[0m\u001b[0;34m.\u001b[0m\u001b[0mfactorial\u001b[0m\u001b[0;34m(\u001b[0m\u001b[0mn\u001b[0m\u001b[0;34m,\u001b[0m \u001b[0;34m/\u001b[0m\u001b[0;34m)\u001b[0m\u001b[0;34m\u001b[0m\u001b[0;34m\u001b[0m\u001b[0m\n",
      "\u001b[0;31mDocstring:\u001b[0m\n",
      "Find n!.\n",
      "\n",
      "Raise a ValueError if x is negative or non-integral.\n",
      "\u001b[0;31mType:\u001b[0m      builtin_function_or_method"
     ]
    }
   ],
   "source": [
    "math.factorial?"
   ]
  },
  {
   "cell_type": "code",
   "execution_count": 6,
   "metadata": {},
   "outputs": [],
   "source": [
    "import os"
   ]
  },
  {
   "cell_type": "code",
   "execution_count": 7,
   "metadata": {},
   "outputs": [
    {
     "name": "stdout",
     "output_type": "stream",
     "text": [
      "\u001b[0;31mSignature:\u001b[0m \u001b[0mos\u001b[0m\u001b[0;34m.\u001b[0m\u001b[0mlistdir\u001b[0m\u001b[0;34m(\u001b[0m\u001b[0mpath\u001b[0m\u001b[0;34m=\u001b[0m\u001b[0;32mNone\u001b[0m\u001b[0;34m)\u001b[0m\u001b[0;34m\u001b[0m\u001b[0;34m\u001b[0m\u001b[0m\n",
      "\u001b[0;31mDocstring:\u001b[0m\n",
      "Return a list containing the names of the files in the directory.\n",
      "\n",
      "path can be specified as either str, bytes, or a path-like object.  If path is bytes,\n",
      "  the filenames returned will also be bytes; in all other circumstances\n",
      "  the filenames returned will be str.\n",
      "If path is None, uses the path='.'.\n",
      "On some platforms, path may also be specified as an open file descriptor;\\\n",
      "  the file descriptor must refer to a directory.\n",
      "  If this functionality is unavailable, using it raises NotImplementedError.\n",
      "\n",
      "The list is in arbitrary order.  It does not include the special\n",
      "entries '.' and '..' even if they are present in the directory.\n",
      "\u001b[0;31mType:\u001b[0m      builtin_function_or_method"
     ]
    }
   ],
   "source": [
    "os.listdir?"
   ]
  },
  {
   "cell_type": "code",
   "execution_count": 4,
   "metadata": {},
   "outputs": [],
   "source": [
    "def si (p,r,t):\n",
    "    ans = p*r*t/100\n",
    "    print(f'SIMPLE INTEREST IS {ans:.2f}')"
   ]
  },
  {
   "cell_type": "code",
   "execution_count": 5,
   "metadata": {},
   "outputs": [
    {
     "name": "stdout",
     "output_type": "stream",
     "text": [
      "SIMPLE INTEREST IS 100.00\n"
     ]
    }
   ],
   "source": [
    "si(1000,5,2)"
   ]
  },
  {
   "cell_type": "code",
   "execution_count": 6,
   "metadata": {},
   "outputs": [],
   "source": [
    "def isprime(n):\n",
    "    c = 0\n",
    "    for i in range(1,n+1):\n",
    "        if n % i == 0:\n",
    "            c = c +1\n",
    "    if c == 2:\n",
    "        print(f'{n} number is prime')\n",
    "    else:\n",
    "        print(f'{n} is not prime')"
   ]
  },
  {
   "cell_type": "code",
   "execution_count": 8,
   "metadata": {},
   "outputs": [
    {
     "name": "stdout",
     "output_type": "stream",
     "text": [
      "2 number is prime\n",
      "None\n",
      "10 is not prime\n",
      "None\n"
     ]
    }
   ],
   "source": [
    "print(isprime(2))\n",
    "print(isprime(10))"
   ]
  },
  {
   "cell_type": "code",
   "execution_count": 7,
   "metadata": {},
   "outputs": [],
   "source": [
    "def hypotenuse(p, b=1):\n",
    "    h =  (p**2 + b**2) ** 0.5\n",
    "    print(h)"
   ]
  },
  {
   "cell_type": "code",
   "execution_count": 8,
   "metadata": {},
   "outputs": [
    {
     "name": "stdout",
     "output_type": "stream",
     "text": [
      "12.041594578792296\n",
      "5.0990195135927845\n",
      "13.0\n",
      "11.180339887498949\n",
      "13.92838827718412\n",
      "13.0\n",
      "19.1049731745428\n",
      "19.1049731745428\n",
      "19.1049731745428\n",
      "19.1049731745428\n"
     ]
    }
   ],
   "source": [
    "hypotenuse(12)\n",
    "hypotenuse(5)\n",
    "hypotenuse(12,5)\n",
    "hypotenuse(p=10,b=5) # named arguments\n",
    "hypotenuse(b=13,p=5)\n",
    "hypotenuse(12,b=5) # positional argument # positional argument must comes first\n",
    "x = int(input('perp'))\n",
    "y = int(input('base'))\n",
    "hypotenuse(x,y)\n",
    "hypotenuse(p=x,b=y)\n",
    "hypotenuse(x,b=y)\n",
    "hypotenuse(b=y,p=x)"
   ]
  },
  {
   "cell_type": "code",
   "execution_count": 13,
   "metadata": {},
   "outputs": [],
   "source": [
    "def multiplier(*num):\n",
    "    ans = 1\n",
    "    for i in num:\n",
    "        ans*=i\n",
    "    print(ans)"
   ]
  },
  {
   "cell_type": "code",
   "execution_count": 14,
   "metadata": {},
   "outputs": [
    {
     "name": "stdout",
     "output_type": "stream",
     "text": [
      "1\n",
      "2\n",
      "24\n",
      "2540160\n"
     ]
    }
   ],
   "source": [
    "multiplier()\n",
    "multiplier(2)\n",
    "multiplier(2,3,4)\n",
    "multiplier(2,3,4,5,6,1,12,14,21)"
   ]
  },
  {
   "cell_type": "code",
   "execution_count": 4,
   "metadata": {},
   "outputs": [],
   "source": [
    "def agg(*num, operator='add'):\n",
    "    if operator == 'add':\n",
    "        ans = 0\n",
    "        for i in num:\n",
    "            ans+=1\n",
    "            print(ans)\n",
    "    elif operator == 'mul':\n",
    "        ans = 1\n",
    "        for i in num:\n",
    "            ans *= i \n",
    "            print(ans)\n",
    "    elif operator == num:\n",
    "        ans = 0\n",
    "        for i in num:\n",
    "            ans+=i\n",
    "            print(ans/len(num))\n",
    "        else:\n",
    "            print(\"invalid operator\")"
   ]
  },
  {
   "cell_type": "code",
   "execution_count": 5,
   "metadata": {},
   "outputs": [
    {
     "name": "stdout",
     "output_type": "stream",
     "text": [
      "1\n",
      "2\n",
      "3\n",
      "11\n",
      "242\n",
      "242\n",
      "484\n",
      "1452\n"
     ]
    }
   ],
   "source": [
    "agg(11,22,33)\n",
    "agg(11,22,1,2,3,operator = 'mul')\n",
    "agg(11,2,32,22,operator = 'mean')\n",
    "agg(11,2,32,55,operator = 'sheen')"
   ]
  },
  {
   "cell_type": "code",
   "execution_count": 8,
   "metadata": {},
   "outputs": [
    {
     "name": "stdout",
     "output_type": "stream",
     "text": [
      "13\n"
     ]
    }
   ],
   "source": [
    "def add(a,b):\n",
    "    return a+b\n",
    "\n",
    "ans = add(3,10)\n",
    "print(ans)"
   ]
  },
  {
   "cell_type": "code",
   "execution_count": 9,
   "metadata": {},
   "outputs": [
    {
     "name": "stdout",
     "output_type": "stream",
     "text": [
      "True\n",
      "False\n"
     ]
    }
   ],
   "source": [
    "def odd(x):\n",
    "    if x%2==0:\n",
    "        return False\n",
    "    else:\n",
    "        return True\n",
    "def even(x):\n",
    "    if x%2==0:\n",
    "        return True\n",
    "    else:\n",
    "        return False\n",
    "    \n",
    "\n",
    "print(odd(3))\n",
    "print(even(3))"
   ]
  },
  {
   "cell_type": "code",
   "execution_count": 11,
   "metadata": {},
   "outputs": [
    {
     "name": "stdout",
     "output_type": "stream",
     "text": [
      "6\n",
      "20\n"
     ]
    }
   ],
   "source": [
    "def area(l,b=10): #default arguement\n",
    "    return l*b\n",
    "print(area(2,3))\n",
    "print(area(2))"
   ]
  },
  {
   "cell_type": "code",
   "execution_count": 15,
   "metadata": {},
   "outputs": [
    {
     "name": "stdout",
     "output_type": "stream",
     "text": [
      "ananya shukla\n",
      "ananya shukla\n",
      "ananya shukla\n",
      "shukla ananya\n"
     ]
    }
   ],
   "source": [
    "def name(first,last):   #keyword argumements\n",
    "    return first+\" \"+last\n",
    "\n",
    "print(name('ananya','shukla'))\n",
    "print(name(first='ananya',last='shukla'))\n",
    "print(name(last='shukla',first='ananya'))\n",
    "print(name('shukla','ananya'))"
   ]
  },
  {
   "cell_type": "code",
   "execution_count": 16,
   "metadata": {},
   "outputs": [
    {
     "name": "stdout",
     "output_type": "stream",
     "text": [
      "name is ananya\n",
      "age is 20\n",
      "name is ananya\n",
      "age is 20\n"
     ]
    }
   ],
   "source": [
    "def posn(name,age):   # positional arguements\n",
    "    print('name is',name)\n",
    "    print('age is', age)\n",
    "posn('ananya',20)\n",
    "posn(age=20,name='ananya')"
   ]
  },
  {
   "cell_type": "markdown",
   "metadata": {},
   "source": [
    "## ARBITRARY ARGUEMENTS \n",
    "- ARGS\n",
    "- KWARGS"
   ]
  },
  {
   "cell_type": "code",
   "execution_count": 17,
   "metadata": {},
   "outputs": [
    {
     "name": "stdout",
     "output_type": "stream",
     "text": [
      "ananya\n",
      "shukla\n",
      "ananya shukla\n",
      "None\n"
     ]
    }
   ],
   "source": [
    "def sentence(*argv):  #multiple arguements\n",
    "    for i in argv:\n",
    "        print(i)\n",
    "print(sentence('ananya','shukla','ananya shukla'))\n",
    "# if a function doesn't have a return statement, it returns None by default."
   ]
  },
  {
   "cell_type": "code",
   "execution_count": 3,
   "metadata": {},
   "outputs": [
    {
     "name": "stdout",
     "output_type": "stream",
     "text": [
      "{'name': 'ananya', 'age': 20, 'place': 'lko'}\n",
      "name ananya\n",
      "age 20\n",
      "place lko\n",
      "1\n"
     ]
    }
   ],
   "source": [
    "def fun(**kwargs):\n",
    "    print(kwargs)\n",
    "    for i in kwargs:\n",
    "        print(i,kwargs[i])\n",
    "    return 1\n",
    "\n",
    "print(fun(name='ananya',age=20,place='lko'))"
   ]
  },
  {
   "cell_type": "code",
   "execution_count": 5,
   "metadata": {},
   "outputs": [
    {
     "name": "stdout",
     "output_type": "stream",
     "text": [
      "27\n"
     ]
    }
   ],
   "source": [
    "# lambda functions (one line function)\n",
    "def cube(x):\n",
    "    return x**3\n",
    "print(cube(3))\n"
   ]
  },
  {
   "cell_type": "code",
   "execution_count": 6,
   "metadata": {},
   "outputs": [
    {
     "name": "stdout",
     "output_type": "stream",
     "text": [
      "27\n"
     ]
    }
   ],
   "source": [
    "cube=lambda x:x**3\n",
    "print(cube(3))"
   ]
  },
  {
   "cell_type": "code",
   "execution_count": 7,
   "metadata": {},
   "outputs": [
    {
     "name": "stdout",
     "output_type": "stream",
     "text": [
      "5.0\n"
     ]
    }
   ],
   "source": [
    "def hypotenuse(p, b=1):\n",
    "    h =  (p**2 + b**2) ** 0.5\n",
    "    return h\n",
    "print(hypotenuse(3,4))"
   ]
  },
  {
   "cell_type": "code",
   "execution_count": 9,
   "metadata": {},
   "outputs": [
    {
     "name": "stdout",
     "output_type": "stream",
     "text": [
      "5.0\n"
     ]
    }
   ],
   "source": [
    "hypotenuse = lambda b,p:(p**2 + b**2) ** 0.5\n",
    "print(hypotenuse(4,3))"
   ]
  },
  {
   "cell_type": "code",
   "execution_count": 17,
   "metadata": {},
   "outputs": [
    {
     "name": "stdout",
     "output_type": "stream",
     "text": [
      "True\n",
      "False\n"
     ]
    }
   ],
   "source": [
    "max = lambda x,y: True if x>y else False\n",
    "print(max(4,3))\n",
    "print(max(8,9))"
   ]
  },
  {
   "cell_type": "code",
   "execution_count": 18,
   "metadata": {},
   "outputs": [
    {
     "name": "stdout",
     "output_type": "stream",
     "text": [
      "False\n",
      "True\n"
     ]
    }
   ],
   "source": [
    "min = lambda x,y: True if x<y else False\n",
    "print(min(4,3))\n",
    "print(min(8,9))"
   ]
  },
  {
   "cell_type": "code",
   "execution_count": 13,
   "metadata": {},
   "outputs": [
    {
     "name": "stdout",
     "output_type": "stream",
     "text": [
      "False\n"
     ]
    }
   ],
   "source": [
    "odd = lambda x:True if x%2!=0 else False\n",
    "print(odd(8))"
   ]
  },
  {
   "cell_type": "code",
   "execution_count": 14,
   "metadata": {},
   "outputs": [
    {
     "name": "stdout",
     "output_type": "stream",
     "text": [
      "True\n"
     ]
    }
   ],
   "source": [
    "even = lambda x:True if x%2==0 else False\n",
    "print(even(8))"
   ]
  },
  {
   "cell_type": "code",
   "execution_count": 20,
   "metadata": {},
   "outputs": [
    {
     "name": "stdout",
     "output_type": "stream",
     "text": [
      "0\n",
      "1\n",
      "2\n",
      "3\n",
      "4\n"
     ]
    }
   ],
   "source": [
    "arr = [lambda arg=x: arg for x in range(5)]\n",
    "for i in arr:\n",
    "    print(i())"
   ]
  },
  {
   "cell_type": "code",
   "execution_count": 21,
   "metadata": {},
   "outputs": [
    {
     "name": "stdout",
     "output_type": "stream",
     "text": [
      "[[0, 0, 0, 0], [0, 0, 0, 0], [0, 0, 0, 0]]\n"
     ]
    }
   ],
   "source": [
    "# double dimension array\n",
    "matrix = [[0 for i in range(4)]for j in range(3)]\n",
    "print(matrix)"
   ]
  },
  {
   "cell_type": "code",
   "execution_count": 25,
   "metadata": {},
   "outputs": [
    {
     "name": "stdout",
     "output_type": "stream",
     "text": [
      "[[0, 0, 0, 0], [0, 0, 0, 0], [0, 0, 0, 0], [0, 0, 0, 0]]\n"
     ]
    }
   ],
   "source": [
    "matrix =[]\n",
    "for i in range(4):\n",
    "    sub=[]\n",
    "    for j in range(4):\n",
    "        sub.append(0)\n",
    "    matrix.append(sub)\n",
    "print(matrix)"
   ]
  }
 ],
 "metadata": {
  "kernelspec": {
   "display_name": "base",
   "language": "python",
   "name": "python3"
  },
  "language_info": {
   "codemirror_mode": {
    "name": "ipython",
    "version": 3
   },
   "file_extension": ".py",
   "mimetype": "text/x-python",
   "name": "python",
   "nbconvert_exporter": "python",
   "pygments_lexer": "ipython3",
   "version": "3.11.4"
  },
  "orig_nbformat": 4
 },
 "nbformat": 4,
 "nbformat_minor": 2
}
