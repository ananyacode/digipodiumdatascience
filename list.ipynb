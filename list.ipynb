{
 "cells": [
  {
   "attachments": {},
   "cell_type": "markdown",
   "metadata": {},
   "source": [
    "## DATA STRUCTURE\n",
    "    - LIST\n",
    "        - indexed, ordered, mutable, '[]'\n",
    "    - TUPLE\n",
    "        - indexed, ordered, immutable, '()'\n",
    "    - SET\n",
    "        - unindexed, unordered, mutable, no-duplicates '{}'\n",
    "    - DICTIONARY\n",
    "        - unindexed, key-value pairs, mutable, '{}'"
   ]
  },
  {
   "cell_type": "code",
   "execution_count": 4,
   "metadata": {},
   "outputs": [],
   "source": [
    "# creating a list\n",
    "x = [] # empty list\n",
    "y = [1,2,3,4,5] # list of integers\n",
    "z = ['sunday', 'monday', 'holiday']\n",
    "grocery = ['milk', 55, 'bread', '20', 'butter', 49]\n",
    "info = [[1,2,3], [4,5,6], [7,8,9]] # nested list\n",
    "a = [1,2]*2 # a list of 2 element with value 1,2"
   ]
  },
  {
   "cell_type": "code",
   "execution_count": 6,
   "metadata": {},
   "outputs": [],
   "source": [
    "x.append(10)\n",
    "x.append(input('enter a number'))"
   ]
  },
  {
   "cell_type": "code",
   "execution_count": 11,
   "metadata": {},
   "outputs": [
    {
     "name": "stdout",
     "output_type": "stream",
     "text": [
      "[10, 10, '1', 1, 2, 3, 1, 2, 3, 1, 2, 3, 3, 4, 5]\n"
     ]
    }
   ],
   "source": [
    "for i in range(3):\n",
    "    val = int(input('enter a number:'))\n",
    "    x.append(val)\n",
    "print(x)"
   ]
  },
  {
   "cell_type": "code",
   "execution_count": 12,
   "metadata": {},
   "outputs": [],
   "source": [
    "del info # delete info from the memory"
   ]
  },
  {
   "cell_type": "code",
   "execution_count": 14,
   "metadata": {},
   "outputs": [
    {
     "name": "stdout",
     "output_type": "stream",
     "text": [
      "10 5 10\n",
      "[10, 10]\n",
      "[3, 4, 5]\n",
      "[5, 4, 3, 3, 2, 1, 3, 2, 1, 3, 2, 1, '1', 10, 10]\n"
     ]
    }
   ],
   "source": [
    "print(x[0], x[-1], x[1])\n",
    "print(x[:2]) # slicing first two elements\n",
    "print(x[-3:]) # slicing last three elements\n",
    "print(x[::-1]) # reverse the list"
   ]
  },
  {
   "cell_type": "code",
   "execution_count": 16,
   "metadata": {},
   "outputs": [
    {
     "name": "stdout",
     "output_type": "stream",
     "text": [
      "10😂10😂1😂1😂2😂3😂1😂2😂3😂1😂2😂3😂3😂4😂5😂"
     ]
    }
   ],
   "source": [
    "for i in x:\n",
    "    print(i, end='😂')"
   ]
  },
  {
   "attachments": {},
   "cell_type": "markdown",
   "metadata": {},
   "source": [
    "# LIST HAVE TOTAL 11 FUNCTIONS\n",
    " - adding \n",
    "    - append() - add single item tothe end\n",
    "    - insert() - insert single item at given index\n",
    "    - extend() - merge an list to an existing list\n",
    " - remove\n",
    "    - remove() - remove single item by value \n",
    "    - pop()    - remove single item by value\n",
    "    - clear()  - remove all items\n",
    " - utility\n",
    "    - index()  - find index of item by value\n",
    "    - count()  - count repeated items\n",
    "    - sort()   - sort items\n",
    "    - reverse()- reverse items\n",
    "    - copy()   - copy items"
   ]
  },
  {
   "cell_type": "markdown",
   "metadata": {},
   "source": []
  }
 ],
 "metadata": {
  "kernelspec": {
   "display_name": "base",
   "language": "python",
   "name": "python3"
  },
  "language_info": {
   "codemirror_mode": {
    "name": "ipython",
    "version": 3
   },
   "file_extension": ".py",
   "mimetype": "text/x-python",
   "name": "python",
   "nbconvert_exporter": "python",
   "pygments_lexer": "ipython3",
   "version": "3.10.10"
  },
  "orig_nbformat": 4
 },
 "nbformat": 4,
 "nbformat_minor": 2
}
