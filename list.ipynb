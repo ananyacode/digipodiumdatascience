{
 "cells": [
  {
   "attachments": {},
   "cell_type": "markdown",
   "metadata": {},
   "source": [
    "## DATA STRUCTURE\n",
    "    - LIST\n",
    "        - indexed, ordered, mutable, '[]'\n",
    "    - TUPLE\n",
    "        - indexed, ordered, immutable, '()'\n",
    "    - SET\n",
    "        - unindexed, unordered, mutable, no-duplicates '{}'\n",
    "    - DICTIONARY\n",
    "        - unindexed, key-value pairs, mutable, '{}'"
   ]
  },
  {
   "cell_type": "code",
   "execution_count": 4,
   "metadata": {},
   "outputs": [],
   "source": [
    "# creating a list\n",
    "x = [] # empty list\n",
    "y = [1,2,3,4,5] # list of integers\n",
    "z = ['sunday', 'monday', 'holiday']\n",
    "grocery = ['milk', 55, 'bread', '20', 'butter', 49]\n",
    "info = [[1,2,3], [4,5,6], [7,8,9]] # nested list\n",
    "a = [1,2]*2 # a list of 2 element with value 1,2"
   ]
  },
  {
   "cell_type": "code",
   "execution_count": 6,
   "metadata": {},
   "outputs": [],
   "source": [
    "x.append(10)\n",
    "x.append(input('enter a number'))"
   ]
  },
  {
   "cell_type": "code",
   "execution_count": 11,
   "metadata": {},
   "outputs": [
    {
     "name": "stdout",
     "output_type": "stream",
     "text": [
      "[10, 10, '1', 1, 2, 3, 1, 2, 3, 1, 2, 3, 3, 4, 5]\n"
     ]
    }
   ],
   "source": [
    "for i in range(3):\n",
    "    val = int(input('enter a number:'))\n",
    "    x.append(val)\n",
    "print(x)"
   ]
  },
  {
   "cell_type": "code",
   "execution_count": 12,
   "metadata": {},
   "outputs": [],
   "source": [
    "del info # delete info from the memory"
   ]
  },
  {
   "cell_type": "code",
   "execution_count": 14,
   "metadata": {},
   "outputs": [
    {
     "name": "stdout",
     "output_type": "stream",
     "text": [
      "10 5 10\n",
      "[10, 10]\n",
      "[3, 4, 5]\n",
      "[5, 4, 3, 3, 2, 1, 3, 2, 1, 3, 2, 1, '1', 10, 10]\n"
     ]
    }
   ],
   "source": [
    "print(x[0], x[-1], x[1])\n",
    "print(x[:2]) # slicing first two elements\n",
    "print(x[-3:]) # slicing last three elements\n",
    "print(x[::-1]) # reverse the list"
   ]
  },
  {
   "cell_type": "code",
   "execution_count": 16,
   "metadata": {},
   "outputs": [
    {
     "name": "stdout",
     "output_type": "stream",
     "text": [
      "10😂10😂1😂1😂2😂3😂1😂2😂3😂1😂2😂3😂3😂4😂5😂"
     ]
    }
   ],
   "source": [
    "for i in x:\n",
    "    print(i, end='😂')"
   ]
  },
  {
   "attachments": {},
   "cell_type": "markdown",
   "metadata": {},
   "source": [
    "# LIST HAVE TOTAL 11 FUNCTIONS\n",
    " - adding \n",
    "    - append() - add single item tothe end\n",
    "    - insert() - insert single item at given index\n",
    "    - extend() - merge an list to an existing list\n",
    " - remove\n",
    "    - remove() - remove single item by value \n",
    "    - pop()    - remove single item by value\n",
    "    - clear()  - remove all items\n",
    " - utility\n",
    "    - index()  - find index of item by value\n",
    "    - count()  - count repeated items\n",
    "    - sort()   - sort items\n",
    "    - reverse()- reverse items\n",
    "    - copy()   - copy items"
   ]
  },
  {
   "cell_type": "code",
   "execution_count": 2,
   "metadata": {},
   "outputs": [
    {
     "data": {
      "text/plain": [
       "['the notebook', 'the fault in our stars', 'the pride and prejudice']"
      ]
     },
     "execution_count": 2,
     "metadata": {},
     "output_type": "execute_result"
    }
   ],
   "source": [
    "books = [] # books list empty\n",
    "books.append('the notebook')\n",
    "books.append('the fault in our stars')\n",
    "books.append('the pride and prejudice')\n",
    "books"
   ]
  },
  {
   "cell_type": "code",
   "execution_count": 4,
   "metadata": {},
   "outputs": [
    {
     "data": {
      "text/plain": [
       "['the notebook',\n",
       " 'flightless bird',\n",
       " 'the fault in our stars',\n",
       " 'the pride and prejudice']"
      ]
     },
     "execution_count": 4,
     "metadata": {},
     "output_type": "execute_result"
    }
   ],
   "source": [
    "books.insert(1,'flightless bird')\n",
    "books"
   ]
  },
  {
   "cell_type": "code",
   "execution_count": 5,
   "metadata": {},
   "outputs": [
    {
     "data": {
      "text/plain": [
       "['the notebook',\n",
       " 'flightless bird',\n",
       " 'red white royal blue',\n",
       " 'the pride and prejudice']"
      ]
     },
     "execution_count": 5,
     "metadata": {},
     "output_type": "execute_result"
    }
   ],
   "source": [
    "books[2] = 'red white royal blue' # replace\n",
    "books"
   ]
  },
  {
   "cell_type": "code",
   "execution_count": 10,
   "metadata": {},
   "outputs": [],
   "source": [
    "old_books = ['a song of fire and ice', 'umbrella', 'the jungle book', 'pride and prejudice']\n",
    "books.extend(old_books) # adds a list to existing list"
   ]
  },
  {
   "cell_type": "code",
   "execution_count": 11,
   "metadata": {},
   "outputs": [
    {
     "data": {
      "text/plain": [
       "['the notebook',\n",
       " 'flightless bird',\n",
       " 'red white royal blue',\n",
       " 'the pride and prejudice',\n",
       " 'a song of fire and ice',\n",
       " ' umbrella',\n",
       " 'the jungle book',\n",
       " 'pride and prejudice',\n",
       " 'a song of fire and ice',\n",
       " 'umbrella',\n",
       " 'the jungle book',\n",
       " 'pride and prejudice',\n",
       " 'a song of fire and ice',\n",
       " 'umbrella',\n",
       " 'the jungle book',\n",
       " 'pride and prejudice']"
      ]
     },
     "execution_count": 11,
     "metadata": {},
     "output_type": "execute_result"
    }
   ],
   "source": [
    "books"
   ]
  },
  {
   "cell_type": "code",
   "execution_count": 16,
   "metadata": {},
   "outputs": [],
   "source": [
    "books.remove('the jungle book') # remove only first occurence"
   ]
  },
  {
   "cell_type": "code",
   "execution_count": 17,
   "metadata": {},
   "outputs": [
    {
     "data": {
      "text/plain": [
       "['the notebook',\n",
       " 'flightless bird',\n",
       " 'red white royal blue',\n",
       " 'the pride and prejudice',\n",
       " 'a song of fire and ice',\n",
       " ' umbrella',\n",
       " 'pride and prejudice',\n",
       " 'a song of fire and ice',\n",
       " 'umbrella',\n",
       " 'pride and prejudice',\n",
       " 'a song of fire and ice',\n",
       " 'umbrella',\n",
       " 'pride and prejudice']"
      ]
     },
     "execution_count": 17,
     "metadata": {},
     "output_type": "execute_result"
    }
   ],
   "source": [
    "books"
   ]
  },
  {
   "cell_type": "code",
   "execution_count": 21,
   "metadata": {},
   "outputs": [
    {
     "data": {
      "text/plain": [
       "['the notebook',\n",
       " 'flightless bird',\n",
       " 'red white royal blue',\n",
       " 'the pride and prejudice',\n",
       " ' umbrella',\n",
       " 'a song of fire and ice',\n",
       " 'umbrella',\n",
       " 'pride and prejudice',\n",
       " 'a song of fire and ice',\n",
       " 'umbrella']"
      ]
     },
     "execution_count": 21,
     "metadata": {},
     "output_type": "execute_result"
    }
   ],
   "source": [
    "if 'pride and prejudice' in books:\n",
    "    books.remove('pride and prejudice')\n",
    "books"
   ]
  },
  {
   "cell_type": "code",
   "execution_count": 18,
   "metadata": {},
   "outputs": [
    {
     "data": {
      "text/plain": [
       "'a song of fire and ice'"
      ]
     },
     "execution_count": 18,
     "metadata": {},
     "output_type": "execute_result"
    }
   ],
   "source": [
    "books.pop(4)"
   ]
  },
  {
   "cell_type": "code",
   "execution_count": 19,
   "metadata": {},
   "outputs": [
    {
     "data": {
      "text/plain": [
       "['the notebook',\n",
       " 'flightless bird',\n",
       " 'red white royal blue',\n",
       " 'the pride and prejudice',\n",
       " ' umbrella',\n",
       " 'pride and prejudice',\n",
       " 'a song of fire and ice',\n",
       " 'umbrella',\n",
       " 'pride and prejudice',\n",
       " 'a song of fire and ice',\n",
       " 'umbrella',\n",
       " 'pride and prejudice']"
      ]
     },
     "execution_count": 19,
     "metadata": {},
     "output_type": "execute_result"
    }
   ],
   "source": [
    "books"
   ]
  },
  {
   "cell_type": "code",
   "execution_count": 20,
   "metadata": {},
   "outputs": [
    {
     "data": {
      "text/plain": [
       "'pride and prejudice'"
      ]
     },
     "execution_count": 20,
     "metadata": {},
     "output_type": "execute_result"
    }
   ],
   "source": [
    "books.pop() # remove the last occurence"
   ]
  },
  {
   "cell_type": "code",
   "execution_count": 22,
   "metadata": {},
   "outputs": [
    {
     "data": {
      "text/plain": [
       "[]"
      ]
     },
     "execution_count": 22,
     "metadata": {},
     "output_type": "execute_result"
    }
   ],
   "source": [
    "books.clear()\n",
    "books"
   ]
  },
  {
   "cell_type": "code",
   "execution_count": 30,
   "metadata": {},
   "outputs": [
    {
     "data": {
      "text/plain": [
       "['',\n",
       " \"    'Sholay',\",\n",
       " \"    'Dilwale Dulhania Le Jayenge',\",\n",
       " \"    'Lagaan',\",\n",
       " \"    'Kabhi Khushi Kabhie Gham',\",\n",
       " \"    'Kuch Kuch Hota Hai',\",\n",
       " \"    'Devdas',\",\n",
       " \"    'Dil Chahta Hai',\",\n",
       " \"    'Rang De Basanti',\",\n",
       " \"    'Jab We Met',\",\n",
       " \"    '3 Idiots',\",\n",
       " \"    'Gangs of Wasseypur',\",\n",
       " \"    'Queen',\",\n",
       " \"    'PK',\",\n",
       " \"    'Bajrangi Bhaijaan',\",\n",
       " \"    'Bahubali: The Beginning',\",\n",
       " \"    'Bahubali: The Conclusion',\",\n",
       " \"    'Dangal',\",\n",
       " \"    'Raazi',\",\n",
       " \"    'Padmaavat',\",\n",
       " \"    'Kabir Singh',\",\n",
       " \"    'Gully Boy',\",\n",
       " \"    'Uri: The Surgical Strike',\",\n",
       " \"    'Andhadhun',\",\n",
       " \"    'Article 15',\",\n",
       " \"    'Chhichhore',\",\n",
       " \"    'Tanhaji: The Unsung Warrior',\",\n",
       " \"    'Thappad',\",\n",
       " \"    'Masaan',\",\n",
       " \"    'Badhaai Ho',\",\n",
       " \"    'Dil Dhadakne Do',\",\n",
       " \"    'Zindagi Na Milegi Dobara',\",\n",
       " \"    'Barfi!',\",\n",
       " \"    'Bhaag Milkha Bhaag',\",\n",
       " \"    'Vicky Donor',\",\n",
       " \"    'Kahaani',\",\n",
       " \"    'Haider',\",\n",
       " \"    'Mulk',\",\n",
       " \"    'Badlapur',\",\n",
       " \"    'Bajirao Mastani',\",\n",
       " \"    'Dabangg',\",\n",
       " \"    'Dil To Pagal Hai',\",\n",
       " \"    'Guru',\",\n",
       " \"    'Rockstar',\",\n",
       " \"    'Wake Up Sid',\",\n",
       " \"    'A Wednesday',\",\n",
       " \"    'Black',\",\n",
       " \"    'Taare Zameen Par',\",\n",
       " \"    'Chhapaak',\",\n",
       " \"    'Piku',\",\n",
       " \"    'Neerja',\",\n",
       " \"    'Rustom',\",\n",
       " \"    'Drishyam',\",\n",
       " \"    'Pink',\",\n",
       " \"    'Panga',\",\n",
       " \"    'Super 30',\",\n",
       " \"    'Simmba',\",\n",
       " \"    'Article 15',\",\n",
       " \"    'Kedarnath',\",\n",
       " \"    'Sonu Ke Titu Ki Sweety',\",\n",
       " \"    'Pad Man',\",\n",
       " \"    'Newton',\",\n",
       " \"    'Talaash',\",\n",
       " \"    'Dear Zindagi',\",\n",
       " \"    'Luka Chuppi',\",\n",
       " \"    'Sanju',\",\n",
       " \"    'Student of the Year',\",\n",
       " \"    'War',\",\n",
       " \"    'Raid',\",\n",
       " \"    'Golmaal: Fun Unlimited',\",\n",
       " \"    'Dhadak',\",\n",
       " \"    'Chhichhore',\",\n",
       " \"    'Bala',\",\n",
       " \"    'Pati Patni Aur Woh',\",\n",
       " \"    'Dream Girl',\",\n",
       " \"    'Thugs of Hindostan',\",\n",
       " \"    'Housefull',\",\n",
       " \"    'Kabhi Alvida Naa Kehna',\",\n",
       " \"    'Veer-Zaara',\",\n",
       " \"    'Jodhaa Akbar',\",\n",
       " \"    'My Name Is Khan',\",\n",
       " \"    'Delhi-6',\",\n",
       " \"    'Fashion',\",\n",
       " \"    'Om Shanti Om',\",\n",
       " \"    'Jab Tak Hai Jaan',\",\n",
       " \"    'Ek Tha Tiger',\",\n",
       " \"    'Yeh Jawaani Hai Deewani',\",\n",
       " \"    'Chennai Express',\",\n",
       " \"    'Bang Bang!',\",\n",
       " \"    'Happy New Year',\",\n",
       " \"    'Dilwale',\",\n",
       " \"    'Bajirao Mastani',\",\n",
       " \"    'Ae Dil Hai Mushkil',\",\n",
       " \"    'Sultan',\",\n",
       " \"    'Dangal',\",\n",
       " \"    'Raees',\",\n",
       " \"    'Padmaavat',\",\n",
       " \"    'Sanju',\",\n",
       " \"    'Uri: The Surgical Strike',\",\n",
       " \"    'Kabir Singh',\",\n",
       " \"    'War' \"]"
      ]
     },
     "execution_count": 30,
     "metadata": {},
     "output_type": "execute_result"
    }
   ],
   "source": [
    "movies = '''\n",
    "    'Sholay',\n",
    "    'Dilwale Dulhania Le Jayenge',\n",
    "    'Lagaan',\n",
    "    'Kabhi Khushi Kabhie Gham',\n",
    "    'Kuch Kuch Hota Hai',\n",
    "    'Devdas',\n",
    "    'Dil Chahta Hai',\n",
    "    'Rang De Basanti',\n",
    "    'Jab We Met',\n",
    "    '3 Idiots',\n",
    "    'Gangs of Wasseypur',\n",
    "    'Queen',\n",
    "    'PK',\n",
    "    'Bajrangi Bhaijaan',\n",
    "    'Bahubali: The Beginning',\n",
    "    'Bahubali: The Conclusion',\n",
    "    'Dangal',\n",
    "    'Raazi',\n",
    "    'Padmaavat',\n",
    "    'Kabir Singh',\n",
    "    'Gully Boy',\n",
    "    'Uri: The Surgical Strike',\n",
    "    'Andhadhun',\n",
    "    'Article 15',\n",
    "    'Chhichhore',\n",
    "    'Tanhaji: The Unsung Warrior',\n",
    "    'Thappad',\n",
    "    'Masaan',\n",
    "    'Badhaai Ho',\n",
    "    'Dil Dhadakne Do',\n",
    "    'Zindagi Na Milegi Dobara',\n",
    "    'Barfi!',\n",
    "    'Bhaag Milkha Bhaag',\n",
    "    'Vicky Donor',\n",
    "    'Kahaani',\n",
    "    'Haider',\n",
    "    'Mulk',\n",
    "    'Badlapur',\n",
    "    'Bajirao Mastani',\n",
    "    'Dabangg',\n",
    "    'Dil To Pagal Hai',\n",
    "    'Guru',\n",
    "    'Rockstar',\n",
    "    'Wake Up Sid',\n",
    "    'A Wednesday',\n",
    "    'Black',\n",
    "    'Taare Zameen Par',\n",
    "    'Chhapaak',\n",
    "    'Piku',\n",
    "    'Neerja',\n",
    "    'Rustom',\n",
    "    'Drishyam',\n",
    "    'Pink',\n",
    "    'Panga',\n",
    "    'Super 30',\n",
    "    'Simmba',\n",
    "    'Article 15',\n",
    "    'Kedarnath',\n",
    "    'Sonu Ke Titu Ki Sweety',\n",
    "    'Pad Man',\n",
    "    'Newton',\n",
    "    'Talaash',\n",
    "    'Dear Zindagi',\n",
    "    'Luka Chuppi',\n",
    "    'Sanju',\n",
    "    'Student of the Year',\n",
    "    'War',\n",
    "    'Raid',\n",
    "    'Golmaal: Fun Unlimited',\n",
    "    'Dhadak',\n",
    "    'Chhichhore',\n",
    "    'Bala',\n",
    "    'Pati Patni Aur Woh',\n",
    "    'Dream Girl',\n",
    "    'Thugs of Hindostan',\n",
    "    'Housefull',\n",
    "    'Kabhi Alvida Naa Kehna',\n",
    "    'Veer-Zaara',\n",
    "    'Jodhaa Akbar',\n",
    "    'My Name Is Khan',\n",
    "    'Delhi-6',\n",
    "    'Fashion',\n",
    "    'Om Shanti Om',\n",
    "    'Jab Tak Hai Jaan',\n",
    "    'Ek Tha Tiger',\n",
    "    'Yeh Jawaani Hai Deewani',\n",
    "    'Chennai Express',\n",
    "    'Bang Bang!',\n",
    "    'Happy New Year',\n",
    "    'Dilwale',\n",
    "    'Bajirao Mastani',\n",
    "    'Ae Dil Hai Mushkil',\n",
    "    'Sultan',\n",
    "    'Dangal',\n",
    "    'Raees',\n",
    "    'Padmaavat',\n",
    "    'Sanju',\n",
    "    'Uri: The Surgical Strike',\n",
    "    'Kabir Singh',\n",
    "    'War' '''\n",
    "\n",
    "movie = movies.splitlines()\n",
    "movie"
   ]
  },
  {
   "cell_type": "code",
   "execution_count": 31,
   "metadata": {},
   "outputs": [
    {
     "name": "stdout",
     "output_type": "stream",
     "text": [
      "1909\n"
     ]
    }
   ],
   "source": [
    "print(len(movies))"
   ]
  },
  {
   "cell_type": "code",
   "execution_count": 32,
   "metadata": {},
   "outputs": [
    {
     "name": "stdout",
     "output_type": "stream",
     "text": [
      "101\n"
     ]
    }
   ],
   "source": [
    "print(len(movie))"
   ]
  },
  {
   "cell_type": "code",
   "execution_count": 34,
   "metadata": {},
   "outputs": [],
   "source": [
    "movie.reverse()"
   ]
  },
  {
   "cell_type": "code",
   "execution_count": 35,
   "metadata": {},
   "outputs": [
    {
     "data": {
      "text/plain": [
       "[\"    'War' \",\n",
       " \"    'Kabir Singh',\",\n",
       " \"    'Uri: The Surgical Strike',\",\n",
       " \"    'Sanju',\",\n",
       " \"    'Padmaavat',\",\n",
       " \"    'Raees',\",\n",
       " \"    'Dangal',\",\n",
       " \"    'Sultan',\",\n",
       " \"    'Ae Dil Hai Mushkil',\",\n",
       " \"    'Bajirao Mastani',\",\n",
       " \"    'Dilwale',\",\n",
       " \"    'Happy New Year',\",\n",
       " \"    'Bang Bang!',\",\n",
       " \"    'Chennai Express',\",\n",
       " \"    'Yeh Jawaani Hai Deewani',\",\n",
       " \"    'Ek Tha Tiger',\",\n",
       " \"    'Jab Tak Hai Jaan',\",\n",
       " \"    'Om Shanti Om',\",\n",
       " \"    'Fashion',\",\n",
       " \"    'Delhi-6',\",\n",
       " \"    'My Name Is Khan',\",\n",
       " \"    'Jodhaa Akbar',\",\n",
       " \"    'Veer-Zaara',\",\n",
       " \"    'Kabhi Alvida Naa Kehna',\",\n",
       " \"    'Housefull',\",\n",
       " \"    'Thugs of Hindostan',\",\n",
       " \"    'Dream Girl',\",\n",
       " \"    'Pati Patni Aur Woh',\",\n",
       " \"    'Bala',\",\n",
       " \"    'Chhichhore',\",\n",
       " \"    'Dhadak',\",\n",
       " \"    'Golmaal: Fun Unlimited',\",\n",
       " \"    'Raid',\",\n",
       " \"    'War',\",\n",
       " \"    'Student of the Year',\",\n",
       " \"    'Sanju',\",\n",
       " \"    'Luka Chuppi',\",\n",
       " \"    'Dear Zindagi',\",\n",
       " \"    'Talaash',\",\n",
       " \"    'Newton',\",\n",
       " \"    'Pad Man',\",\n",
       " \"    'Sonu Ke Titu Ki Sweety',\",\n",
       " \"    'Kedarnath',\",\n",
       " \"    'Article 15',\",\n",
       " \"    'Simmba',\",\n",
       " \"    'Super 30',\",\n",
       " \"    'Panga',\",\n",
       " \"    'Pink',\",\n",
       " \"    'Drishyam',\",\n",
       " \"    'Rustom',\",\n",
       " \"    'Neerja',\",\n",
       " \"    'Piku',\",\n",
       " \"    'Chhapaak',\",\n",
       " \"    'Taare Zameen Par',\",\n",
       " \"    'Black',\",\n",
       " \"    'A Wednesday',\",\n",
       " \"    'Wake Up Sid',\",\n",
       " \"    'Rockstar',\",\n",
       " \"    'Guru',\",\n",
       " \"    'Dil To Pagal Hai',\",\n",
       " \"    'Dabangg',\",\n",
       " \"    'Bajirao Mastani',\",\n",
       " \"    'Badlapur',\",\n",
       " \"    'Mulk',\",\n",
       " \"    'Haider',\",\n",
       " \"    'Kahaani',\",\n",
       " \"    'Vicky Donor',\",\n",
       " \"    'Bhaag Milkha Bhaag',\",\n",
       " \"    'Barfi!',\",\n",
       " \"    'Zindagi Na Milegi Dobara',\",\n",
       " \"    'Dil Dhadakne Do',\",\n",
       " \"    'Badhaai Ho',\",\n",
       " \"    'Masaan',\",\n",
       " \"    'Thappad',\",\n",
       " \"    'Tanhaji: The Unsung Warrior',\",\n",
       " \"    'Chhichhore',\",\n",
       " \"    'Article 15',\",\n",
       " \"    'Andhadhun',\",\n",
       " \"    'Uri: The Surgical Strike',\",\n",
       " \"    'Gully Boy',\",\n",
       " \"    'Kabir Singh',\",\n",
       " \"    'Padmaavat',\",\n",
       " \"    'Raazi',\",\n",
       " \"    'Dangal',\",\n",
       " \"    'Bahubali: The Conclusion',\",\n",
       " \"    'Bahubali: The Beginning',\",\n",
       " \"    'Bajrangi Bhaijaan',\",\n",
       " \"    'PK',\",\n",
       " \"    'Queen',\",\n",
       " \"    'Gangs of Wasseypur',\",\n",
       " \"    '3 Idiots',\",\n",
       " \"    'Jab We Met',\",\n",
       " \"    'Rang De Basanti',\",\n",
       " \"    'Dil Chahta Hai',\",\n",
       " \"    'Devdas',\",\n",
       " \"    'Kuch Kuch Hota Hai',\",\n",
       " \"    'Kabhi Khushi Kabhie Gham',\",\n",
       " \"    'Lagaan',\",\n",
       " \"    'Dilwale Dulhania Le Jayenge',\",\n",
       " \"    'Sholay',\",\n",
       " '']"
      ]
     },
     "execution_count": 35,
     "metadata": {},
     "output_type": "execute_result"
    }
   ],
   "source": [
    "movie"
   ]
  },
  {
   "cell_type": "code",
   "execution_count": 36,
   "metadata": {},
   "outputs": [],
   "source": [
    "movie.sort()"
   ]
  },
  {
   "cell_type": "code",
   "execution_count": 37,
   "metadata": {},
   "outputs": [
    {
     "data": {
      "text/plain": [
       "['',\n",
       " \"    '3 Idiots',\",\n",
       " \"    'A Wednesday',\",\n",
       " \"    'Ae Dil Hai Mushkil',\",\n",
       " \"    'Andhadhun',\",\n",
       " \"    'Article 15',\",\n",
       " \"    'Article 15',\",\n",
       " \"    'Badhaai Ho',\",\n",
       " \"    'Badlapur',\",\n",
       " \"    'Bahubali: The Beginning',\",\n",
       " \"    'Bahubali: The Conclusion',\",\n",
       " \"    'Bajirao Mastani',\",\n",
       " \"    'Bajirao Mastani',\",\n",
       " \"    'Bajrangi Bhaijaan',\",\n",
       " \"    'Bala',\",\n",
       " \"    'Bang Bang!',\",\n",
       " \"    'Barfi!',\",\n",
       " \"    'Bhaag Milkha Bhaag',\",\n",
       " \"    'Black',\",\n",
       " \"    'Chennai Express',\",\n",
       " \"    'Chhapaak',\",\n",
       " \"    'Chhichhore',\",\n",
       " \"    'Chhichhore',\",\n",
       " \"    'Dabangg',\",\n",
       " \"    'Dangal',\",\n",
       " \"    'Dangal',\",\n",
       " \"    'Dear Zindagi',\",\n",
       " \"    'Delhi-6',\",\n",
       " \"    'Devdas',\",\n",
       " \"    'Dhadak',\",\n",
       " \"    'Dil Chahta Hai',\",\n",
       " \"    'Dil Dhadakne Do',\",\n",
       " \"    'Dil To Pagal Hai',\",\n",
       " \"    'Dilwale Dulhania Le Jayenge',\",\n",
       " \"    'Dilwale',\",\n",
       " \"    'Dream Girl',\",\n",
       " \"    'Drishyam',\",\n",
       " \"    'Ek Tha Tiger',\",\n",
       " \"    'Fashion',\",\n",
       " \"    'Gangs of Wasseypur',\",\n",
       " \"    'Golmaal: Fun Unlimited',\",\n",
       " \"    'Gully Boy',\",\n",
       " \"    'Guru',\",\n",
       " \"    'Haider',\",\n",
       " \"    'Happy New Year',\",\n",
       " \"    'Housefull',\",\n",
       " \"    'Jab Tak Hai Jaan',\",\n",
       " \"    'Jab We Met',\",\n",
       " \"    'Jodhaa Akbar',\",\n",
       " \"    'Kabhi Alvida Naa Kehna',\",\n",
       " \"    'Kabhi Khushi Kabhie Gham',\",\n",
       " \"    'Kabir Singh',\",\n",
       " \"    'Kabir Singh',\",\n",
       " \"    'Kahaani',\",\n",
       " \"    'Kedarnath',\",\n",
       " \"    'Kuch Kuch Hota Hai',\",\n",
       " \"    'Lagaan',\",\n",
       " \"    'Luka Chuppi',\",\n",
       " \"    'Masaan',\",\n",
       " \"    'Mulk',\",\n",
       " \"    'My Name Is Khan',\",\n",
       " \"    'Neerja',\",\n",
       " \"    'Newton',\",\n",
       " \"    'Om Shanti Om',\",\n",
       " \"    'PK',\",\n",
       " \"    'Pad Man',\",\n",
       " \"    'Padmaavat',\",\n",
       " \"    'Padmaavat',\",\n",
       " \"    'Panga',\",\n",
       " \"    'Pati Patni Aur Woh',\",\n",
       " \"    'Piku',\",\n",
       " \"    'Pink',\",\n",
       " \"    'Queen',\",\n",
       " \"    'Raazi',\",\n",
       " \"    'Raees',\",\n",
       " \"    'Raid',\",\n",
       " \"    'Rang De Basanti',\",\n",
       " \"    'Rockstar',\",\n",
       " \"    'Rustom',\",\n",
       " \"    'Sanju',\",\n",
       " \"    'Sanju',\",\n",
       " \"    'Sholay',\",\n",
       " \"    'Simmba',\",\n",
       " \"    'Sonu Ke Titu Ki Sweety',\",\n",
       " \"    'Student of the Year',\",\n",
       " \"    'Sultan',\",\n",
       " \"    'Super 30',\",\n",
       " \"    'Taare Zameen Par',\",\n",
       " \"    'Talaash',\",\n",
       " \"    'Tanhaji: The Unsung Warrior',\",\n",
       " \"    'Thappad',\",\n",
       " \"    'Thugs of Hindostan',\",\n",
       " \"    'Uri: The Surgical Strike',\",\n",
       " \"    'Uri: The Surgical Strike',\",\n",
       " \"    'Veer-Zaara',\",\n",
       " \"    'Vicky Donor',\",\n",
       " \"    'Wake Up Sid',\",\n",
       " \"    'War' \",\n",
       " \"    'War',\",\n",
       " \"    'Yeh Jawaani Hai Deewani',\",\n",
       " \"    'Zindagi Na Milegi Dobara',\"]"
      ]
     },
     "execution_count": 37,
     "metadata": {},
     "output_type": "execute_result"
    }
   ],
   "source": [
    "movie"
   ]
  },
  {
   "cell_type": "code",
   "execution_count": 38,
   "metadata": {},
   "outputs": [],
   "source": [
    "movie.sort(reverse = True)"
   ]
  },
  {
   "cell_type": "code",
   "execution_count": 39,
   "metadata": {},
   "outputs": [
    {
     "data": {
      "text/plain": [
       "[\"    'Zindagi Na Milegi Dobara',\",\n",
       " \"    'Yeh Jawaani Hai Deewani',\",\n",
       " \"    'War',\",\n",
       " \"    'War' \",\n",
       " \"    'Wake Up Sid',\",\n",
       " \"    'Vicky Donor',\",\n",
       " \"    'Veer-Zaara',\",\n",
       " \"    'Uri: The Surgical Strike',\",\n",
       " \"    'Uri: The Surgical Strike',\",\n",
       " \"    'Thugs of Hindostan',\",\n",
       " \"    'Thappad',\",\n",
       " \"    'Tanhaji: The Unsung Warrior',\",\n",
       " \"    'Talaash',\",\n",
       " \"    'Taare Zameen Par',\",\n",
       " \"    'Super 30',\",\n",
       " \"    'Sultan',\",\n",
       " \"    'Student of the Year',\",\n",
       " \"    'Sonu Ke Titu Ki Sweety',\",\n",
       " \"    'Simmba',\",\n",
       " \"    'Sholay',\",\n",
       " \"    'Sanju',\",\n",
       " \"    'Sanju',\",\n",
       " \"    'Rustom',\",\n",
       " \"    'Rockstar',\",\n",
       " \"    'Rang De Basanti',\",\n",
       " \"    'Raid',\",\n",
       " \"    'Raees',\",\n",
       " \"    'Raazi',\",\n",
       " \"    'Queen',\",\n",
       " \"    'Pink',\",\n",
       " \"    'Piku',\",\n",
       " \"    'Pati Patni Aur Woh',\",\n",
       " \"    'Panga',\",\n",
       " \"    'Padmaavat',\",\n",
       " \"    'Padmaavat',\",\n",
       " \"    'Pad Man',\",\n",
       " \"    'PK',\",\n",
       " \"    'Om Shanti Om',\",\n",
       " \"    'Newton',\",\n",
       " \"    'Neerja',\",\n",
       " \"    'My Name Is Khan',\",\n",
       " \"    'Mulk',\",\n",
       " \"    'Masaan',\",\n",
       " \"    'Luka Chuppi',\",\n",
       " \"    'Lagaan',\",\n",
       " \"    'Kuch Kuch Hota Hai',\",\n",
       " \"    'Kedarnath',\",\n",
       " \"    'Kahaani',\",\n",
       " \"    'Kabir Singh',\",\n",
       " \"    'Kabir Singh',\",\n",
       " \"    'Kabhi Khushi Kabhie Gham',\",\n",
       " \"    'Kabhi Alvida Naa Kehna',\",\n",
       " \"    'Jodhaa Akbar',\",\n",
       " \"    'Jab We Met',\",\n",
       " \"    'Jab Tak Hai Jaan',\",\n",
       " \"    'Housefull',\",\n",
       " \"    'Happy New Year',\",\n",
       " \"    'Haider',\",\n",
       " \"    'Guru',\",\n",
       " \"    'Gully Boy',\",\n",
       " \"    'Golmaal: Fun Unlimited',\",\n",
       " \"    'Gangs of Wasseypur',\",\n",
       " \"    'Fashion',\",\n",
       " \"    'Ek Tha Tiger',\",\n",
       " \"    'Drishyam',\",\n",
       " \"    'Dream Girl',\",\n",
       " \"    'Dilwale',\",\n",
       " \"    'Dilwale Dulhania Le Jayenge',\",\n",
       " \"    'Dil To Pagal Hai',\",\n",
       " \"    'Dil Dhadakne Do',\",\n",
       " \"    'Dil Chahta Hai',\",\n",
       " \"    'Dhadak',\",\n",
       " \"    'Devdas',\",\n",
       " \"    'Delhi-6',\",\n",
       " \"    'Dear Zindagi',\",\n",
       " \"    'Dangal',\",\n",
       " \"    'Dangal',\",\n",
       " \"    'Dabangg',\",\n",
       " \"    'Chhichhore',\",\n",
       " \"    'Chhichhore',\",\n",
       " \"    'Chhapaak',\",\n",
       " \"    'Chennai Express',\",\n",
       " \"    'Black',\",\n",
       " \"    'Bhaag Milkha Bhaag',\",\n",
       " \"    'Barfi!',\",\n",
       " \"    'Bang Bang!',\",\n",
       " \"    'Bala',\",\n",
       " \"    'Bajrangi Bhaijaan',\",\n",
       " \"    'Bajirao Mastani',\",\n",
       " \"    'Bajirao Mastani',\",\n",
       " \"    'Bahubali: The Conclusion',\",\n",
       " \"    'Bahubali: The Beginning',\",\n",
       " \"    'Badlapur',\",\n",
       " \"    'Badhaai Ho',\",\n",
       " \"    'Article 15',\",\n",
       " \"    'Article 15',\",\n",
       " \"    'Andhadhun',\",\n",
       " \"    'Ae Dil Hai Mushkil',\",\n",
       " \"    'A Wednesday',\",\n",
       " \"    '3 Idiots',\",\n",
       " '']"
      ]
     },
     "execution_count": 39,
     "metadata": {},
     "output_type": "execute_result"
    }
   ],
   "source": [
    "movie"
   ]
  },
  {
   "cell_type": "code",
   "execution_count": 49,
   "metadata": {},
   "outputs": [
    {
     "data": {
      "text/plain": [
       "1"
      ]
     },
     "execution_count": 49,
     "metadata": {},
     "output_type": "execute_result"
    }
   ],
   "source": [
    "movie.count(\"    'War',\" )"
   ]
  },
  {
   "cell_type": "code",
   "execution_count": 42,
   "metadata": {},
   "outputs": [
    {
     "name": "stdout",
     "output_type": "stream",
     "text": [
      "2\n",
      "3\n",
      "0\n"
     ]
    }
   ],
   "source": [
    "x = [1, 1 , 2, 5, 5, 5 ]\n",
    "print(x.count(1))\n",
    "print(x.count(5))\n",
    "print(x.count(8))"
   ]
  },
  {
   "cell_type": "code",
   "execution_count": 50,
   "metadata": {},
   "outputs": [
    {
     "data": {
      "text/plain": [
       "2"
      ]
     },
     "execution_count": 50,
     "metadata": {},
     "output_type": "execute_result"
    }
   ],
   "source": [
    "movie.index(\"    'War',\")"
   ]
  },
  {
   "cell_type": "code",
   "execution_count": 51,
   "metadata": {},
   "outputs": [],
   "source": [
    "moviesss = movie.copy() # copies a list to new memory"
   ]
  },
  {
   "cell_type": "code",
   "execution_count": 52,
   "metadata": {},
   "outputs": [
    {
     "data": {
      "text/plain": [
       "[\"    'Zindagi Na Milegi Dobara',\",\n",
       " \"    'Yeh Jawaani Hai Deewani',\",\n",
       " \"    'War',\",\n",
       " \"    'War' \",\n",
       " \"    'Wake Up Sid',\",\n",
       " \"    'Vicky Donor',\",\n",
       " \"    'Veer-Zaara',\",\n",
       " \"    'Uri: The Surgical Strike',\",\n",
       " \"    'Uri: The Surgical Strike',\",\n",
       " \"    'Thugs of Hindostan',\",\n",
       " \"    'Thappad',\",\n",
       " \"    'Tanhaji: The Unsung Warrior',\",\n",
       " \"    'Talaash',\",\n",
       " \"    'Taare Zameen Par',\",\n",
       " \"    'Super 30',\",\n",
       " \"    'Sultan',\",\n",
       " \"    'Student of the Year',\",\n",
       " \"    'Sonu Ke Titu Ki Sweety',\",\n",
       " \"    'Simmba',\",\n",
       " \"    'Sholay',\",\n",
       " \"    'Sanju',\",\n",
       " \"    'Sanju',\",\n",
       " \"    'Rustom',\",\n",
       " \"    'Rockstar',\",\n",
       " \"    'Rang De Basanti',\",\n",
       " \"    'Raid',\",\n",
       " \"    'Raees',\",\n",
       " \"    'Raazi',\",\n",
       " \"    'Queen',\",\n",
       " \"    'Pink',\",\n",
       " \"    'Piku',\",\n",
       " \"    'Pati Patni Aur Woh',\",\n",
       " \"    'Panga',\",\n",
       " \"    'Padmaavat',\",\n",
       " \"    'Padmaavat',\",\n",
       " \"    'Pad Man',\",\n",
       " \"    'PK',\",\n",
       " \"    'Om Shanti Om',\",\n",
       " \"    'Newton',\",\n",
       " \"    'Neerja',\",\n",
       " \"    'My Name Is Khan',\",\n",
       " \"    'Mulk',\",\n",
       " \"    'Masaan',\",\n",
       " \"    'Luka Chuppi',\",\n",
       " \"    'Lagaan',\",\n",
       " \"    'Kuch Kuch Hota Hai',\",\n",
       " \"    'Kedarnath',\",\n",
       " \"    'Kahaani',\",\n",
       " \"    'Kabir Singh',\",\n",
       " \"    'Kabir Singh',\",\n",
       " \"    'Kabhi Khushi Kabhie Gham',\",\n",
       " \"    'Kabhi Alvida Naa Kehna',\",\n",
       " \"    'Jodhaa Akbar',\",\n",
       " \"    'Jab We Met',\",\n",
       " \"    'Jab Tak Hai Jaan',\",\n",
       " \"    'Housefull',\",\n",
       " \"    'Happy New Year',\",\n",
       " \"    'Haider',\",\n",
       " \"    'Guru',\",\n",
       " \"    'Gully Boy',\",\n",
       " \"    'Golmaal: Fun Unlimited',\",\n",
       " \"    'Gangs of Wasseypur',\",\n",
       " \"    'Fashion',\",\n",
       " \"    'Ek Tha Tiger',\",\n",
       " \"    'Drishyam',\",\n",
       " \"    'Dream Girl',\",\n",
       " \"    'Dilwale',\",\n",
       " \"    'Dilwale Dulhania Le Jayenge',\",\n",
       " \"    'Dil To Pagal Hai',\",\n",
       " \"    'Dil Dhadakne Do',\",\n",
       " \"    'Dil Chahta Hai',\",\n",
       " \"    'Dhadak',\",\n",
       " \"    'Devdas',\",\n",
       " \"    'Delhi-6',\",\n",
       " \"    'Dear Zindagi',\",\n",
       " \"    'Dangal',\",\n",
       " \"    'Dangal',\",\n",
       " \"    'Dabangg',\",\n",
       " \"    'Chhichhore',\",\n",
       " \"    'Chhichhore',\",\n",
       " \"    'Chhapaak',\",\n",
       " \"    'Chennai Express',\",\n",
       " \"    'Black',\",\n",
       " \"    'Bhaag Milkha Bhaag',\",\n",
       " \"    'Barfi!',\",\n",
       " \"    'Bang Bang!',\",\n",
       " \"    'Bala',\",\n",
       " \"    'Bajrangi Bhaijaan',\",\n",
       " \"    'Bajirao Mastani',\",\n",
       " \"    'Bajirao Mastani',\",\n",
       " \"    'Bahubali: The Conclusion',\",\n",
       " \"    'Bahubali: The Beginning',\",\n",
       " \"    'Badlapur',\",\n",
       " \"    'Badhaai Ho',\",\n",
       " \"    'Article 15',\",\n",
       " \"    'Article 15',\",\n",
       " \"    'Andhadhun',\",\n",
       " \"    'Ae Dil Hai Mushkil',\",\n",
       " \"    'A Wednesday',\",\n",
       " \"    '3 Idiots',\",\n",
       " '']"
      ]
     },
     "execution_count": 52,
     "metadata": {},
     "output_type": "execute_result"
    }
   ],
   "source": [
    "movie"
   ]
  },
  {
   "cell_type": "code",
   "execution_count": 56,
   "metadata": {},
   "outputs": [
    {
     "name": "stdout",
     "output_type": "stream",
     "text": [
      "[31, 30, 10, 10, 18, 18, 17, 31, 31, 25, 14, 34, 14, 23, 15, 13, 26, 29, 13, 13, 12, 12, 13, 15, 22, 11, 12, 12, 12, 11, 11, 25, 12, 16, 16, 14, 9, 19, 13, 13, 22, 11, 13, 18, 13, 25, 16, 14, 18, 18, 31, 29, 19, 17, 23, 16, 21, 13, 11, 16, 29, 25, 14, 19, 15, 17, 14, 34, 23, 22, 21, 13, 13, 14, 19, 13, 13, 14, 17, 17, 15, 22, 12, 25, 13, 17, 11, 24, 22, 22, 31, 30, 15, 17, 17, 17, 16, 25, 18, 15, 0]\n"
     ]
    }
   ],
   "source": [
    "size_movie = []           # new_list = [operation loop condition]\n",
    "for moviee in movie:      # size_movie = [ len(i) for i in movie]\n",
    "     s = len(moviee)\n",
    "     size_movie.append(s)\n",
    "print(size_movie)"
   ]
  },
  {
   "cell_type": "code",
   "execution_count": 58,
   "metadata": {},
   "outputs": [
    {
     "name": "stdout",
     "output_type": "stream",
     "text": [
      "[31, 30, 10, 10, 18, 18, 17, 31, 31, 25, 14, 34, 14, 23, 15, 13, 26, 29, 13, 13, 12, 12, 13, 15, 22, 11, 12, 12, 12, 11, 11, 25, 12, 16, 16, 14, 9, 19, 13, 13, 22, 11, 13, 18, 13, 25, 16, 14, 18, 18, 31, 29, 19, 17, 23, 16, 21, 13, 11, 16, 29, 25, 14, 19, 15, 17, 14, 34, 23, 22, 21, 13, 13, 14, 19, 13, 13, 14, 17, 17, 15, 22, 12, 25, 13, 17, 11, 24, 22, 22, 31, 30, 15, 17, 17, 17, 16, 25, 18, 15, 0]\n"
     ]
    }
   ],
   "source": [
    "size_movie = [ len(i) for i in movie]\n",
    "print(size_movie)"
   ]
  },
  {
   "cell_type": "code",
   "execution_count": 59,
   "metadata": {},
   "outputs": [
    {
     "name": "stdout",
     "output_type": "stream",
     "text": [
      "[1, 2, 3, 4, 5, 6, 10, 20]\n",
      "[1, 4, 9, 16, 25, 36, 100, 400]\n"
     ]
    }
   ],
   "source": [
    "x = [1, 2, 3, 4, 5, 6, 10, 20]\n",
    "x2 = [i**2 for i in x]\n",
    "print(x)\n",
    "print(x2)"
   ]
  },
  {
   "cell_type": "code",
   "execution_count": 61,
   "metadata": {},
   "outputs": [
    {
     "name": "stdout",
     "output_type": "stream",
     "text": [
      "[1, 2, 3, 4, 5, 6, 10, 20]\n",
      "[4, 16, 36, 100, 400]\n"
     ]
    }
   ],
   "source": [
    "x2_even = [i**2 for i in x if i%2==0]\n",
    "print(x)\n",
    "print(x2_even)"
   ]
  },
  {
   "cell_type": "code",
   "execution_count": null,
   "metadata": {},
   "outputs": [],
   "source": []
  }
 ],
 "metadata": {
  "kernelspec": {
   "display_name": "base",
   "language": "python",
   "name": "python3"
  },
  "language_info": {
   "codemirror_mode": {
    "name": "ipython",
    "version": 3
   },
   "file_extension": ".py",
   "mimetype": "text/x-python",
   "name": "python",
   "nbconvert_exporter": "python",
   "pygments_lexer": "ipython3",
   "version": "3.10.10"
  },
  "orig_nbformat": 4
 },
 "nbformat": 4,
 "nbformat_minor": 2
}
