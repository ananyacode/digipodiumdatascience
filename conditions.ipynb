{
 "cells": [
  {
   "cell_type": "code",
   "execution_count": 1,
   "metadata": {},
   "outputs": [
    {
     "data": {
      "text/plain": [
       "False"
      ]
     },
     "execution_count": 1,
     "metadata": {},
     "output_type": "execute_result"
    }
   ],
   "source": [
    "bool(0)\n",
    "\n"
   ]
  },
  {
   "cell_type": "code",
   "execution_count": 2,
   "metadata": {},
   "outputs": [
    {
     "data": {
      "text/plain": [
       "False"
      ]
     },
     "execution_count": 2,
     "metadata": {},
     "output_type": "execute_result"
    }
   ],
   "source": [
    "bool(\"\")\n"
   ]
  },
  {
   "cell_type": "code",
   "execution_count": null,
   "metadata": {},
   "outputs": [],
   "source": []
  },
  {
   "attachments": {},
   "cell_type": "markdown",
   "metadata": {},
   "source": [
    "# true values\n",
    "- true\n",
    "- any non zero number\n",
    "- any non empty string\n",
    "- any non empty data structure\n",
    "\n",
    "# false vales\n",
    "- False\n",
    "- 0\n",
    "- empty string\n",
    "- empty data structure\n"
   ]
  },
  {
   "attachments": {},
   "cell_type": "markdown",
   "metadata": {},
   "source": [
    "## a python block of code\n",
    "'''python\n",
    "keyword expression;\n",
    "    statement 1\n",
    "    statement 2\n",
    "    ...\n",
    "    statement n\n",
    "statement outside block\n",
    "\n",
    "4 spaces or 1 tab = 1 indentation\n"
   ]
  },
  {
   "cell_type": "code",
   "execution_count": 3,
   "metadata": {},
   "outputs": [
    {
     "name": "stdout",
     "output_type": "stream",
     "text": [
      "world\n"
     ]
    }
   ],
   "source": [
    "print(\"world\") #no space "
   ]
  },
  {
   "cell_type": "code",
   "execution_count": 5,
   "metadata": {},
   "outputs": [
    {
     "name": "stdout",
     "output_type": "stream",
     "text": [
      "x is greater than 25\n"
     ]
    }
   ],
   "source": [
    "x=30\n",
    "if x>25:\n",
    "    print(\"x is greater than 25\")\n"
   ]
  },
  {
   "cell_type": "code",
   "execution_count": 8,
   "metadata": {},
   "outputs": [
    {
     "name": "stdout",
     "output_type": "stream",
     "text": [
      "x is greater than 10\n",
      "x is greater than 50\n",
      "the end\n"
     ]
    }
   ],
   "source": [
    "x = int(input(\"enter a number\"))\n",
    "if x>10:\n",
    "    print(\"x is greater than 10\")\n",
    "if x>50:\n",
    "    print(\"x is greater than 50\")\n",
    "if x>100:\n",
    "    print(\"x is greater than 100\")\n",
    "if x<=10:\n",
    "    print(\"x is smaller than or equal to 10\")\n",
    "print(\"the end\")\n",
    "\n",
    "\n"
   ]
  },
  {
   "cell_type": "code",
   "execution_count": 9,
   "metadata": {},
   "outputs": [
    {
     "name": "stdout",
     "output_type": "stream",
     "text": [
      "number is even\n"
     ]
    }
   ],
   "source": [
    "x = int(input(\"enter a numner\"))\n",
    "if (x%2==0):\n",
    "    print(\"number is even\")\n",
    "if (x%2!=0):\n",
    "    print(\"number is odd\")\n",
    "    "
   ]
  },
  {
   "cell_type": "code",
   "execution_count": 10,
   "metadata": {},
   "outputs": [
    {
     "name": "stdout",
     "output_type": "stream",
     "text": [
      "number is odd\n"
     ]
    }
   ],
   "source": [
    "x = int(input(\"enter a numner\"))\n",
    "if (x%2==0):\n",
    "    print(\"number is even\")\n",
    "else:\n",
    "    print(\"number is odd\")"
   ]
  },
  {
   "cell_type": "code",
   "execution_count": 11,
   "metadata": {},
   "outputs": [
    {
     "name": "stdout",
     "output_type": "stream",
     "text": [
      "y is greater\n"
     ]
    }
   ],
   "source": [
    "x = int(input(\"enter a number\"))\n",
    "y = int(input(\"enter a number\"))\n",
    "z = int(input(\"enter a number\"))\n",
    "if x>y and x>z:\n",
    "    print(\" x is greater\")\n",
    "elif y>x & y>z:\n",
    "    print(\"y is greater\")\n",
    "else:\n",
    "    print(\"z is greater\")\n"
   ]
  },
  {
   "cell_type": "code",
   "execution_count": 12,
   "metadata": {},
   "outputs": [
    {
     "name": "stdout",
     "output_type": "stream",
     "text": [
      "z is greater\n"
     ]
    }
   ],
   "source": [
    "x = int(input(\"enter a number\"))\n",
    "y = int(input(\"enter a number\"))\n",
    "z = int(input(\"enter a number\"))\n",
    "if x>y and x>z:\n",
    "    print(\" x is greater\")\n",
    "if y>x and y>z:\n",
    "    print(\"y is greater\")\n",
    "if z>x and z>y:\n",
    "    print(\"z is greater\")\n"
   ]
  },
  {
   "cell_type": "code",
   "execution_count": 14,
   "metadata": {},
   "outputs": [
    {
     "name": "stdout",
     "output_type": "stream",
     "text": [
      "🟢 username and password valid\n",
      "None\n"
     ]
    }
   ],
   "source": [
    "username = input(\"enter a username\")\n",
    "pwd = input(\"enter your password\")\n",
    "if len(username) < 3:\n",
    "    print (\"🚫 username not valid - characters less than 3\")\n",
    "elif len(pwd) < 8:\n",
    "    print (\"🚫 password weak - use atleast 8 characters\")\n",
    "elif not username.isalpha():\n",
    "    print (\"🚫 username must be alphabetic\")\n",
    "else:\n",
    "    print(print (\"🟢 username and password valid\"))"
   ]
  },
  {
   "cell_type": "code",
   "execution_count": 15,
   "metadata": {},
   "outputs": [
    {
     "name": "stdout",
     "output_type": "stream",
     "text": [
      "🟢 username and password valid\n",
      "None\n"
     ]
    }
   ],
   "source": [
    "username = input(\"enter a username\")\n",
    "pwd = input(\"enter your password\")\n",
    "if len(username) < 3:\n",
    "    print (\"🚫 username not valid - characters less than 3\")\n",
    "if len(pwd) < 8:\n",
    "    print (\"🚫 password weak - use atleast 8 characters\")\n",
    "if not username.isalpha():\n",
    "    print (\"🚫 username must be alphabetic\")\n",
    "if len(username)>=3 and len(pwd)>= 8 and username.isalpha():\n",
    "    print(print (\"🟢 username and password valid\"))"
   ]
  },
  {
   "cell_type": "code",
   "execution_count": 18,
   "metadata": {},
   "outputs": [
    {
     "name": "stdout",
     "output_type": "stream",
     "text": [
      "today is friday\n"
     ]
    }
   ],
   "source": [
    "day = input(\"enter a day\")\n",
    "match day:\n",
    "    case \"saturday\":\n",
    "        print(\"today is saturday\")\n",
    "    case \"sunday\":\n",
    "        print(\"today is sunday\")\n",
    "    case \"monday\":\n",
    "        print(\"today is monday\")\n",
    "    case \"tuesday\":\n",
    "        print(\"today is tuesday\")\n",
    "    case \"wednesday\":\n",
    "        print(\"today is wednesady\")\n",
    "    case \"friday\":\n",
    "        print(\"today is friday\")\n",
    "    case _:\n",
    "        print(\"invalid day\")"
   ]
  },
  {
   "cell_type": "code",
   "execution_count": 19,
   "metadata": {},
   "outputs": [
    {
     "name": "stdout",
     "output_type": "stream",
     "text": [
      "invalid day\n"
     ]
    }
   ],
   "source": [
    "day = input(\"enter a day\")\n",
    "match day:\n",
    "    case \"saturday\":\n",
    "        print(\"today is saturday\")\n",
    "    case \"sunday\":\n",
    "        print(\"today is sunday\")\n",
    "    case \"monday\":\n",
    "        print(\"today is monday\")\n",
    "    case \"tuesday\":\n",
    "        print(\"today is tuesday\")\n",
    "    case \"wednesday\":\n",
    "        print(\"today is wednesady\")\n",
    "    case \"friday\":\n",
    "        print(\"today is friday\")\n",
    "    case _:\n",
    "        print(\"invalid day\")"
   ]
  },
  {
   "cell_type": "code",
   "execution_count": null,
   "metadata": {},
   "outputs": [],
   "source": []
  }
 ],
 "metadata": {
  "kernelspec": {
   "display_name": "base",
   "language": "python",
   "name": "python3"
  },
  "language_info": {
   "codemirror_mode": {
    "name": "ipython",
    "version": 3
   },
   "file_extension": ".py",
   "mimetype": "text/x-python",
   "name": "python",
   "nbconvert_exporter": "python",
   "pygments_lexer": "ipython3",
   "version": "3.10.10"
  },
  "orig_nbformat": 4
 },
 "nbformat": 4,
 "nbformat_minor": 2
}
