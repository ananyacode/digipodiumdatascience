{
 "cells": [
  {
   "cell_type": "markdown",
   "metadata": {},
   "source": [
    "# Python is dynamically typed\n",
    "- type of a variable is not determined until it is assigned a value"
   ]
  },
  {
   "cell_type": "code",
   "execution_count": 1,
   "metadata": {},
   "outputs": [],
   "source": [
    "x = 10           # int\n",
    "y = 12.12        # float\n",
    "name = 'ananya'  # str\n",
    "count = [1,2,3]  # list"
   ]
  },
  {
   "cell_type": "markdown",
   "metadata": {},
   "source": [
    "# Operators in python\n",
    "- Arithmetic operators\t+, -, *, /, //, %, **\n",
    "- Comparison operators\t==, !=, <, <=, >, >=\n",
    "- Logical operators\tand, or, not\n",
    "- Assignment operators\t=, +=, -=, *=, /=, //=, %=, **=\n",
    "- Bitwise operators\t&,\n",
    "- Membership operators\tin, not in\n",
    "- Identity operators\tis, is not"
   ]
  },
  {
   "cell_type": "code",
   "execution_count": 2,
   "metadata": {},
   "outputs": [
    {
     "name": "stdout",
     "output_type": "stream",
     "text": [
      "15\n",
      "5\n",
      "50\n",
      "2.0\n",
      "100000\n",
      "2\n",
      "0\n"
     ]
    }
   ],
   "source": [
    "# Arithmetic Operators\n",
    "x = 10\n",
    "y = 5\n",
    "print(x+y)\n",
    "print(x-y)\n",
    "print(x*y)\n",
    "print(x/y)\n",
    "print(x**y) # x raised to the power y\n",
    "print(x//y) # integral division\n",
    "print(x%y)"
   ]
  },
  {
   "cell_type": "code",
   "execution_count": 4,
   "metadata": {},
   "outputs": [
    {
     "name": "stdout",
     "output_type": "stream",
     "text": [
      "False\n",
      "True\n",
      "False\n",
      "False\n",
      "True\n",
      "True\n"
     ]
    }
   ],
   "source": [
    "# Comparison operators\n",
    "print(x==y)\n",
    "print(x!=y)\n",
    "print(x<y)\n",
    "print(x<=y)\n",
    "print(x>y)\n",
    "print(x>=y)\n"
   ]
  },
  {
   "cell_type": "code",
   "execution_count": null,
   "metadata": {},
   "outputs": [],
   "source": []
  }
 ],
 "metadata": {
  "kernelspec": {
   "display_name": "base",
   "language": "python",
   "name": "python3"
  },
  "language_info": {
   "codemirror_mode": {
    "name": "ipython",
    "version": 3
   },
   "file_extension": ".py",
   "mimetype": "text/x-python",
   "name": "python",
   "nbconvert_exporter": "python",
   "pygments_lexer": "ipython3",
   "version": "3.10.10"
  },
  "orig_nbformat": 4
 },
 "nbformat": 4,
 "nbformat_minor": 2
}
