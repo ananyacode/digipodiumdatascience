{
 "cells": [
  {
   "cell_type": "markdown",
   "metadata": {},
   "source": [
    "# Python is dynamically typed\n",
    "- type of a variable is not determined until it is assigned a value"
   ]
  },
  {
   "cell_type": "code",
   "execution_count": 1,
   "metadata": {},
   "outputs": [],
   "source": [
    "x = 10           # int\n",
    "y = 12.12        # float\n",
    "name = 'ananya'  # str\n",
    "count = [1,2,3]  # list"
   ]
  },
  {
   "cell_type": "markdown",
   "metadata": {},
   "source": [
    "# Operators in python\n",
    "- Arithmetic operators\t+, -, *, /, //, %, **\n",
    "- Comparison operators\t==, !=, <, <=, >, >=\n",
    "- Logical operators\tand, or, not\n",
    "- Assignment operators\t=, +=, -=, *=, /=, //=, %=, **=, <<=, >>=\n",
    "- Bitwise operators\t&, |, ^, ~, <<, >>\n",
    "- Membership operators\tin, not in\n",
    "- Identity operators\tis, is not"
   ]
  },
  {
   "cell_type": "code",
   "execution_count": 2,
   "metadata": {},
   "outputs": [
    {
     "name": "stdout",
     "output_type": "stream",
     "text": [
      "15\n",
      "5\n",
      "50\n",
      "2.0\n",
      "100000\n",
      "2\n",
      "0\n"
     ]
    }
   ],
   "source": [
    "# Arithmetic Operators\n",
    "x = 10\n",
    "y = 5\n",
    "print(x+y)\n",
    "print(x-y)\n",
    "print(x*y)\n",
    "print(x/y)\n",
    "print(x**y) # x raised to the power y\n",
    "print(x//y) # integral division\n",
    "print(x%y)"
   ]
  },
  {
   "cell_type": "code",
   "execution_count": 4,
   "metadata": {},
   "outputs": [
    {
     "name": "stdout",
     "output_type": "stream",
     "text": [
      "False\n",
      "True\n",
      "False\n",
      "False\n",
      "True\n",
      "True\n"
     ]
    }
   ],
   "source": [
    "# Comparison operators\n",
    "print(x==y)\n",
    "print(x!=y)\n",
    "print(x<y)\n",
    "print(x<=y)\n",
    "print(x>y)\n",
    "print(x>=y)\n"
   ]
  },
  {
   "cell_type": "code",
   "execution_count": 1,
   "metadata": {},
   "outputs": [
    {
     "name": "stdout",
     "output_type": "stream",
     "text": [
      "False\n",
      "True\n",
      "False\n",
      "True\n"
     ]
    }
   ],
   "source": [
    "# logical operators\n",
    "a = True\n",
    "b = False\n",
    "print(a and b)\n",
    "print(a or b)\n",
    "print(not a)\n",
    "print(not b)"
   ]
  },
  {
   "cell_type": "code",
   "execution_count": 5,
   "metadata": {},
   "outputs": [
    {
     "name": "stdout",
     "output_type": "stream",
     "text": [
      "5\n",
      "8\n",
      "4\n",
      "8\n",
      "2.6666666666666665\n",
      "0.0\n",
      "0.0\n",
      "0.0\n",
      "8\n",
      "4\n"
     ]
    }
   ],
   "source": [
    "# Assignment operator\n",
    "x = 5  \n",
    "y = 4\n",
    "print(x)\n",
    "x += 3 # x = x + 3\n",
    "print(x)\n",
    "x -= 4 # x = x - 4\n",
    "print(x)\n",
    "x *= 2 # x = x * 2\n",
    "print(x)\n",
    "x /= 3 # x = x / 3\n",
    "print(x) \n",
    "x //= 3 # x = x // 3\n",
    "print(x)\n",
    "x %= 10 # x = x % 10\n",
    "print(x)\n",
    "x **= 4 # x = x ** 4\n",
    "print(x)\n",
    "y <<= 1 # y = y << 2\n",
    "print(y)\n",
    "y >>= 1 # y = y >> 1\n",
    "print(y)"
   ]
  },
  {
   "cell_type": "code",
   "execution_count": 7,
   "metadata": {},
   "outputs": [
    {
     "name": "stdout",
     "output_type": "stream",
     "text": [
      "4\n",
      "7\n",
      "3\n",
      "0\n",
      "320\n",
      "0\n",
      "192\n"
     ]
    }
   ],
   "source": [
    "# bitwise operator\n",
    "x = 5\n",
    "y = 6\n",
    "print( x & y)\n",
    "print(x | y)\n",
    "print(x ^ y)\n",
    "print(x >> y)\n",
    "print(x << y)\n",
    "print(y >> x)\n",
    "print(y << x)"
   ]
  },
  {
   "cell_type": "code",
   "execution_count": 8,
   "metadata": {},
   "outputs": [
    {
     "name": "stdout",
     "output_type": "stream",
     "text": [
      "True\n",
      "False\n",
      "False\n",
      "True\n",
      "True\n",
      "False\n",
      "False\n",
      "True\n"
     ]
    }
   ],
   "source": [
    "# Membership operator\n",
    "count = [1,2,3,4,5]\n",
    "print(3 in count) # 'in' return true if object found else return false\n",
    "print(3 not in count) # 'not in' return true if object not found else return false\n",
    "print(6 in count)\n",
    "print(6 not in count)\n",
    "name = 'ananya'\n",
    "print('an' in name)\n",
    "print('an' not in name)\n",
    "print('cn' in name)\n",
    "print('cn' not in name)\n"
   ]
  },
  {
   "cell_type": "code",
   "execution_count": 10,
   "metadata": {},
   "outputs": [
    {
     "name": "stdout",
     "output_type": "stream",
     "text": [
      "True\n",
      "False\n",
      "False\n",
      "True\n"
     ]
    }
   ],
   "source": [
    "# identity operator\n",
    "x = [1,2,3] # 'is' Returns True if both variables refer to the same object, and False otherwise.\n",
    "y = x\n",
    "z = [1,2,3]\n",
    "print(x is y)\n",
    "print(x is z)\n",
    "print(x is not y)\n",
    "print (x is not z) # 'is not' Returns True if both variables do not refer to the same object, and False otherwise.\n"
   ]
  },
  {
   "cell_type": "markdown",
   "metadata": {},
   "source": [
    "# Input Output in python "
   ]
  },
  {
   "cell_type": "code",
   "execution_count": 12,
   "metadata": {},
   "outputs": [
    {
     "name": "stdout",
     "output_type": "stream",
     "text": [
      "hello ananya !\n"
     ]
    }
   ],
   "source": [
    "name = input('enter your name')\n",
    "greeting = 'hello ' + name + ' ' + '!'\n",
    "print(greeting)"
   ]
  },
  {
   "cell_type": "code",
   "execution_count": 22,
   "metadata": {},
   "outputs": [
    {
     "name": "stdout",
     "output_type": "stream",
     "text": [
      "My name is  ananya and I am 20 year old\n",
      "Name:  ananya, Age: 20 \n",
      "100@1000\n",
      "100 1000@"
     ]
    }
   ],
   "source": [
    "# formatting strings\n",
    "name = ' ananya'\n",
    "age = 20\n",
    "print(f'My name is {name} and I am {age} year old')\n",
    "\n",
    "# spacing\n",
    "print(f\"Name: {name:>3s}, Age: {age:<3d}\")\n",
    "\n",
    "# using end sep\n",
    "x = 100\n",
    "y = 1000\n",
    "print(x, y, sep ='@')\n",
    "print(x, y, end ='@')"
   ]
  },
  {
   "cell_type": "code",
   "execution_count": null,
   "metadata": {},
   "outputs": [],
   "source": []
  }
 ],
 "metadata": {
  "kernelspec": {
   "display_name": "base",
   "language": "python",
   "name": "python3"
  },
  "language_info": {
   "codemirror_mode": {
    "name": "ipython",
    "version": 3
   },
   "file_extension": ".py",
   "mimetype": "text/x-python",
   "name": "python",
   "nbconvert_exporter": "python",
   "pygments_lexer": "ipython3",
   "version": "3.10.10"
  },
  "orig_nbformat": 4
 },
 "nbformat": 4,
 "nbformat_minor": 2
}
